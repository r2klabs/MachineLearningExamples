{
 "cells": [
  {
   "cell_type": "code",
   "execution_count": 3,
   "id": "321bbb20-7a5d-4ae6-b236-28dc0d39854b",
   "metadata": {},
   "outputs": [],
   "source": [
    "import pandas as pd\n",
    "from sklearn.utils import resample"
   ]
  },
  {
   "cell_type": "code",
   "execution_count": 4,
   "id": "da1be365-b73a-4e29-bfae-98ecf068dd1c",
   "metadata": {},
   "outputs": [],
   "source": [
    "long_census = pd.read_csv('adult_census/final_data_set.csv')\n",
    "low = long_census.query(\"salary==0\")\n",
    "high = long_census.query(\"salary==1\")\n",
    "low2 = resample(low, n_samples=7000)\n",
    "high2 = resample(high, n_samples=7000)\n",
    "balanced = pd.concat([low2, high2], axis=0)\n",
    "balanced.to_csv('adult_census/balanced.csv', index=False)"
   ]
  },
  {
   "cell_type": "code",
   "execution_count": null,
   "id": "f55f62fa-8c03-42d6-b2db-f432f8c43d96",
   "metadata": {},
   "outputs": [],
   "source": []
  }
 ],
 "metadata": {
  "kernelspec": {
   "display_name": "Python 3 (ipykernel)",
   "language": "python",
   "name": "python3"
  },
  "language_info": {
   "codemirror_mode": {
    "name": "ipython",
    "version": 3
   },
   "file_extension": ".py",
   "mimetype": "text/x-python",
   "name": "python",
   "nbconvert_exporter": "python",
   "pygments_lexer": "ipython3",
   "version": "3.9.7"
  }
 },
 "nbformat": 4,
 "nbformat_minor": 5
}
