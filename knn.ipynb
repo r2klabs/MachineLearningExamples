{
 "cells": [
  {
   "cell_type": "markdown",
   "id": "00c86b97-0cca-490a-86f6-5fca1a8d4db8",
   "metadata": {},
   "source": [
    "# K-Nearest Neighbor\n",
    "This algorithm looks at the data points closest to the each data point and determines if they are the same class.  Changing the distance parameter/algorithm can give different results."
   ]
  },
  {
   "cell_type": "code",
   "execution_count": 43,
   "id": "e146a30a-2f10-46d9-b71b-a27f5b59f05e",
   "metadata": {},
   "outputs": [],
   "source": [
    "import pandas as pd\n",
    "import numpy as np\n",
    "import matplotlib.pyplot as plt\n",
    "import seaborn as sns\n",
    "%matplotlib inline\n",
    "\n",
    "from sklearn.neighbors import KNeighborsClassifier"
   ]
  },
  {
   "cell_type": "markdown",
   "id": "ef05a47b-120b-4b40-938c-1113d0d93cf2",
   "metadata": {
    "tags": []
   },
   "source": [
    "## LandSat Data\n",
    "\n",
    "The database consists of the multi-spectral values of pixels in 3x3 neighbourhoods in a satellite image, and the classification associated with the central pixel in each neighbourhood. The aim is to predict this classification, given the multi-spectral values. In the sample database, the class of a pixel is coded as a number. The Landsat satellite data is one of the many sources of information available for a scene. The interpretation of a scene by integrating spatial data of diverse types and resolutions including multispectral and radar data, maps indicating topography, land use etc. is expected to assume significant importance with the onset of an era characterised by integrative approaches to remote sensing (for example, NASA's Earth Observing System commencing this decade). Existing statistical methods are ill-equipped for handling such diverse data types. Note that this is not true for Landsat MSS data considered in isolation (as in this sample database). This data satisfies the important requirements of being numerical and at a single resolution, and standard maximum-likelihood classification performs very well. Consequently, for this data, it should be interesting to compare the performance of other methods against the statistical approach. One frame of Landsat MSS imagery consists of four digital images of the same scene in different spectral bands. Two of these are in the visible region (corresponding approximately to green and red regions of the visible spectrum) and two are in the (near) infra-red. Each pixel is a 8-bit binary word, with 0 corresponding to black and 255 to white. The spatial resolution of a pixel is about 80m x 80m. Each image contains 2340 x 3380 such pixels. The database is a (tiny) sub-area of a scene, consisting of 82 x 100 pixels. Each line of data corresponds to a 3x3 square neighbourhood of pixels completely contained within the 82x100 sub-area. Each line contains the pixel values in the four spectral bands (converted to ASCII) of each of the 9 pixels in the 3x3 neighbourhood and a number indicating the classification label of the central pixel. The number is a code for the following classes: Number Class 1 red soil 2 cotton crop 3 grey soil 4 damp grey soil 5 soil with vegetation stubble 6 mixture class (all types present) 7 very damp grey soil NB. There are no examples with class 6 in this dataset. The data is given in random order and certain lines of data have been removed so you cannot reconstruct the original image from this dataset. In each line of data the four spectral values for the top-left pixel are given first followed by the four spectral values for the top-middle pixel and then those for the top-right pixel, and so on with the pixels read out in sequence left-to-right and top-to-bottom. Thus, the four spectral values for the central pixel are given by attributes 17,18,19 and 20. If you like you can use only these four attributes, while ignoring the others. This avoids the problem which arises when a 3x3 neighbourhood straddles a boundary.\n"
   ]
  },
  {
   "cell_type": "code",
   "execution_count": 44,
   "id": "3e435833-4d95-45a4-9ece-b5c65e9ea76b",
   "metadata": {},
   "outputs": [],
   "source": [
    "landsat_train = pd.read_csv(\"LandSat/sat.trn\", sep=\" \",header=None)"
   ]
  },
  {
   "cell_type": "code",
   "execution_count": 45,
   "id": "d652410e-cc5d-4cfa-8ca1-7a072e6440cd",
   "metadata": {},
   "outputs": [
    {
     "data": {
      "text/plain": [
       "Int64Index([ 0,  1,  2,  3,  4,  5,  6,  7,  8,  9, 10, 11, 12, 13, 14, 15, 16,\n",
       "            17, 18, 19, 20, 21, 22, 23, 24, 25, 26, 27, 28, 29, 30, 31, 32, 33,\n",
       "            34, 35, 36],\n",
       "           dtype='int64')"
      ]
     },
     "execution_count": 45,
     "metadata": {},
     "output_type": "execute_result"
    }
   ],
   "source": [
    "landsat_train.columns"
   ]
  },
  {
   "cell_type": "markdown",
   "id": "0d6f6b7f-8918-40ca-9a0e-da3c910e87ab",
   "metadata": {},
   "source": [
    "I can't work with these column names. Based on my reading of the dataset, it appears that that each set of four numbers represent spectral values (R,G, Infrared1 and Infrared2).  The code below will create the column names I need for this data set by creating a Cartesian product of the pixel positions and the spectral values."
   ]
  },
  {
   "cell_type": "code",
   "execution_count": 46,
   "id": "ac71c7a3-34dd-4b30-99e6-bd350dd69e46",
   "metadata": {},
   "outputs": [],
   "source": [
    "positions = ['top_left_','top_middle_','top_right_',\n",
    "           'middle_left_','central_pixel_','middle_right_',\n",
    "           'bottom_left_','bottom_middle_','bottom_right_']"
   ]
  },
  {
   "cell_type": "code",
   "execution_count": 47,
   "id": "52ddd118-3462-4baa-835c-958bad3e0912",
   "metadata": {},
   "outputs": [],
   "source": [
    "pixels = ['r','g','infra1','infra2']"
   ]
  },
  {
   "cell_type": "markdown",
   "id": "39a25133-62fe-4be2-a266-fe4a141d11c9",
   "metadata": {},
   "source": [
    "The product function gets the Cartesian product of two lists."
   ]
  },
  {
   "cell_type": "code",
   "execution_count": 48,
   "id": "e510b2ee-558a-4739-b08c-4bc001b2c8a9",
   "metadata": {},
   "outputs": [],
   "source": [
    "from itertools import product\n",
    "temp = list(product(positions, pixels))"
   ]
  },
  {
   "cell_type": "code",
   "execution_count": 49,
   "id": "2c97bde2-e2ea-4b17-836f-3f924be3cf66",
   "metadata": {},
   "outputs": [
    {
     "data": {
      "text/plain": [
       "[('top_left_', 'r'),\n",
       " ('top_left_', 'g'),\n",
       " ('top_left_', 'infra1'),\n",
       " ('top_left_', 'infra2'),\n",
       " ('top_middle_', 'r'),\n",
       " ('top_middle_', 'g'),\n",
       " ('top_middle_', 'infra1'),\n",
       " ('top_middle_', 'infra2'),\n",
       " ('top_right_', 'r'),\n",
       " ('top_right_', 'g'),\n",
       " ('top_right_', 'infra1'),\n",
       " ('top_right_', 'infra2'),\n",
       " ('middle_left_', 'r'),\n",
       " ('middle_left_', 'g'),\n",
       " ('middle_left_', 'infra1'),\n",
       " ('middle_left_', 'infra2'),\n",
       " ('central_pixel_', 'r'),\n",
       " ('central_pixel_', 'g'),\n",
       " ('central_pixel_', 'infra1'),\n",
       " ('central_pixel_', 'infra2'),\n",
       " ('middle_right_', 'r'),\n",
       " ('middle_right_', 'g'),\n",
       " ('middle_right_', 'infra1'),\n",
       " ('middle_right_', 'infra2'),\n",
       " ('bottom_left_', 'r'),\n",
       " ('bottom_left_', 'g'),\n",
       " ('bottom_left_', 'infra1'),\n",
       " ('bottom_left_', 'infra2'),\n",
       " ('bottom_middle_', 'r'),\n",
       " ('bottom_middle_', 'g'),\n",
       " ('bottom_middle_', 'infra1'),\n",
       " ('bottom_middle_', 'infra2'),\n",
       " ('bottom_right_', 'r'),\n",
       " ('bottom_right_', 'g'),\n",
       " ('bottom_right_', 'infra1'),\n",
       " ('bottom_right_', 'infra2')]"
      ]
     },
     "execution_count": 49,
     "metadata": {},
     "output_type": "execute_result"
    }
   ],
   "source": [
    "temp"
   ]
  },
  {
   "cell_type": "code",
   "execution_count": 50,
   "id": "a134749f-db53-4fa8-bbff-c701156ba210",
   "metadata": {},
   "outputs": [],
   "source": [
    "colnames = list()"
   ]
  },
  {
   "cell_type": "code",
   "execution_count": 51,
   "id": "7f8f98cc-daee-41e1-b753-f8fc586b43d9",
   "metadata": {},
   "outputs": [],
   "source": [
    "for name in temp:\n",
    "    colnames.append(name[0]+name[1])\n",
    "\n",
    "colnames.append('land_type')"
   ]
  },
  {
   "cell_type": "code",
   "execution_count": 52,
   "id": "fcb5443b-b545-4595-a135-b3aa9cf677ad",
   "metadata": {},
   "outputs": [
    {
     "name": "stdout",
     "output_type": "stream",
     "text": [
      "['top_left_r', 'top_left_g', 'top_left_infra1', 'top_left_infra2', 'top_middle_r', 'top_middle_g', 'top_middle_infra1', 'top_middle_infra2', 'top_right_r', 'top_right_g', 'top_right_infra1', 'top_right_infra2', 'middle_left_r', 'middle_left_g', 'middle_left_infra1', 'middle_left_infra2', 'central_pixel_r', 'central_pixel_g', 'central_pixel_infra1', 'central_pixel_infra2', 'middle_right_r', 'middle_right_g', 'middle_right_infra1', 'middle_right_infra2', 'bottom_left_r', 'bottom_left_g', 'bottom_left_infra1', 'bottom_left_infra2', 'bottom_middle_r', 'bottom_middle_g', 'bottom_middle_infra1', 'bottom_middle_infra2', 'bottom_right_r', 'bottom_right_g', 'bottom_right_infra1', 'bottom_right_infra2', 'land_type']\n"
     ]
    }
   ],
   "source": [
    "print(colnames)"
   ]
  },
  {
   "cell_type": "code",
   "execution_count": 53,
   "id": "f5bf95a3-23ca-4a8a-b768-2d1a0af56f58",
   "metadata": {},
   "outputs": [],
   "source": [
    "landsat_train.columns = colnames"
   ]
  },
  {
   "cell_type": "code",
   "execution_count": 54,
   "id": "011b3d61-a822-4205-8e1d-e9d12e770f89",
   "metadata": {},
   "outputs": [
    {
     "data": {
      "text/html": [
       "<div>\n",
       "<style scoped>\n",
       "    .dataframe tbody tr th:only-of-type {\n",
       "        vertical-align: middle;\n",
       "    }\n",
       "\n",
       "    .dataframe tbody tr th {\n",
       "        vertical-align: top;\n",
       "    }\n",
       "\n",
       "    .dataframe thead th {\n",
       "        text-align: right;\n",
       "    }\n",
       "</style>\n",
       "<table border=\"1\" class=\"dataframe\">\n",
       "  <thead>\n",
       "    <tr style=\"text-align: right;\">\n",
       "      <th></th>\n",
       "      <th>top_left_r</th>\n",
       "      <th>top_left_g</th>\n",
       "      <th>top_left_infra1</th>\n",
       "      <th>top_left_infra2</th>\n",
       "      <th>top_middle_r</th>\n",
       "      <th>top_middle_g</th>\n",
       "      <th>top_middle_infra1</th>\n",
       "      <th>top_middle_infra2</th>\n",
       "      <th>top_right_r</th>\n",
       "      <th>top_right_g</th>\n",
       "      <th>...</th>\n",
       "      <th>bottom_left_infra2</th>\n",
       "      <th>bottom_middle_r</th>\n",
       "      <th>bottom_middle_g</th>\n",
       "      <th>bottom_middle_infra1</th>\n",
       "      <th>bottom_middle_infra2</th>\n",
       "      <th>bottom_right_r</th>\n",
       "      <th>bottom_right_g</th>\n",
       "      <th>bottom_right_infra1</th>\n",
       "      <th>bottom_right_infra2</th>\n",
       "      <th>land_type</th>\n",
       "    </tr>\n",
       "  </thead>\n",
       "  <tbody>\n",
       "    <tr>\n",
       "      <th>0</th>\n",
       "      <td>92</td>\n",
       "      <td>115</td>\n",
       "      <td>120</td>\n",
       "      <td>94</td>\n",
       "      <td>84</td>\n",
       "      <td>102</td>\n",
       "      <td>106</td>\n",
       "      <td>79</td>\n",
       "      <td>84</td>\n",
       "      <td>102</td>\n",
       "      <td>...</td>\n",
       "      <td>104</td>\n",
       "      <td>88</td>\n",
       "      <td>121</td>\n",
       "      <td>128</td>\n",
       "      <td>100</td>\n",
       "      <td>84</td>\n",
       "      <td>107</td>\n",
       "      <td>113</td>\n",
       "      <td>87</td>\n",
       "      <td>3</td>\n",
       "    </tr>\n",
       "    <tr>\n",
       "      <th>1</th>\n",
       "      <td>84</td>\n",
       "      <td>102</td>\n",
       "      <td>106</td>\n",
       "      <td>79</td>\n",
       "      <td>84</td>\n",
       "      <td>102</td>\n",
       "      <td>102</td>\n",
       "      <td>83</td>\n",
       "      <td>80</td>\n",
       "      <td>102</td>\n",
       "      <td>...</td>\n",
       "      <td>100</td>\n",
       "      <td>84</td>\n",
       "      <td>107</td>\n",
       "      <td>113</td>\n",
       "      <td>87</td>\n",
       "      <td>84</td>\n",
       "      <td>99</td>\n",
       "      <td>104</td>\n",
       "      <td>79</td>\n",
       "      <td>3</td>\n",
       "    </tr>\n",
       "    <tr>\n",
       "      <th>2</th>\n",
       "      <td>84</td>\n",
       "      <td>102</td>\n",
       "      <td>102</td>\n",
       "      <td>83</td>\n",
       "      <td>80</td>\n",
       "      <td>102</td>\n",
       "      <td>102</td>\n",
       "      <td>79</td>\n",
       "      <td>84</td>\n",
       "      <td>94</td>\n",
       "      <td>...</td>\n",
       "      <td>87</td>\n",
       "      <td>84</td>\n",
       "      <td>99</td>\n",
       "      <td>104</td>\n",
       "      <td>79</td>\n",
       "      <td>84</td>\n",
       "      <td>99</td>\n",
       "      <td>104</td>\n",
       "      <td>79</td>\n",
       "      <td>3</td>\n",
       "    </tr>\n",
       "    <tr>\n",
       "      <th>3</th>\n",
       "      <td>80</td>\n",
       "      <td>102</td>\n",
       "      <td>102</td>\n",
       "      <td>79</td>\n",
       "      <td>84</td>\n",
       "      <td>94</td>\n",
       "      <td>102</td>\n",
       "      <td>79</td>\n",
       "      <td>80</td>\n",
       "      <td>94</td>\n",
       "      <td>...</td>\n",
       "      <td>79</td>\n",
       "      <td>84</td>\n",
       "      <td>99</td>\n",
       "      <td>104</td>\n",
       "      <td>79</td>\n",
       "      <td>84</td>\n",
       "      <td>103</td>\n",
       "      <td>104</td>\n",
       "      <td>79</td>\n",
       "      <td>3</td>\n",
       "    </tr>\n",
       "    <tr>\n",
       "      <th>4</th>\n",
       "      <td>84</td>\n",
       "      <td>94</td>\n",
       "      <td>102</td>\n",
       "      <td>79</td>\n",
       "      <td>80</td>\n",
       "      <td>94</td>\n",
       "      <td>98</td>\n",
       "      <td>76</td>\n",
       "      <td>80</td>\n",
       "      <td>102</td>\n",
       "      <td>...</td>\n",
       "      <td>79</td>\n",
       "      <td>84</td>\n",
       "      <td>103</td>\n",
       "      <td>104</td>\n",
       "      <td>79</td>\n",
       "      <td>79</td>\n",
       "      <td>107</td>\n",
       "      <td>109</td>\n",
       "      <td>87</td>\n",
       "      <td>3</td>\n",
       "    </tr>\n",
       "  </tbody>\n",
       "</table>\n",
       "<p>5 rows × 37 columns</p>\n",
       "</div>"
      ],
      "text/plain": [
       "   top_left_r  top_left_g  top_left_infra1  top_left_infra2  top_middle_r  \\\n",
       "0          92         115              120               94            84   \n",
       "1          84         102              106               79            84   \n",
       "2          84         102              102               83            80   \n",
       "3          80         102              102               79            84   \n",
       "4          84          94              102               79            80   \n",
       "\n",
       "   top_middle_g  top_middle_infra1  top_middle_infra2  top_right_r  \\\n",
       "0           102                106                 79           84   \n",
       "1           102                102                 83           80   \n",
       "2           102                102                 79           84   \n",
       "3            94                102                 79           80   \n",
       "4            94                 98                 76           80   \n",
       "\n",
       "   top_right_g  ...  bottom_left_infra2  bottom_middle_r  bottom_middle_g  \\\n",
       "0          102  ...                 104               88              121   \n",
       "1          102  ...                 100               84              107   \n",
       "2           94  ...                  87               84               99   \n",
       "3           94  ...                  79               84               99   \n",
       "4          102  ...                  79               84              103   \n",
       "\n",
       "   bottom_middle_infra1  bottom_middle_infra2  bottom_right_r  bottom_right_g  \\\n",
       "0                   128                   100              84             107   \n",
       "1                   113                    87              84              99   \n",
       "2                   104                    79              84              99   \n",
       "3                   104                    79              84             103   \n",
       "4                   104                    79              79             107   \n",
       "\n",
       "   bottom_right_infra1  bottom_right_infra2  land_type  \n",
       "0                  113                   87          3  \n",
       "1                  104                   79          3  \n",
       "2                  104                   79          3  \n",
       "3                  104                   79          3  \n",
       "4                  109                   87          3  \n",
       "\n",
       "[5 rows x 37 columns]"
      ]
     },
     "execution_count": 54,
     "metadata": {},
     "output_type": "execute_result"
    }
   ],
   "source": [
    "landsat_train.head()"
   ]
  },
  {
   "cell_type": "code",
   "execution_count": 55,
   "id": "77a34234-f1ac-4163-8227-34865ec96437",
   "metadata": {},
   "outputs": [],
   "source": [
    "landsat_train.to_csv('landsat_train.csv', index=False)"
   ]
  },
  {
   "cell_type": "markdown",
   "id": "5302de78-fcdb-4107-b827-abbd0eff403b",
   "metadata": {},
   "source": [
    "I going to put all of previous code into a function so I can apply it to the test data set."
   ]
  },
  {
   "cell_type": "code",
   "execution_count": 56,
   "id": "001b1326-a83e-418d-8ff6-27a0a83fef19",
   "metadata": {},
   "outputs": [],
   "source": [
    "def prep_data(df):\n",
    "    positions = ['top_left_','top_middle_','top_right_',\n",
    "           'middle_left_','central_pixel_','middle_right_',\n",
    "           'bottom_left_','bottom_middle_','bottom_right_']\n",
    "    \n",
    "    pixels = ['r','g','infra1','infra2']\n",
    "    \n",
    "    temp = list(product(positions, pixels))\n",
    "    \n",
    "    colnames = list()\n",
    "    \n",
    "    for name in temp:\n",
    "        colnames.append(name[0]+name[1])\n",
    "\n",
    "    colnames.append('land_type')\n",
    "    \n",
    "    df.columns = colnames\n",
    "    \n",
    "    return df"
   ]
  },
  {
   "cell_type": "markdown",
   "id": "b1fa8d7d-cf4d-42eb-8794-c01605e97b22",
   "metadata": {},
   "source": [
    "Run the function on the landsat test data set."
   ]
  },
  {
   "cell_type": "code",
   "execution_count": 57,
   "id": "66b73e5d-a56c-47c9-aeda-23d1802325aa",
   "metadata": {},
   "outputs": [],
   "source": [
    "temp = pd.read_csv(\"LandSat/sat.tst\", sep=\" \",header=None)\n",
    "landsat_test = prep_data(temp)"
   ]
  },
  {
   "cell_type": "code",
   "execution_count": 58,
   "id": "02d0e0da-2124-4ef9-ae35-4f9c93a90fb7",
   "metadata": {},
   "outputs": [
    {
     "data": {
      "text/html": [
       "<div>\n",
       "<style scoped>\n",
       "    .dataframe tbody tr th:only-of-type {\n",
       "        vertical-align: middle;\n",
       "    }\n",
       "\n",
       "    .dataframe tbody tr th {\n",
       "        vertical-align: top;\n",
       "    }\n",
       "\n",
       "    .dataframe thead th {\n",
       "        text-align: right;\n",
       "    }\n",
       "</style>\n",
       "<table border=\"1\" class=\"dataframe\">\n",
       "  <thead>\n",
       "    <tr style=\"text-align: right;\">\n",
       "      <th></th>\n",
       "      <th>top_left_r</th>\n",
       "      <th>top_left_g</th>\n",
       "      <th>top_left_infra1</th>\n",
       "      <th>top_left_infra2</th>\n",
       "      <th>top_middle_r</th>\n",
       "      <th>top_middle_g</th>\n",
       "      <th>top_middle_infra1</th>\n",
       "      <th>top_middle_infra2</th>\n",
       "      <th>top_right_r</th>\n",
       "      <th>top_right_g</th>\n",
       "      <th>...</th>\n",
       "      <th>bottom_left_infra2</th>\n",
       "      <th>bottom_middle_r</th>\n",
       "      <th>bottom_middle_g</th>\n",
       "      <th>bottom_middle_infra1</th>\n",
       "      <th>bottom_middle_infra2</th>\n",
       "      <th>bottom_right_r</th>\n",
       "      <th>bottom_right_g</th>\n",
       "      <th>bottom_right_infra1</th>\n",
       "      <th>bottom_right_infra2</th>\n",
       "      <th>land_type</th>\n",
       "    </tr>\n",
       "  </thead>\n",
       "  <tbody>\n",
       "    <tr>\n",
       "      <th>0</th>\n",
       "      <td>80</td>\n",
       "      <td>102</td>\n",
       "      <td>102</td>\n",
       "      <td>79</td>\n",
       "      <td>76</td>\n",
       "      <td>102</td>\n",
       "      <td>102</td>\n",
       "      <td>79</td>\n",
       "      <td>76</td>\n",
       "      <td>102</td>\n",
       "      <td>...</td>\n",
       "      <td>87</td>\n",
       "      <td>79</td>\n",
       "      <td>107</td>\n",
       "      <td>109</td>\n",
       "      <td>87</td>\n",
       "      <td>79</td>\n",
       "      <td>107</td>\n",
       "      <td>113</td>\n",
       "      <td>87</td>\n",
       "      <td>3</td>\n",
       "    </tr>\n",
       "    <tr>\n",
       "      <th>1</th>\n",
       "      <td>76</td>\n",
       "      <td>102</td>\n",
       "      <td>102</td>\n",
       "      <td>79</td>\n",
       "      <td>76</td>\n",
       "      <td>102</td>\n",
       "      <td>106</td>\n",
       "      <td>83</td>\n",
       "      <td>76</td>\n",
       "      <td>102</td>\n",
       "      <td>...</td>\n",
       "      <td>87</td>\n",
       "      <td>79</td>\n",
       "      <td>107</td>\n",
       "      <td>113</td>\n",
       "      <td>87</td>\n",
       "      <td>79</td>\n",
       "      <td>103</td>\n",
       "      <td>104</td>\n",
       "      <td>83</td>\n",
       "      <td>3</td>\n",
       "    </tr>\n",
       "    <tr>\n",
       "      <th>2</th>\n",
       "      <td>80</td>\n",
       "      <td>98</td>\n",
       "      <td>106</td>\n",
       "      <td>79</td>\n",
       "      <td>76</td>\n",
       "      <td>94</td>\n",
       "      <td>102</td>\n",
       "      <td>76</td>\n",
       "      <td>76</td>\n",
       "      <td>94</td>\n",
       "      <td>...</td>\n",
       "      <td>79</td>\n",
       "      <td>79</td>\n",
       "      <td>95</td>\n",
       "      <td>100</td>\n",
       "      <td>79</td>\n",
       "      <td>79</td>\n",
       "      <td>95</td>\n",
       "      <td>96</td>\n",
       "      <td>75</td>\n",
       "      <td>4</td>\n",
       "    </tr>\n",
       "    <tr>\n",
       "      <th>3</th>\n",
       "      <td>76</td>\n",
       "      <td>94</td>\n",
       "      <td>102</td>\n",
       "      <td>76</td>\n",
       "      <td>76</td>\n",
       "      <td>94</td>\n",
       "      <td>102</td>\n",
       "      <td>76</td>\n",
       "      <td>76</td>\n",
       "      <td>94</td>\n",
       "      <td>...</td>\n",
       "      <td>79</td>\n",
       "      <td>79</td>\n",
       "      <td>95</td>\n",
       "      <td>96</td>\n",
       "      <td>75</td>\n",
       "      <td>79</td>\n",
       "      <td>95</td>\n",
       "      <td>100</td>\n",
       "      <td>75</td>\n",
       "      <td>4</td>\n",
       "    </tr>\n",
       "    <tr>\n",
       "      <th>4</th>\n",
       "      <td>76</td>\n",
       "      <td>94</td>\n",
       "      <td>102</td>\n",
       "      <td>76</td>\n",
       "      <td>76</td>\n",
       "      <td>94</td>\n",
       "      <td>102</td>\n",
       "      <td>76</td>\n",
       "      <td>76</td>\n",
       "      <td>89</td>\n",
       "      <td>...</td>\n",
       "      <td>75</td>\n",
       "      <td>79</td>\n",
       "      <td>95</td>\n",
       "      <td>100</td>\n",
       "      <td>75</td>\n",
       "      <td>75</td>\n",
       "      <td>95</td>\n",
       "      <td>100</td>\n",
       "      <td>79</td>\n",
       "      <td>4</td>\n",
       "    </tr>\n",
       "  </tbody>\n",
       "</table>\n",
       "<p>5 rows × 37 columns</p>\n",
       "</div>"
      ],
      "text/plain": [
       "   top_left_r  top_left_g  top_left_infra1  top_left_infra2  top_middle_r  \\\n",
       "0          80         102              102               79            76   \n",
       "1          76         102              102               79            76   \n",
       "2          80          98              106               79            76   \n",
       "3          76          94              102               76            76   \n",
       "4          76          94              102               76            76   \n",
       "\n",
       "   top_middle_g  top_middle_infra1  top_middle_infra2  top_right_r  \\\n",
       "0           102                102                 79           76   \n",
       "1           102                106                 83           76   \n",
       "2            94                102                 76           76   \n",
       "3            94                102                 76           76   \n",
       "4            94                102                 76           76   \n",
       "\n",
       "   top_right_g  ...  bottom_left_infra2  bottom_middle_r  bottom_middle_g  \\\n",
       "0          102  ...                  87               79              107   \n",
       "1          102  ...                  87               79              107   \n",
       "2           94  ...                  79               79               95   \n",
       "3           94  ...                  79               79               95   \n",
       "4           89  ...                  75               79               95   \n",
       "\n",
       "   bottom_middle_infra1  bottom_middle_infra2  bottom_right_r  bottom_right_g  \\\n",
       "0                   109                    87              79             107   \n",
       "1                   113                    87              79             103   \n",
       "2                   100                    79              79              95   \n",
       "3                    96                    75              79              95   \n",
       "4                   100                    75              75              95   \n",
       "\n",
       "   bottom_right_infra1  bottom_right_infra2  land_type  \n",
       "0                  113                   87          3  \n",
       "1                  104                   83          3  \n",
       "2                   96                   75          4  \n",
       "3                  100                   75          4  \n",
       "4                  100                   79          4  \n",
       "\n",
       "[5 rows x 37 columns]"
      ]
     },
     "execution_count": 58,
     "metadata": {},
     "output_type": "execute_result"
    }
   ],
   "source": [
    "landsat_test.head()"
   ]
  },
  {
   "cell_type": "code",
   "execution_count": 59,
   "id": "21311165-4537-4750-b979-937f99484f15",
   "metadata": {},
   "outputs": [],
   "source": [
    "landsat_test.to_csv('landsat_test.csv', index=False)"
   ]
  },
  {
   "cell_type": "code",
   "execution_count": 60,
   "id": "14f64d5d-8af8-48a8-b41d-dafa5a3cbc19",
   "metadata": {},
   "outputs": [
    {
     "data": {
      "text/plain": [
       "land_type\n",
       "1    1072\n",
       "2     479\n",
       "3     961\n",
       "4     415\n",
       "5     470\n",
       "7    1038\n",
       "Name: land_type, dtype: int64"
      ]
     },
     "execution_count": 60,
     "metadata": {},
     "output_type": "execute_result"
    }
   ],
   "source": [
    "landsat_train.land_type.groupby(landsat_train.land_type).count()"
   ]
  },
  {
   "cell_type": "markdown",
   "id": "b40c484e-7e65-42e1-82de-048e16f433d0",
   "metadata": {},
   "source": [
    "For consistency, I will call my data sets X_train, y_train, X_test, and y_test."
   ]
  },
  {
   "cell_type": "code",
   "execution_count": 19,
   "id": "bfd11673-10dd-4223-990d-6a81f2502d5e",
   "metadata": {},
   "outputs": [],
   "source": [
    "#binary_landsat_train = landsat_train.query(\"land_type==1 | land_type==3\")\n",
    "#binary_landsat_test = landsat_train.query(\"land_type==1 | land_type==3\")"
   ]
  },
  {
   "cell_type": "code",
   "execution_count": 61,
   "id": "dd8a488a-ca75-4f07-a35b-1608a995a795",
   "metadata": {},
   "outputs": [],
   "source": [
    "X_train = np.array(landsat_train.iloc[:,0:36])"
   ]
  },
  {
   "cell_type": "code",
   "execution_count": 62,
   "id": "e9d8b0d2-f1e8-450d-ba06-eee8fd2901aa",
   "metadata": {},
   "outputs": [
    {
     "data": {
      "text/plain": [
       "array([[ 92, 115, 120, ..., 107, 113,  87],\n",
       "       [ 84, 102, 106, ...,  99, 104,  79],\n",
       "       [ 84, 102, 102, ...,  99, 104,  79],\n",
       "       ...,\n",
       "       [ 68,  75, 108, ..., 100, 104,  85],\n",
       "       [ 71,  87, 108, ...,  91, 104,  85],\n",
       "       [ 71,  91, 100, ...,  91, 100,  81]], dtype=int64)"
      ]
     },
     "execution_count": 62,
     "metadata": {},
     "output_type": "execute_result"
    }
   ],
   "source": [
    "X_train "
   ]
  },
  {
   "cell_type": "code",
   "execution_count": 63,
   "id": "0c11d4bd-beaf-435b-881f-140e7e144761",
   "metadata": {},
   "outputs": [],
   "source": [
    "y_train = np.array(landsat_train.iloc[:,-1])"
   ]
  },
  {
   "cell_type": "code",
   "execution_count": 23,
   "id": "18d0d500-b635-494b-a02b-83f5a2e1730b",
   "metadata": {},
   "outputs": [
    {
     "data": {
      "text/plain": [
       "array([3, 3, 3, ..., 1, 1, 1], dtype=int64)"
      ]
     },
     "execution_count": 23,
     "metadata": {},
     "output_type": "execute_result"
    }
   ],
   "source": [
    "y_train"
   ]
  },
  {
   "cell_type": "code",
   "execution_count": 64,
   "id": "9aea5755-f9d9-43ad-ab3f-0ae32d6471c1",
   "metadata": {},
   "outputs": [],
   "source": [
    "X_test = np.array(landsat_test.iloc[:,0:36])\n",
    "y_test = np.array(landsat_test.iloc[:,-1])"
   ]
  },
  {
   "cell_type": "markdown",
   "id": "c6ef162f-b511-4e26-952d-f6e1873bbc69",
   "metadata": {},
   "source": [
    "## Background on KNN\n",
    "KNN uses a distance measure to compare each point to each other point; then it determines how close it is to other point based k (neighborhood).  Each point will be assigned to the majority class of the points in k. \n",
    "\n",
    "### Euclidean Distance\n",
    "$$ \\sqrt{\\sum_{i=1}^k{(x_i-y_i)}^2} $$\n",
    "\n",
    "### Manhattan Distance\n",
    "$$ \\sum_{i=1}^k{|x_i-y_i|} $$"
   ]
  },
  {
   "cell_type": "markdown",
   "id": "e9bd3262-e54c-4d57-b842-55901c061060",
   "metadata": {},
   "source": [
    "Create and fit the model."
   ]
  },
  {
   "cell_type": "code",
   "execution_count": 75,
   "id": "fd6978a7-a216-4909-8a3b-eed303b2428b",
   "metadata": {},
   "outputs": [],
   "source": [
    "neigh = KNeighborsClassifier(n_neighbors=10)"
   ]
  },
  {
   "cell_type": "code",
   "execution_count": 76,
   "id": "39f13793-9bfb-4066-96ba-d91171f253b2",
   "metadata": {},
   "outputs": [
    {
     "data": {
      "text/plain": [
       "KNeighborsClassifier(n_neighbors=10)"
      ]
     },
     "execution_count": 76,
     "metadata": {},
     "output_type": "execute_result"
    }
   ],
   "source": [
    "neigh.fit(X_test, y_test)"
   ]
  },
  {
   "cell_type": "markdown",
   "id": "e80e66c2-9357-42c1-989f-cd0e642fc561",
   "metadata": {},
   "source": [
    "Get the predictions (based on X/y test data)"
   ]
  },
  {
   "cell_type": "code",
   "execution_count": 77,
   "id": "1c880e2d-7a4a-4745-b724-910163b2d829",
   "metadata": {},
   "outputs": [],
   "source": [
    "y_pred= neigh.predict(X_test)"
   ]
  },
  {
   "cell_type": "code",
   "execution_count": 78,
   "id": "7ea13b50-64b0-4470-9d8a-8cbbfc0c93e6",
   "metadata": {},
   "outputs": [
    {
     "data": {
      "text/plain": [
       "0.897"
      ]
     },
     "execution_count": 78,
     "metadata": {},
     "output_type": "execute_result"
    }
   ],
   "source": [
    "neigh.score(X_test,y_test)"
   ]
  },
  {
   "cell_type": "markdown",
   "id": "986438c5-1cda-470a-b77c-ae23d3d1a543",
   "metadata": {},
   "source": [
    "We need to meaure the performance."
   ]
  },
  {
   "cell_type": "code",
   "execution_count": 70,
   "id": "959d5655-abc8-4993-b899-668d3370e34f",
   "metadata": {},
   "outputs": [],
   "source": [
    "from sklearn.metrics import accuracy_score, confusion_matrix, classification_report"
   ]
  },
  {
   "cell_type": "code",
   "execution_count": 71,
   "id": "1f4deb09-9e74-46ad-98db-f3b8a0ff1921",
   "metadata": {},
   "outputs": [
    {
     "data": {
      "text/plain": [
       "94.8"
      ]
     },
     "execution_count": 71,
     "metadata": {},
     "output_type": "execute_result"
    }
   ],
   "source": [
    "accuracy_score(y_pred, y_test)*100"
   ]
  },
  {
   "cell_type": "code",
   "execution_count": 72,
   "id": "004aabd0-5ce4-4510-a3a7-55caaa892a7d",
   "metadata": {},
   "outputs": [
    {
     "data": {
      "text/plain": [
       "array([[1058,    5],\n",
       "       [  14,  956]], dtype=int64)"
      ]
     },
     "execution_count": 72,
     "metadata": {},
     "output_type": "execute_result"
    }
   ],
   "source": [
    "cm"
   ]
  },
  {
   "cell_type": "code",
   "execution_count": 73,
   "id": "ff4cb8d3-31c9-473e-b0ef-133e8479a3d2",
   "metadata": {},
   "outputs": [
    {
     "data": {
      "text/plain": [
       "Text(0.5, 24.0, 'Predicted Label')"
      ]
     },
     "execution_count": 73,
     "metadata": {},
     "output_type": "execute_result"
    },
    {
     "data": {
      "image/png": "iVBORw0KGgoAAAANSUhEUgAAAUIAAAE9CAYAAAB+2WuIAAAAOXRFWHRTb2Z0d2FyZQBNYXRwbG90bGliIHZlcnNpb24zLjQuMywgaHR0cHM6Ly9tYXRwbG90bGliLm9yZy/MnkTPAAAACXBIWXMAAAsTAAALEwEAmpwYAAAvNElEQVR4nO3deXwU9f3H8ddnNyHcciZEwiWCiIooGBSUIqiAoMSrxQOtVdFWqxV/KnhWW6na4lkvBESrqCigKCpaQA4PJAqCgMglEiAQw004kuzn98du0kBOlt2d2czn6WMe2Z2d2e+bXfPJd67viKpijDFe5nM6gDHGOM0KoTHG86wQGmM8zwqhMcbzrBAaYzzPCqExxvMSnA5QHvnj6a47r+eNF7c5HaFMPhf+OQsEnE5QWo0aTicoraDA6QSlDS5cIeGsF+7vrL7wdVjtRZJrC6ExJr6Iz/F6FjYrhMaYiLBCaIzxPCuExhjPs0JojPE8ESuExhiPsx6hMcbzrBAaYzwvnguhC0/FNcaY2LIeoTEmIuK5R2iF0BgTEVYIjTGeZ4XQGON5VgiNMZ5nJ1QbYzzPeoTGGM+zQmiM8TwrhC7gEx+ZI15hw/YcLnj+/3hwwPXccOaF5OzaDsA977/Ax0u/ItGfwEtXDKdrqw4EVLlt4pPMXvldzHJ2GzuS5gN7sW9LLh+ddEHM2q2IL6kGfT5/A19SDXwJftZPms4PDz3rdCxS+55Fl6fvRfw+Vo95h2WPvex0JBKPqkeXF/9O/RPagyqZQ+9h6/xFjuVx03dnhdAFbuv9O5Zn/0z9mnWK5z054y1G/XfCQcvdcOYgADr9/Sqa1mvIx7c8yWmPXotqbO4MsGb8ZH769+uc8dpjMWmvKgL7DzDrnGso2JOHJCRwzpwJbPpkDrnzv3csk/h8dH3uAWaeey17szbTd8G7ZE2dyc7lqx3LBHDyqHvJ/nQuX19+G5KYSELtmo7mcdN3F8+FsFpcYte8QVMGnNidMV9MrXTZjqltmLEiE4CcXdvYnreLri2Pj3bEYjlzMzmwdUfM2quqgj15APgSE5DEhJj9YShP4/RO7F61jj1rswjk57PurWmkDerjaKaEenVoetZp/PzKuwBofj75O3Y5mgnc892JT8Ka3CBqhVBEOojI3SLyjIg8HXoclYrz1GW3c9eUfxMIHPw/wC29LuP7e19n7JB7aVC7HgDfZ61kUKez8Pv8tG6cSpeWHWjRKCUaseKK+Hz0/fY9MrK/ZPN/v2TrN4sdzVOreQp71mcXP8/L2kzt5s5+T3XatGB/zla6vvwP+syfQpcX/o6/di1HM4F7vjsrhIcQkbuBtwABvgEWhB6/KSLDI9nWgBN7sGXXNr77ZcVB81+YM5m2919C55FD2LQjl1GX3ArAuC8/JGv7FjKHv8JTl93Ol2uWUFDowluJxZgGAkzvksHUlr+h0WmdOOqEds4GKuOcNKd7qb6EBBqc0pE1o99kRreLKMjbS4c7hzqaCdzz3cVzIYzWPsLrgBNUNb/kTBF5AlgKPFrWSiIyFAj+n9WzDXRMrrShHm07cWGnszj/xO7UTKhB/Vp1+M/v/8qQ8X8tXublee/z4c3/AqAwUMiwd58ufu2L/xvNyi3rD+9fV43l79jFltnzadb3LHYsXelYjr1Z2dRp0az4ee20FPZu3OJYHoC8Ddnszcpm64Jgj2vD5E84zgWFsIjT3108n1AdrU3jAHB0GfNTQ6+VSVVHq2pXVe1alSIIwaPBLe65kDb3XcTgsfczc0UmQ8b/lWb1Gxcvc1Hn3/DDxjUA1EpMonaN4A7uczqkUxAoZHn2z1X9d1VLSU0aknhUcNeBv2YSzfp0Z9eKNY5myl2whHrtWlOndRq+xERaDR7AhqkzHc20f/Ov7M3Kpm77NgAkn32G4wdv3PTdWY+wtL8AM0RkJVDU3WoJHAvcEqU2D/L4xbfQOa0dqvDz1k3c+EawE5pcrxHTb32KQEDZsCOHIeMfikWcYt0njCKlVzpJTRqSsX42ix98ljXj3o1phkPVTE3m9FceRfx+8Anr3/mEjdM+dzSTFhaSecvDnD19DOL3s2bcJHYsW+VoJoCFt/+N9PH/wlcjkT1r15N5wwhH87jpu3NLUQuHRGu/i4j4gHSgOcH9g1nAAlUtrNL6fzzd2R1CZXjjxW1ORyiTz4XH/gPl9vudU6OG0wlKK3Dh7unBhSvCqmipz2eE9Tu76U/vOV5Bo3YeoaoGgK+j9f7GGHeJ5x5htTmh2hjjLDdumVSVFUJjTET44/iosRVCY0xE+ON40ziOO7PGGDfxi4Q1VYWI+EVkoYh8GHreSEQ+E5GVoZ8NSyw7QkRWicgKEelblfe3QmiMiQi/L7ypim4Dlpd4PhyYoartgBmh54hIR2AwcALQD3heRPyVvbkVQmNMRESrRygiacAAYEyJ2YOAV0OPXwUySsx/S1X3q+paYBXB0/gqZPsIjTEREcWDJU8BdwH1SsxLUdVNAKq6SUSKLkVrzsGn7WWF5lXIeoTGmIjw+ySsSUSGikhmian4Am4RGQhsUdVvqxijrGpc6Yne1iM0xkSEP8wOoaqOBkaX83IP4EIROR+oCdQXkdeBzSKSGuoNpgJFI3JkAS1KrJ8GbKwsg/UIjTEREW6PsCKqOkJV01S1NcGDIDNV9SpgKnBNaLFrgPdDj6cCg0UkSUTaAO0IDgVYIesRGmMiIsYnVD8KTBSR64BfgMsAVHWpiEwElgEFwM1VGd/ACqExJiKifUK1qn4OfB56nAuUee8GVX0EeORw3tsKoTEmIsLdR+gGVgiNMRERz5fYWSE0xkREPA+6YEeNjTGeZz1CY0xExHOP0LWF0I3D4l+x7wmnI5RpQs1hTkeICwcOOJ2gejuMARRcx7WF0BgTX6xHaIzxPDtqbIzxPOsRGmM8z/YRGmM8z3qExhjPs32ExhjPsx6hMcbzbB+hMcbzrEdojPE8G4bLGON5PusRGmO8znqExhjPi+OzZ6wQGmMiI557hHF8wNsYYyLDeoTGmIjwxfG2sRVCY0xE2KaxS6X2PYuBP37CBSs/pePdN8Ss3U3Z2xhy3XP0H/QoAy56jFdfnwPAx58uYsBFj9Hh5DtYsnR98fIH8gsYcf+bXHDx41x46T+Zv2BVzLIWceqzqogbM3UbO5KLN3/J+Us+cDpKMbd8Tj4Jb3KDalsIxeej63MPMKv/9UzrOIBWlw+k/vFtY9K23+9n+B2D+Pj94bz9+m1MePsLVq3Opv2xqTz7xLWc1uWYg5Z/Z9LXAHww+S5eeekmHvvXVAKBQEyygrOfVTxlAlgzfjKz+l3vdIxibvqc/BLe5AbVthA2Tu/E7lXr2LM2i0B+PuvemkbaoD4xaTu5aX1O6JgGQN06NTmmTTKbt+yg7TEpHNMmudTyq1Zv5vRu7YK5G9ejXr1a/FCixxhtTn5W8ZQJIGduJge27nA6RjE3fU4+kbAmN6i2hbBW8xT2rM8ufp6XtZnazVNiniNrw1aW/7iBk09qVe4yHY47mhmzllJQUMj6rFyWLl/PpuztMcvols+qJDdmciM3fU7x3COM+cESEblWVV+JQUOlZqlq1JstaU/efm4dNp577sqgbt2a5S53SUY6q9ds5pLLn+To1IaccnJr/An+2AV1wWdVihszuZGLPie37O8LhxNHjR8CyiyEIjIUGApwHcn0pkHYjezNyqZOi2bFz2unpbB345aw3+9w5ecXcuuw8Vww4FTOO6dThcsmJPi5566M4ueDhzxD65ZNopzwf5z+rMrixkxu5KbPKZ5Hn4nKprGILC5nWgKU229X1dGq2lVVux5JEQTIXbCEeu1aU6d1Gr7ERFoNHsCGqTOP6D2rSlW598G3OaZNMtde3avS5ffuPUBe3n4AvvhqBX6/j2PbNqtkrchx8rOKp0xu5KbPKZ6PGkerR5gC9AUOvUu7AF9Gqc2DaGEhmbc8zNnTxyB+P2vGTWLHsticlvLtwrW8/2Em7dulMuiyfwEw7NbzOXCggL/9Ywpbt+3mxptf5vgOzRn74o3kbt3NdTe9hM8npCQfxeMjr4hJziJOflbxlAmg+4RRpPRKJ6lJQzLWz2bxg8+yZty7juVx0+fklv194ZBo7E8QkbHAK6o6r4zXJqhqpb/pE+Q41+0QumLfE05HKNOEmsOcjmCqkSt0RVgl7clFN4X1O3t75xcdL6FR6RGq6nUVvBbb7o4xJibieR+hXWJnjIkIt+zvC4cVQmNMRMTzPkIrhMaYiLAeoTHG8+J5H2G1vcTOGGOqynqExpiIsE1jY4zn2cESY4znuWVIrXBYITTGRIT1CI0xnmc9QmOM51khNMZ4nhVCY4zn+SR+T0u2QmiMiQjrERpjPM8KoTHG86wQGmM8zxfHQxfEb3JjjKtE6wbvIlJTRL4Rke9FZKmIPBSa30hEPhORlaGfDUusM0JEVonIChHpW1kb1iM8DG69N8iUD89wOkIp1175ldMRStm+w+kEpdWu5XSCyInipvF+oLeq7haRRGCeiHwMXAzMUNVHRWQ4MBy4W0Q6AoOBE4Cjgf+KSHtVLSw3e7SSG2O8xSe+sKbKaNDu0NPE0KTAIODV0PxXgYzQ40HAW6q6X1XXAquA9AqzH/a/1hhjyhCtTWMAEfGLyCJgC/CZqs4HUlR1E0DoZ3Jo8ebA+hKrZ4XmlZ/98P6pxhhTtnALoYgMFZHMEtPQQ99bVQtVtTOQBqSLyIkVRCmrulZ4q1HbR2iMcZSqjgZGV3HZ7SLyOdAP2Cwiqaq6SURSCfYWIdgDbFFitTRgY0Xvaz1CY0xERPGocVMRaRB6XAs4B/gRmApcE1rsGuD90OOpwGARSRKRNkA74JuK2rAeoTEmIqJ4rXEq8KqI+Al23iaq6oci8hUwUUSuA34BLgNQ1aUiMhFYBhQAN1d0xBisEBpjIsRX5q65I6eqi4FTypifC/QpZ51HgEeq2oYVQmNMRNgldsYYz7NhuIwxnmc9QmOM51khNMZ4nm0aG2M8z3qExhjPi9bpM7FghdAYExHWIzTGeJ7tI3SpbmNH0nxgL/ZtyeWjky5wOg7gXKZEXyIPnzGCBF8CfvHz9aYFTFz5Href8keOrpMKQO3E2uTl53HnvAfwi5+bOl3LMfVb4fP5mZ31Be+tnhbVjCf9eyTJfXtxICeXud2Dn0274bfQ4urfciB3KwArHn6CnM/mRDVHRdzy/9QpL46kWb9e7M/JZeZpwRyJDY/itNeepHar5uSt28CCIX8hf/vOmGWK5x5h/JbwKlgzfjKz+l3vdIyDOJUpP5DPQ18/xp1zH+DOuQ/QuelJtGvQlicXvsCd8x7gznkPMD87k/nZmQCckXoaib5E7ph7P3fP/SvntjybprWaRDVj1oTJLLi09Gez9vnxzDsrg3lnZThaBME9/0/98p/JfJlxcI72dwwl5/Ov+G+nvuR8/hXt7ig1mlVUifjCmtzAHSmiJGduJge2umt8dicz7SvcD4Bf/Ph9fvSQIdrOSD2NeRvnA6AoSf4kfOKjhj+RgkABewv2RjXfti8zyd/mru/rUG75fyr3i0zyD8nRbGAffnnjPQB+eeM9Ui84J6aZfGH+5wbVetPYHMyH8NiZD9GsTjKfrJvBqu1ril87vlF7duzfSXbeZgC+3pTJaSmn8nKfp6jhT+LVZRPYnb/Hkdythl5J88sz2LHwB5bf+ygFO2K3uRdPaiY3Zn92DgD7s3NIatoopu27pXcXjqglF5EOItJHROoeMr9ftNo0FQug3DnvAW6cMYxjGxxDi7r/G738zKNPL+4NAhzboA0BDTB0xu3cPOv/uOCYfiTXahrzzOvGvsnnnc9l3pmD2J+9heMfGR7zDKb6K7cQisizIvJMeVNFbyoitxIcJPHPwA8iMqjEyyMrWK94yO6ZbD/Mf4qpqryCPJbm/kjn5JOA4NG+9GZd+HLT/wrhmUefwaKcJRRqITsP7OLHbStp26B1zLMeyMmFQABUWf/aOzQ49aSYZ4gX+7bkktQs+McqqVlT9udsjWn70bp5UyxUlCIT+LaCqSI3AF1UNQPoBdwvIreFXiv30JKqjlbVrqratTcNqpLfVFH9GvWonVAbgBq+RDo16ciG3ZsA6NTkBDbu3sTWfduKl/91by4nNj4egCR/Ddo3aFu8fCwlpfyvF5oy8Bx2LV8Z8wzxInvaTFpemQFAyyszyP5wRkzbF3xhTW5Q7j5CVX215HMRqaOqVd1J5C+6/Z6q/iwivYB3RaQVFRTCSOs+YRQpvdJJatKQjPWzWfzgs6wZ926smndVpgZJR3HLyTfgEx8iwlcbv+G7Ld8D0CO120GbxQDT183gTydfzxM9H0GAWVnz+GVXVlQzdh4zikZnplOjcUPOXjqblY8+S+Mz06l/YgcU2PvLBn74ywNRzVAZt/w/1XX8KJr0DH5WfVfO5se/P8tPo0aT/p+naHXNpexdv4lvrrqt8jeKILf07sIhqhXe3AkROQMYC9RV1ZYicjJwo6r+qYJ1ZgLDVHVRiXkJwDjgSlX1VxZsghxXcTBTzG7wXjV2g/eqychbEVZnJWv36LB+Z9PqDnX8BMSqlPCngL5ALoCqfg/0rGSdq4HskjNUtUBVr67CusaYOBTP+wirdPqMqq6Xg88ar/BGKKpa7jaUqn5RtWjGmHgSz6fPVKUQrheR7oCKSA3gVmB5dGMZY+KNW06ODkdVCuFNwNNAc2ADMB24OZqhjDHxp1r3CFX1V+DKGGQxxsQxt+zvC0elyUXkGBH5QERyRGSLiLwvIsfEIpwxJn4I/rAmN6hKCZ8ATCR4t/mjgXeAN6MZyhgTf+L5qHFVUoiq/id0+kuBqr4O2Dl+xpiDVMsrS0SkaOiKWSIyHHiLYAH8HRDdETqNMXHHLb27cFR0sORbgoWv6ATCG0u8psDfohXKGBN/quVRY1VtE8sgxpj4Vt3PI0RETgQ6AjWL5qnqa9EKZYyJP9WyR1hERB4kOJRWR+AjoD8wD7BCaIypFqpSwi8F+gDZqnotcDKQFNVUxpi4E8+nz1Rl03ivqgZEpEBE6gNbADuh2hhzELecChOOqhTCTBFpALxM8EjybuCbaIYyxsQft/TuwlGVa42LBmB9UUQ+Aeqr6uLoxjLGxJtq2SMUkVMrek1Vv4tOJGNMPKquPcJRFbymQO8IZzHGxLFqefqMqp4dyyAmfNdc7r77g/Rf+AenI5Ty5rHjnI5QSkKVzuSNDxLuCASO37GkiidUG2NMpTQQ3npWCI0x1Ua4hdAFrBAaYyIjjgthVUaoFhG5SkQeCD1vKSLp0Y9mjIkrGghvcoGqHOZ5HjgDuDz0fBfwXNQSGWPiUyAQ3uQCVdk07qaqp4rIQgBV3Ra6racxxvyPS3p34ahKIcwXET+h4flFpCkQv/9iY0x0VPNC+AwwBUgWkUcIjkZzX1RTGWPiT3UuhKr6hoh8S3AoLgEyVHV51JMZY+KLS/b3haMqA7O2BPKAD0rOU9VfohnMGGNipSqbxtP4302cagJtgBXACVHMZYyJN9V80/ikks9Do9LcWM7ixhivqs6F8FCq+p2InBaNMMaYOFadC6GIDCvx1AecCuRELZExJi6pFoa1XmVjLohIC4I3i2tG8NS90ar6tIg0At4GWgM/A79V1W2hdUYA1wGFwK2qOr2iNqpyZUm9ElMSwX2Gg6qwnjHGS6J3ZUkBcIeqHg+cDtwsIh2B4cAMVW0HzAg9J/TaYILHMfoBz4fOhS5XhT3C0Mp1VfXOqqQ1xnhYlDaNVXUTsCn0eJeILAeaE+yQ9Qot9irwOXB3aP5bqrofWCsiq4B0oNyBO8vtEYpIggb7uuUO2W+MMcXCHHRBRIaKSGaJaWh5TYhIa+AUYD6QEiqSRcUyObRYc2B9idWyQvPKVdGmcdGd6haJyFQRGSIiFxdNFX4gLpHa9ywG/vgJF6z8lI533+B0HMA9mTo9N5JzV39Jz68/KPXaMX/+AwN3riCxUcOo57jnybl0v3wCF/xxcvG85atz+d3tH5Bxy3tccuv7LF4R3CW9bec+rh7+Eade/BoPP+/MqNzdxo7k4s1fcv6S0p9bLLnl+ztImIVQVUeratcS0+iy3l5E6gKTgL+o6s4KkpS127HC8bOrso+wEZBL8B4lA4ELQj9dTXw+uj73ALP6X8+0jgNodflA6h/f1jKFZL0xmfkXX19qfs3mzWjSuzt5v2yISY6LzmnHy38776B5/xy3gJuv6Mx7/87g1iGn8s9xCwBIquHntiGnctd1zo0Ct2b8ZGb1K/25xZpbvr+DRHEYLhFJJFgE31DVor+am0UkNfR6KsF7rkOwB9iixOppwMaK3r+iQpgcOmL8A7Ak9HNp6OcPVUrvoMbpndi9ah171mYRyM9n3VvTSBvUxzKFbP0yk/xtO0rNP+EfI1h+/z9Bw70BxeE57aRmHFUv6aB5IsLuvHwAdu05QHKj2gDUrplIlxOaUaNGhfu9oypnbiYHtpb+3GLNLd/fQaJ0sEREBBgLLFfVJ0q8NBW4JvT4GuD9EvMHi0iSiLQB2lHJvdgrOljiB+oSRjczFD4dUFVdEDqK0w/4UVU/qmzdSKjVPIU967OLn+dlbaZJt06xaLpcbsxUUkr/3uzbtIVdP6xwNMc9Q7tx/f3TeXzsAgKqvPkv12+AuILj31/0ziPsAQwBlojIotC8e4BHgYkich3wC3AZgKouFZGJwDKCR5xv1krO7amoEG5S1YfDSS0iDwL9gQQR+QzoRvCIznAROUVVHwnnfQ8zRKlZ6sRfyZLcmCnEV6smx955E/MznL/73Jsf/cjwG7rR98zWfDxnDfc9PZdXRvZ3OparueL7i95R43mUf7phmZtUoRpT5TpT0abxkdxb6lKCVbwncDPBEWseBvoCvyu3wRJHj2ay/Qiah71Z2dRp0az4ee20FPZu3FLBGtHnxkxF6rRpSe1WafT84n16L5lBzebN6Dl3MknJTWKe5b3/ruS8Hq0A6HdWGxav+DXmGeKNK76/OB6qv6Ie4ZHsvCoIdUXzRGR10REeVd0rIuX+y0NHi0YDTJDjjqirlLtgCfXataZO6zT2bthMq8ED+PKKO47kLY+YGzMV2bXsJz5r2734ee8lM5j7m0vJ37ot5lmSG9fmmyXZdOuUytffb6JV8/oxzxBvXPH9VcdhuFR16xG87wERqa2qeUCXopkichQxGt1aCwvJvOVhzp4+BvH7WTNuEjuWrYpF03GR6ZRxo2h8Zjo1Gjekz/LZ/DTyWdb/592Y5xj22CwWLM5m2859/GbIW/z5qlP52609eOSl+RQWBkhK9PPwn3sUL9/79xPZk3eA/IIAM75ax9hH+nJsy9idJtJ9wihSeqWT1KQhGetns/jBZ1kzLvafm1u+v4O4pHcXDonGPioRSQqd1X3o/CZAqqouqew9jrRH6CX16zmdoLQBC53f13ioN48d53SEUtz43Q3cuSKs3WK67l9h/c5Kq/9z/BbvUbmvcVlFMDT/V8B2+BhjXMVu8G6MiYzquI/QGGMOSyB+92ZZITTGRIb1CI0xnmeF0BjjebZpbIzxPOsRGmM8zwqhMcbzbNPYGON51iM0xnie9QiNMZ5nPUJjjOdZITTGeF24I1k5PvQMVgiNMZFiPUJjjOdZITTGeJ4dNTbGeJ71CI2Tdu5yOkFpb7d337D4V+x7ovKFYmxi3WFORzBYITTGRIr1CI0xnmf7CI0xnmc9QmOM51khNMZ4nm0aG2M8z3qExhjPs0JojPE82zQ2xnie9QiNMV6nhdYjNMZ4nW0aG2M8z3qExhivU+sRGmM8z3qExhjPK7SjxsYYj4vnTWOf0wGMMcZp1bpH2G3sSJoP7MW+Lbl8dNIFTscB3JkJILXvWXR5+l7E72P1mHdY9tjLjuapndaMbuMfp2azJhAIsPrlifz07GsxaXtT9jbuuncCv/66C59P+O0lZ3DNVT15bNRUZs1eRmKin5YtGvOPhy+nfv1aALw05r+8O2U+Pp+P+4ZfxFk9OsQkaxHx+Thn/iT2btjMvIybYtp2sTjeR1ite4Rrxk9mVr/rnY5xEDdmEp+Prs89wKz+1zOt4wBaXT6Q+se3dTRToKCQRXc+yscnns9n3X/HsX+6ImaZ/H4/w+8YxMfvD+ft129jwttfsGp1Nj3OOI4PJ9/JB5PupHWrprw09r8ArFqdzbRPFjJtyt2MeWEoDz0yicIY7y9rd+vV7Fy+OqZtlhLQ8CYXqNaFMGduJge27nA6xkHcmKlxeid2r1rHnrVZBPLzWffWNNIG9XE0077sHLYtXAZAwe497PxxDbWap8Sk7eSm9TmhYxoAdevU5Jg2yWzesoMzux9HQoIfgM6dWpG9Ofg9zpj1AwP6nUKNGgm0SGtMq5ZNWPzDLzHJClCreQqp/Xuxdty7MWuzLFqoYU1uELNCKCKx2a4xh61W8xT2rM8ufp6XtZnaMSo6VVGnVXMadj6e3Pnfx7ztrA1bWf7jBk4+qdVB8ydN+YaeZwY3fzdv2UGzZg2KX0tJOYrNm2P3x67zqHtYPOKfqNPX+gYC4U0uEJV9hCIy9dBZwNki0gBAVS+MRrsmTCKlZqm64y91Qp3a9HjnGRYOG0nBrj0xbXtP3n5uHTaee+7KoG7dmsXzXxj9Gf4EHxcO6AJAWR9VGR9pVKSe34v9OVvZ9t1SmvZMj02j5XFJ7y4c0TpYkgYsA8YASrAQdgVGVbSSiAwFhgJcRzK9aRCleKakvVnZ1GnRrPh57bQU9m7c4mCiIElIoMe7z7BuwgdkTfkspm3n5xdy67DxXDDgVM47p1Px/CnvL+DzOcsY//IfkVC1a5ZyFNnZ24uX2bx5B8nJR8UkZ5Pup3L0wN6k9uuJr2YSifXr0u3VfzL/mjtj0n5JdvpMaV2Bb4F7gR2q+jmwV1Vnq+rs8lZS1dGq2lVVu1oRjJ3cBUuo1641dVqn4UtMpNXgAWyYOtPpWKSPeYSdy9ew4qnxMW1XVbn3wbc5pk0y117dq3j+nHnLefmVmbzwzHXUqlWjeH7vXicy7ZOFHDhQwPqsXH5el0OnE1vGJOuS+57gwza/YVq7Pnx95TC2zPrakSIIBHuE4UwuEJUeoaoGgCdF5J3Qz83Raqsi3SeMIqVXOklNGpKxfjaLH3yWNQ7vUHZjJi0sJPOWhzl7+hjE72fNuEnsWLbK0UxNenShzZAMti9eQd9v3wNg8X1PsOnjOVFv+9uFa3n/w0zat0tl0GX/AmDYrefz90encOBAIdfe+CIAJ3dqxcP3X0a7Y5vR/7zOnJ/xGH6/jwfuuQS/v1ofhyybS4paOCQW+4JEZADQQ1Xvqeo6E+S4+P1UDT4X1oHBeU84HaGUiXWHOR2hlN/mrwhrD+e+RwaF9Ttb8973Y7RHtXwx6aWp6jRgWizaMsY4JI6vNXbh321jTDzSgIY1VUZExonIFhH5ocS8RiLymYisDP1sWOK1ESKySkRWiEjfqmS3QmiMiYzoHSwZD/Q7ZN5wYIaqtgNmhJ4jIh2BwcAJoXWeFxF/ZQ1YITTGREaULrFT1TnA1kNmDwJeDT1+FcgoMf8tVd2vqmuBVUClJ1hW60EXjDGxE+PL5VJUdROAqm4SkeTQ/ObA1yWWywrNq5D1CI0xkRFmj1BEhopIZolp6BGkKOsIdKUV2nqExpjICPOosaqOBkYf5mqbRSQ11BtMBYouhcoCWpRYLg3YWNmbWY/QGBOPpgLXhB5fA7xfYv5gEUkSkTZAO+Cbyt7MeoTGmIiI1rXGIvIm0AtoIiJZwIPAo8BEEbkO+AW4DEBVl4rIRIJjHRQAN6tqYWVtWCE0xkRGlA6WqOrl5bxU5qCZqvoI8MjhtGGF0BgTEfE8+owVQmNMRLhltOlwWCE0xkSE9QiNMZ4XsB6hMcbrrEdojPE8x28edQSsEBpjIsIOlhhjPM82jY0xnmc9Qo9w43043KpuHacTlDa5gfvuD/KHEWlORyjlt2GuZz1CY4znBawQGmO8zjaNjTGeZ5vGxhjPi+dCaLv/jTGeZz1CY0xE2D5CY4zn2SV2xhjPsx6hMcbz4vlgiRVCY0xE2AnVxhjPs01jY4zn2aaxMcbzrEdojPE86xEaYzzPCqExxvNs09ilUvueRZen70X8PlaPeYdlj73sdCRqpzWj2/jHqdmsCQQCrH55Ij89+5plAjo9N5KUfr3Yn5PLnNMvAKD9fbfR7Pw+aCDAgV9zWXTTCPZnb4l5tiLH/vkaWv/+MlSVnUt/4tuhIwjsPxCz9n3iY+5Nz7NxZy6XvXEv9/f+PQM69CCgAXL2bOfGKY+TvSuXRH8Cz1xwO6c2b09Albs+eo65P38f1WzxfPpMtR10QXw+uj73ALP6X8+0jgNodflA6h/f1ulYBAoKWXTno3x84vl81v13HPunKxzP5ZZMWW9MZv7F1x80b83TY5jT/ULmnpnB5k8+p/3dN8c8V5GaRyfT9k9XM7PHJczoegHi95N22YCYZvjTGRezIueX4udPfTGR05+/ge4v3MgnK75mRK8hAFzbJZir23M3cOGrdzGy302ISFSzBQLhTW5QbQth4/RO7F61jj1rswjk57PurWmkDerjdCz2ZeewbeEyAAp272Hnj2uo1TzFMgFbv8wkf9uOg+YV7NpT/NhfuxaqzvY6JMGPv1ZNxB/8uW9T7HqnR9dvQr/23Xj124+K5+3an1f8uHaNmsWfT4emrfh8zUIAcvZsZ8e+3Zx6dPuo5ovnQlhtN41rNU9hz/rs4ud5WZtp0q2Tg4lKq9OqOQ07H0/u/OhushwON2Y67v6/kHZ5Bvk7d/H1gKsdy7Fv4xZWPjWO/j/NonDvfjbP+IItM76IWfuP97+Z+6aPpl5S7YPmP9jnD1ze+Vx27tvD+a/cAcCS7NUM7NCdd3+YSVr9ZDqntiftqGS+3bAiavncUtTCEZMeoYicKSLDROS8WLQXarTULKd7EyUl1KlNj3eeYeGwkQf1epzkxkwAK/72FDM69mLDxA9ofeNVjuVIbFCf1IF9+OT4Pnx0zFkk1KlFi8EXxqTtfu1PJ2fPNhZtWlnqtYdmjKPDqMt5e/EMbuyWAcBrCz9mw84c5t74Ao/1/xPz1y+lIFAY1YwBDW9yg6gUQhH5psTjG4B/A/WAB0VkeAXrDRWRTBHJnMn2I8qwNyubOi2aFT+vnZbC3o3O7WQvSRIS6PHuM6yb8AFZUz5zOg7gzkyH2vjOhzS7MHZ/Sw+V3Ls7eT9nceDXbWhBARvf+5TGp58Sk7ZPb3kC5x/XnaW3v8H4y+7jN206M+aSEQctM3HxDAZ1PAuAwkCA4Z+8QPcXbmTwmw9wVM26rM7dEJOs8ShaPcLEEo+HAueq6kPAecCV5a2kqqNVtauqdu1NgyMKkLtgCfXataZO6zR8iYm0GjyADVNnHtF7Rkr6mEfYuXwNK54a73SUYm7MBFCnbavixynn92bPT2scy5K3fiON0k/GX6smAE3PPoOdK1bHpO2//ncsx40azAlPXsnv3/k7s9cu4vpJ/6Bto+bFywzo0J2ffl0PQK3EJGonBnOe3bYLhYFCfsxZF9WMto+wNJ+INCRYaEVVcwBUdY+IFESpzYNoYSGZtzzM2dPHIH4/a8ZNYseyVbFoukJNenShzZAMti9eQd9v3wNg8X1PsOnjOZ7PdMq4UTQ+M50ajRvSZ/lsfhr5LMnn9aROuzYQUPau38CSvzwY00wlbVuwmA1TptP7qykECgrY8f1yfh77tmN5AB4+93raNWlBQJVfdmzmtqlPAdC0TgPeu/oxVANs3Pkr10/6R9SzuKWohUOisd9MRH4GAoAACnRX1WwRqQvMU9XOlb3HBDnOJXsP/sdu8F51brzB+4F8pxOUdvWd7rvB++6HZ4R1ns38th3C+p3ttvrH6J7XUwVR6RGqautyXgoAF0WjTWOMs+K5RxjT02dUNQ9YG8s2jTGxYYXQGON5VgiNMZ5nhdAY43lWCI0xnuemK7cOlxVCY0xEWI/QGON5VgiNMZ5nhdAY43lWCI0xnmeF0BjjeVYIjTGeZ4XQGON5bhltOhw2sJQxxvOsEBpjIiKaI1SLSD8RWSEiqyq63Ue4bNPYGBMR0dpHKCJ+4DngXCALWCAiU1V1WaTasEJojImIKB4sSQdWqeoaABF5CxgEWCE0xrhLFAthc2B9iedZQLdINuDaQniFrojYfQxEZKiqjo7U+0WCZaoaN2aCyOW6OBJhQpz+rML9nRWRoQTvdllk9CH/jrLeN6LHqL1ysGRo5YvEnGWqGjdmAnfmcmOmSpW8jW9oOrSYZwEtSjxPAzZGMoNXCqExJn4tANqJSBsRqQEMBqZGsgHXbhobYwyAqhaIyC3AdMAPjFPVpZFswyuF0HX7mLBMVeXGTODOXG7MFBGq+hHwUbTePyo3eDfGmHhi+wiNMZ5XrQthtC/LCYeIjBORLSLyg9NZiohICxGZJSLLRWSpiNzmgkw1ReQbEfk+lOkhpzMVERG/iCwUkQ+dzgIgIj+LyBIRWSQimU7niUfVdtM4dFnOT5S4LAe4PJKX5YSZqyewG3hNVU90MksREUkFUlX1OxGpB3wLZDj5WYmIAHVUdbeIJALzgNtU9WunMhURkWFAV6C+qg50QZ6fga6q+qvTWeJVde4RFl+Wo6oHgKLLchylqnOArU7nKElVN6nqd6HHu4DlBM/mdzKTquru0NPE0OT4X20RSQMGAGOczmIipzoXwrIuy3H0lzseiEhr4BRgvsNRijZBFwFbgM9U1fFMwFPAXYCbhiFV4FMR+TZ0lYY5TNW5EEb9spzqRkTqApOAv6jqTqfzqGqhqnYmeCVBuog4uitBRAYCW1T1WydzlKGHqp4K9AduDu1+MYehOhfCqF+WU52E9sNNAt5Q1clO5ylJVbcDnwP9nE1CD+DC0D65t4DeIvK6s5FAVTeGfm4BphDcLWQOQ3UuhFG/LKe6CB2YGAssV9UnnM4DICJNRaRB6HEt4BzgRyczqeoIVU1T1dYE/3+aqapXOZlJROqEDnAhInWA8wDXnJEQL6ptIVTVAqDospzlwMRIX5YTDhF5E/gKOE5EskTkOqczEezpDCHYw1kUms53OFMqMEtEFhP8o/aZqrridBWXSQHmicj3wDfANFX9xOFMcafanj5jjDFVVW17hMYYU1VWCI0xnmeF0BjjeVYIjTGeZ4XQGON5VgjjnIgUhk53+UFE3hGR2kfwXuNF5NLQ4zEi0rGCZXuJSPcw2vhZRJpUdX457/F7Efl3JNo1BqwQVgd7VbVzaCSbA8BNJV8MjcJz2FT1+kpGn+kFHHYhNMaNrBBWL3OBY0O9tVkiMgFYEhq84J8iskBEFovIjRC8okRE/i0iy0RkGpBc9EYi8rmIdA097ici34XGBpwRGpjhJuD2UG/0rNCVIJNCbSwQkR6hdRuLyKeh8fteouxrwMskIuki8mVo3S9F5LgSL7cQkU9C400+WGKdq0LjGC4SkZfC/UNgvMUr9yyp9kQkgeBF90VXFaQDJ6rq2tCIJDtU9TQRSQK+EJFPCY4ycxxwEsErFJYB4w5536bAy0DP0Hs1UtWtIvIisFtV/xVabgLwpKrOE5GWBK/oOR54EJinqg+LyAAO75aTP4baLRCRc4CRwCUl/31AHrAgVMj3AL8jOAhBvog8D1wJvHYYbRoPskIY/2qFhqqCYI9wLMFN1m9UdW1o/nlAp6L9f8BRQDugJ/CmqhYCG0VkZhnvfzowp+i9VLW8sRTPAToGL1sGoH7oGtiehO5jrqrTRGTbYfzbjgJeFZF2BEcOSizx2meqmgsgIpOBM4ECoAvBwghQi+AQXsZUyAph/NsbGqqqWKgI7Ck5C/izqk4/ZLnzqXxoMqnCMhDczXKGqu4tI0u413H+DZilqheFNsc/L/Haoe+poayvquqIMNszHmX7CL1hOvDH0FBbiEj70Eglc4DBoX2IqcDZZaz7FfAbEWkTWrdRaP4uoF6J5T4lOMgFoeU6hx7OIbh5ioj0BxoeRu6jgA2hx78/5LVzRaRRaGSaDOALYAZwqYgkF2UVkVaH0Z7xKCuE3jCG4P6/7yR406iXCG4NTAFWAkuAF4DZh66oqjkE9+tNDo1w8nbopQ+Ai4oOlgC3Al1DB2OW8b+j1w8BPUXkO4Kb6L9UkHNxaESeLBF5Angc+IeIfEHwxt4lzQP+AywCJqlqZugo930ER2teDHxGcBQbYypko88YYzzPeoTGGM+zQmiM8TwrhMYYz7NCaIzxPCuExhjPs0JojPE8K4TGGM+zQmiM8bz/B+ML6EVX99zmAAAAAElFTkSuQmCC\n",
      "text/plain": [
       "<Figure size 360x360 with 2 Axes>"
      ]
     },
     "metadata": {
      "needs_background": "light"
     },
     "output_type": "display_data"
    }
   ],
   "source": [
    "cm = confusion_matrix(y_pred, y_test)\n",
    "fig = plt.figure(figsize=(5,5))\n",
    "heatmap = sns.heatmap(cm, annot=True, fmt='.0f', cmap='RdYlGn')\n",
    "plt.ylabel('True label')\n",
    "plt.xlabel('Predicted Label')"
   ]
  },
  {
   "cell_type": "markdown",
   "id": "83dced4e-e864-4710-9d0e-e1ed2226ba81",
   "metadata": {},
   "source": [
    "Precision\n",
    "$$ p=\\frac{tp}{tp+fp} $$\n",
    "\n",
    "Recall\n",
    "$$ r=\\frac{tp}{tp+fn} $$\n",
    "\n",
    "F1 Score\n",
    "\n",
    "$$ F_{1} = 2 \\times \\frac{p \\times r}{p + r} $$"
   ]
  },
  {
   "cell_type": "code",
   "execution_count": 74,
   "id": "9b058ddb-41ff-4eff-a864-807b6b7ac42f",
   "metadata": {},
   "outputs": [
    {
     "name": "stdout",
     "output_type": "stream",
     "text": [
      "              precision    recall  f1-score   support\n",
      "\n",
      "           1       1.00      0.97      0.98       472\n",
      "           2       0.98      1.00      0.99       220\n",
      "           3       0.95      0.93      0.94       406\n",
      "           4       0.86      0.86      0.86       210\n",
      "           5       0.93      0.96      0.95       228\n",
      "           7       0.93      0.95      0.94       464\n",
      "\n",
      "    accuracy                           0.95      2000\n",
      "   macro avg       0.94      0.95      0.94      2000\n",
      "weighted avg       0.95      0.95      0.95      2000\n",
      "\n"
     ]
    }
   ],
   "source": [
    "print(classification_report(y_pred,y_test))"
   ]
  },
  {
   "cell_type": "markdown",
   "id": "e33bc298-f247-49d0-8ed9-0e641df86844",
   "metadata": {},
   "source": [
    "## Mushroom Data"
   ]
  },
  {
   "cell_type": "code",
<<<<<<< HEAD
   "execution_count": 79,
=======
   "execution_count": 32,
>>>>>>> 369317b69302874c0c0ce2b67928bb67192f2aec
   "id": "5d37db11-5670-4399-8267-9bb68274b0cd",
   "metadata": {},
   "outputs": [],
   "source": [
    "mushroom = pd.read_csv(\"Mushroom/agaricus-lepiota.data\", header=None)"
   ]
  },
  {
   "cell_type": "code",
<<<<<<< HEAD
   "execution_count": 80,
=======
   "execution_count": 33,
>>>>>>> 369317b69302874c0c0ce2b67928bb67192f2aec
   "id": "bffee2ca-c75a-43a5-b70e-8b8d85ce05d9",
   "metadata": {},
   "outputs": [
    {
     "data": {
      "text/html": [
       "<div>\n",
       "<style scoped>\n",
       "    .dataframe tbody tr th:only-of-type {\n",
       "        vertical-align: middle;\n",
       "    }\n",
       "\n",
       "    .dataframe tbody tr th {\n",
       "        vertical-align: top;\n",
       "    }\n",
       "\n",
       "    .dataframe thead th {\n",
       "        text-align: right;\n",
       "    }\n",
       "</style>\n",
       "<table border=\"1\" class=\"dataframe\">\n",
       "  <thead>\n",
       "    <tr style=\"text-align: right;\">\n",
       "      <th></th>\n",
       "      <th>0</th>\n",
       "      <th>1</th>\n",
       "      <th>2</th>\n",
       "      <th>3</th>\n",
       "      <th>4</th>\n",
       "      <th>5</th>\n",
       "      <th>6</th>\n",
       "      <th>7</th>\n",
       "      <th>8</th>\n",
       "      <th>9</th>\n",
       "      <th>...</th>\n",
       "      <th>13</th>\n",
       "      <th>14</th>\n",
       "      <th>15</th>\n",
       "      <th>16</th>\n",
       "      <th>17</th>\n",
       "      <th>18</th>\n",
       "      <th>19</th>\n",
       "      <th>20</th>\n",
       "      <th>21</th>\n",
       "      <th>22</th>\n",
       "    </tr>\n",
       "  </thead>\n",
       "  <tbody>\n",
       "    <tr>\n",
       "      <th>0</th>\n",
       "      <td>p</td>\n",
       "      <td>x</td>\n",
       "      <td>s</td>\n",
       "      <td>n</td>\n",
       "      <td>t</td>\n",
       "      <td>p</td>\n",
       "      <td>f</td>\n",
       "      <td>c</td>\n",
       "      <td>n</td>\n",
       "      <td>k</td>\n",
       "      <td>...</td>\n",
       "      <td>s</td>\n",
       "      <td>w</td>\n",
       "      <td>w</td>\n",
       "      <td>p</td>\n",
       "      <td>w</td>\n",
       "      <td>o</td>\n",
       "      <td>p</td>\n",
       "      <td>k</td>\n",
       "      <td>s</td>\n",
       "      <td>u</td>\n",
       "    </tr>\n",
       "    <tr>\n",
       "      <th>1</th>\n",
       "      <td>e</td>\n",
       "      <td>x</td>\n",
       "      <td>s</td>\n",
       "      <td>y</td>\n",
       "      <td>t</td>\n",
       "      <td>a</td>\n",
       "      <td>f</td>\n",
       "      <td>c</td>\n",
       "      <td>b</td>\n",
       "      <td>k</td>\n",
       "      <td>...</td>\n",
       "      <td>s</td>\n",
       "      <td>w</td>\n",
       "      <td>w</td>\n",
       "      <td>p</td>\n",
       "      <td>w</td>\n",
       "      <td>o</td>\n",
       "      <td>p</td>\n",
       "      <td>n</td>\n",
       "      <td>n</td>\n",
       "      <td>g</td>\n",
       "    </tr>\n",
       "    <tr>\n",
       "      <th>2</th>\n",
       "      <td>e</td>\n",
       "      <td>b</td>\n",
       "      <td>s</td>\n",
       "      <td>w</td>\n",
       "      <td>t</td>\n",
       "      <td>l</td>\n",
       "      <td>f</td>\n",
       "      <td>c</td>\n",
       "      <td>b</td>\n",
       "      <td>n</td>\n",
       "      <td>...</td>\n",
       "      <td>s</td>\n",
       "      <td>w</td>\n",
       "      <td>w</td>\n",
       "      <td>p</td>\n",
       "      <td>w</td>\n",
       "      <td>o</td>\n",
       "      <td>p</td>\n",
       "      <td>n</td>\n",
       "      <td>n</td>\n",
       "      <td>m</td>\n",
       "    </tr>\n",
       "    <tr>\n",
       "      <th>3</th>\n",
       "      <td>p</td>\n",
       "      <td>x</td>\n",
       "      <td>y</td>\n",
       "      <td>w</td>\n",
       "      <td>t</td>\n",
       "      <td>p</td>\n",
       "      <td>f</td>\n",
       "      <td>c</td>\n",
       "      <td>n</td>\n",
       "      <td>n</td>\n",
       "      <td>...</td>\n",
       "      <td>s</td>\n",
       "      <td>w</td>\n",
       "      <td>w</td>\n",
       "      <td>p</td>\n",
       "      <td>w</td>\n",
       "      <td>o</td>\n",
       "      <td>p</td>\n",
       "      <td>k</td>\n",
       "      <td>s</td>\n",
       "      <td>u</td>\n",
       "    </tr>\n",
       "    <tr>\n",
       "      <th>4</th>\n",
       "      <td>e</td>\n",
       "      <td>x</td>\n",
       "      <td>s</td>\n",
       "      <td>g</td>\n",
       "      <td>f</td>\n",
       "      <td>n</td>\n",
       "      <td>f</td>\n",
       "      <td>w</td>\n",
       "      <td>b</td>\n",
       "      <td>k</td>\n",
       "      <td>...</td>\n",
       "      <td>s</td>\n",
       "      <td>w</td>\n",
       "      <td>w</td>\n",
       "      <td>p</td>\n",
       "      <td>w</td>\n",
       "      <td>o</td>\n",
       "      <td>e</td>\n",
       "      <td>n</td>\n",
       "      <td>a</td>\n",
       "      <td>g</td>\n",
       "    </tr>\n",
       "  </tbody>\n",
       "</table>\n",
       "<p>5 rows × 23 columns</p>\n",
       "</div>"
      ],
      "text/plain": [
       "  0  1  2  3  4  5  6  7  8  9   ... 13 14 15 16 17 18 19 20 21 22\n",
       "0  p  x  s  n  t  p  f  c  n  k  ...  s  w  w  p  w  o  p  k  s  u\n",
       "1  e  x  s  y  t  a  f  c  b  k  ...  s  w  w  p  w  o  p  n  n  g\n",
       "2  e  b  s  w  t  l  f  c  b  n  ...  s  w  w  p  w  o  p  n  n  m\n",
       "3  p  x  y  w  t  p  f  c  n  n  ...  s  w  w  p  w  o  p  k  s  u\n",
       "4  e  x  s  g  f  n  f  w  b  k  ...  s  w  w  p  w  o  e  n  a  g\n",
       "\n",
       "[5 rows x 23 columns]"
      ]
     },
<<<<<<< HEAD
     "execution_count": 80,
=======
     "execution_count": 33,
>>>>>>> 369317b69302874c0c0ce2b67928bb67192f2aec
     "metadata": {},
     "output_type": "execute_result"
    }
   ],
   "source": [
    "mushroom.head()"
   ]
  },
  {
   "cell_type": "markdown",
   "id": "9abc1a91-116d-4a32-a2a3-214462691bf1",
   "metadata": {},
   "source": [
    "The column names are not in the dataset. I need to get the column names so I can use them. I'm going to use Regular Expression to do this."
   ]
  },
  {
   "cell_type": "code",
<<<<<<< HEAD
   "execution_count": 81,
=======
   "execution_count": 34,
>>>>>>> 369317b69302874c0c0ce2b67928bb67192f2aec
   "id": "f056bb8f-d977-4603-b8d0-9de8ac85e6ec",
   "metadata": {},
   "outputs": [],
   "source": [
    "import re"
   ]
  },
  {
   "cell_type": "markdown",
   "id": "22be6a6a-5020-44ca-a2a9-051e6c0309a1",
   "metadata": {},
   "source": [
    "This is the pattern to search for."
   ]
  },
  {
   "cell_type": "code",
<<<<<<< HEAD
   "execution_count": 82,
=======
   "execution_count": 35,
>>>>>>> 369317b69302874c0c0ce2b67928bb67192f2aec
   "id": "d1c76371-a3a1-4f09-886c-6ed1da4a2704",
   "metadata": {},
   "outputs": [],
   "source": [
    "pattern=\"\\d+.\\s[a-z]+-?[a-z]+\""
   ]
  },
  {
   "cell_type": "markdown",
   "id": "105fcf16-7d88-4f16-a0c0-b5529d0f671d",
   "metadata": {},
   "source": [
    "Read the file that contains the column names."
   ]
  },
  {
   "cell_type": "code",
<<<<<<< HEAD
   "execution_count": 83,
=======
   "execution_count": 36,
>>>>>>> 369317b69302874c0c0ce2b67928bb67192f2aec
   "id": "ea3fb77e-ad1d-4015-aef8-f353c4633356",
   "metadata": {},
   "outputs": [],
   "source": [
    "file = open('Mushroom/columns.txt', mode='r')\n",
    "data = file.read()\n",
    "file.close()"
   ]
  },
  {
   "cell_type": "markdown",
   "id": "416b1273-d2ac-410c-821a-187e516a36f3",
   "metadata": {},
   "source": [
    "Search the text and place the matched data into a list."
   ]
  },
  {
   "cell_type": "code",
<<<<<<< HEAD
   "execution_count": 84,
=======
   "execution_count": 37,
>>>>>>> 369317b69302874c0c0ce2b67928bb67192f2aec
   "id": "28c9bc01-fec3-47a0-b5a2-a248ce5ac6fb",
   "metadata": {},
   "outputs": [],
   "source": [
    "x = re.findall(pattern, data)"
   ]
  },
  {
   "cell_type": "code",
<<<<<<< HEAD
   "execution_count": 85,
=======
   "execution_count": 38,
>>>>>>> 369317b69302874c0c0ce2b67928bb67192f2aec
   "id": "4be473bc-0c22-4069-881b-fcb4b0b445c6",
   "metadata": {},
   "outputs": [],
   "source": [
    "colnames = list()"
   ]
  },
  {
   "cell_type": "code",
<<<<<<< HEAD
   "execution_count": 86,
=======
   "execution_count": 39,
>>>>>>> 369317b69302874c0c0ce2b67928bb67192f2aec
   "id": "6c144622-2c9a-4e73-9441-33d7b72eac97",
   "metadata": {},
   "outputs": [],
   "source": [
    "colnames.append('mushroom_type')\n",
    "for name in x:\n",
    "    colnames.append(re.sub(\"^\\d+.\\s\", \"\", name))"
   ]
  },
  {
   "cell_type": "code",
<<<<<<< HEAD
   "execution_count": 87,
=======
   "execution_count": 40,
>>>>>>> 369317b69302874c0c0ce2b67928bb67192f2aec
   "id": "93a4beea-2018-4fda-b50a-7890a500398c",
   "metadata": {},
   "outputs": [
    {
     "data": {
      "text/plain": [
       "['mushroom_type',\n",
       " 'cap-shape',\n",
       " 'cap-surface',\n",
       " 'cap-color',\n",
       " 'bruises',\n",
       " 'odor',\n",
       " 'gill-attachment',\n",
       " 'gill-spacing',\n",
       " 'gill-size',\n",
       " 'gill-color',\n",
       " 'stalk-shape',\n",
       " 'stalk-root',\n",
       " 'stalk-surface',\n",
       " 'stalk-surface',\n",
       " 'stalk-color',\n",
       " 'stalk-color',\n",
       " 'veil-type',\n",
       " 'veil-color',\n",
       " 'ring-number',\n",
       " 'ring-type',\n",
       " 'spore-print',\n",
       " 'population',\n",
       " 'habitat']"
      ]
     },
<<<<<<< HEAD
     "execution_count": 87,
=======
     "execution_count": 40,
>>>>>>> 369317b69302874c0c0ce2b67928bb67192f2aec
     "metadata": {},
     "output_type": "execute_result"
    }
   ],
   "source": [
    "colnames"
   ]
  },
  {
   "cell_type": "code",
<<<<<<< HEAD
   "execution_count": 88,
=======
   "execution_count": 41,
>>>>>>> 369317b69302874c0c0ce2b67928bb67192f2aec
   "id": "6c86d0fb-42c0-4885-942e-a16340ed207b",
   "metadata": {},
   "outputs": [],
   "source": [
    "mushroom.columns = colnames"
   ]
  },
  {
   "cell_type": "code",
<<<<<<< HEAD
   "execution_count": 89,
=======
   "execution_count": 42,
>>>>>>> 369317b69302874c0c0ce2b67928bb67192f2aec
   "id": "f868923f-d76a-4b28-91c0-034d257a8126",
   "metadata": {},
   "outputs": [
    {
     "data": {
      "text/html": [
       "<div>\n",
       "<style scoped>\n",
       "    .dataframe tbody tr th:only-of-type {\n",
       "        vertical-align: middle;\n",
       "    }\n",
       "\n",
       "    .dataframe tbody tr th {\n",
       "        vertical-align: top;\n",
       "    }\n",
       "\n",
       "    .dataframe thead th {\n",
       "        text-align: right;\n",
       "    }\n",
       "</style>\n",
       "<table border=\"1\" class=\"dataframe\">\n",
       "  <thead>\n",
       "    <tr style=\"text-align: right;\">\n",
       "      <th></th>\n",
       "      <th>mushroom_type</th>\n",
       "      <th>cap-shape</th>\n",
       "      <th>cap-surface</th>\n",
       "      <th>cap-color</th>\n",
       "      <th>bruises</th>\n",
       "      <th>odor</th>\n",
       "      <th>gill-attachment</th>\n",
       "      <th>gill-spacing</th>\n",
       "      <th>gill-size</th>\n",
       "      <th>gill-color</th>\n",
       "      <th>...</th>\n",
       "      <th>stalk-surface</th>\n",
       "      <th>stalk-color</th>\n",
       "      <th>stalk-color</th>\n",
       "      <th>veil-type</th>\n",
       "      <th>veil-color</th>\n",
       "      <th>ring-number</th>\n",
       "      <th>ring-type</th>\n",
       "      <th>spore-print</th>\n",
       "      <th>population</th>\n",
       "      <th>habitat</th>\n",
       "    </tr>\n",
       "  </thead>\n",
       "  <tbody>\n",
       "    <tr>\n",
       "      <th>0</th>\n",
       "      <td>p</td>\n",
       "      <td>x</td>\n",
       "      <td>s</td>\n",
       "      <td>n</td>\n",
       "      <td>t</td>\n",
       "      <td>p</td>\n",
       "      <td>f</td>\n",
       "      <td>c</td>\n",
       "      <td>n</td>\n",
       "      <td>k</td>\n",
       "      <td>...</td>\n",
       "      <td>s</td>\n",
       "      <td>w</td>\n",
       "      <td>w</td>\n",
       "      <td>p</td>\n",
       "      <td>w</td>\n",
       "      <td>o</td>\n",
       "      <td>p</td>\n",
       "      <td>k</td>\n",
       "      <td>s</td>\n",
       "      <td>u</td>\n",
       "    </tr>\n",
       "    <tr>\n",
       "      <th>1</th>\n",
       "      <td>e</td>\n",
       "      <td>x</td>\n",
       "      <td>s</td>\n",
       "      <td>y</td>\n",
       "      <td>t</td>\n",
       "      <td>a</td>\n",
       "      <td>f</td>\n",
       "      <td>c</td>\n",
       "      <td>b</td>\n",
       "      <td>k</td>\n",
       "      <td>...</td>\n",
       "      <td>s</td>\n",
       "      <td>w</td>\n",
       "      <td>w</td>\n",
       "      <td>p</td>\n",
       "      <td>w</td>\n",
       "      <td>o</td>\n",
       "      <td>p</td>\n",
       "      <td>n</td>\n",
       "      <td>n</td>\n",
       "      <td>g</td>\n",
       "    </tr>\n",
       "    <tr>\n",
       "      <th>2</th>\n",
       "      <td>e</td>\n",
       "      <td>b</td>\n",
       "      <td>s</td>\n",
       "      <td>w</td>\n",
       "      <td>t</td>\n",
       "      <td>l</td>\n",
       "      <td>f</td>\n",
       "      <td>c</td>\n",
       "      <td>b</td>\n",
       "      <td>n</td>\n",
       "      <td>...</td>\n",
       "      <td>s</td>\n",
       "      <td>w</td>\n",
       "      <td>w</td>\n",
       "      <td>p</td>\n",
       "      <td>w</td>\n",
       "      <td>o</td>\n",
       "      <td>p</td>\n",
       "      <td>n</td>\n",
       "      <td>n</td>\n",
       "      <td>m</td>\n",
       "    </tr>\n",
       "    <tr>\n",
       "      <th>3</th>\n",
       "      <td>p</td>\n",
       "      <td>x</td>\n",
       "      <td>y</td>\n",
       "      <td>w</td>\n",
       "      <td>t</td>\n",
       "      <td>p</td>\n",
       "      <td>f</td>\n",
       "      <td>c</td>\n",
       "      <td>n</td>\n",
       "      <td>n</td>\n",
       "      <td>...</td>\n",
       "      <td>s</td>\n",
       "      <td>w</td>\n",
       "      <td>w</td>\n",
       "      <td>p</td>\n",
       "      <td>w</td>\n",
       "      <td>o</td>\n",
       "      <td>p</td>\n",
       "      <td>k</td>\n",
       "      <td>s</td>\n",
       "      <td>u</td>\n",
       "    </tr>\n",
       "    <tr>\n",
       "      <th>4</th>\n",
       "      <td>e</td>\n",
       "      <td>x</td>\n",
       "      <td>s</td>\n",
       "      <td>g</td>\n",
       "      <td>f</td>\n",
       "      <td>n</td>\n",
       "      <td>f</td>\n",
       "      <td>w</td>\n",
       "      <td>b</td>\n",
       "      <td>k</td>\n",
       "      <td>...</td>\n",
       "      <td>s</td>\n",
       "      <td>w</td>\n",
       "      <td>w</td>\n",
       "      <td>p</td>\n",
       "      <td>w</td>\n",
       "      <td>o</td>\n",
       "      <td>e</td>\n",
       "      <td>n</td>\n",
       "      <td>a</td>\n",
       "      <td>g</td>\n",
       "    </tr>\n",
       "  </tbody>\n",
       "</table>\n",
       "<p>5 rows × 23 columns</p>\n",
       "</div>"
      ],
      "text/plain": [
       "  mushroom_type cap-shape cap-surface cap-color bruises odor gill-attachment  \\\n",
       "0             p         x           s         n       t    p               f   \n",
       "1             e         x           s         y       t    a               f   \n",
       "2             e         b           s         w       t    l               f   \n",
       "3             p         x           y         w       t    p               f   \n",
       "4             e         x           s         g       f    n               f   \n",
       "\n",
       "  gill-spacing gill-size gill-color  ... stalk-surface stalk-color  \\\n",
       "0            c         n          k  ...             s           w   \n",
       "1            c         b          k  ...             s           w   \n",
       "2            c         b          n  ...             s           w   \n",
       "3            c         n          n  ...             s           w   \n",
       "4            w         b          k  ...             s           w   \n",
       "\n",
       "  stalk-color veil-type veil-color ring-number ring-type spore-print  \\\n",
       "0           w         p          w           o         p           k   \n",
       "1           w         p          w           o         p           n   \n",
       "2           w         p          w           o         p           n   \n",
       "3           w         p          w           o         p           k   \n",
       "4           w         p          w           o         e           n   \n",
       "\n",
       "  population habitat  \n",
       "0          s       u  \n",
       "1          n       g  \n",
       "2          n       m  \n",
       "3          s       u  \n",
       "4          a       g  \n",
       "\n",
       "[5 rows x 23 columns]"
      ]
     },
<<<<<<< HEAD
     "execution_count": 89,
=======
     "execution_count": 42,
>>>>>>> 369317b69302874c0c0ce2b67928bb67192f2aec
     "metadata": {},
     "output_type": "execute_result"
    }
   ],
   "source": [
    "mushroom.head()"
   ]
  },
  {
   "cell_type": "code",
<<<<<<< HEAD
   "execution_count": 90,
=======
   "execution_count": 43,
>>>>>>> 369317b69302874c0c0ce2b67928bb67192f2aec
   "id": "46628ecb-feba-425f-a9b9-63c4e681d10d",
   "metadata": {},
   "outputs": [],
   "source": [
    "mushroom.to_csv('mushroom.csv', index=False)"
   ]
  },
  {
   "cell_type": "code",
<<<<<<< HEAD
   "execution_count": 91,
=======
   "execution_count": 44,
>>>>>>> 369317b69302874c0c0ce2b67928bb67192f2aec
   "id": "22de5b3d-fd65-4747-97fc-fa36d7a931b1",
   "metadata": {},
   "outputs": [
    {
     "data": {
      "text/plain": [
       "23"
      ]
     },
<<<<<<< HEAD
     "execution_count": 91,
=======
     "execution_count": 44,
>>>>>>> 369317b69302874c0c0ce2b67928bb67192f2aec
     "metadata": {},
     "output_type": "execute_result"
    }
   ],
   "source": [
    "len(mushroom.columns)"
   ]
  },
  {
   "cell_type": "code",
<<<<<<< HEAD
   "execution_count": 92,
=======
   "execution_count": 45,
>>>>>>> 369317b69302874c0c0ce2b67928bb67192f2aec
   "id": "c0a838db-3f50-4903-9dcf-47b78af7006e",
   "metadata": {},
   "outputs": [
    {
     "data": {
      "text/plain": [
       "8124"
      ]
     },
<<<<<<< HEAD
     "execution_count": 92,
=======
     "execution_count": 45,
>>>>>>> 369317b69302874c0c0ce2b67928bb67192f2aec
     "metadata": {},
     "output_type": "execute_result"
    }
   ],
   "source": [
    "len(mushroom)"
   ]
  },
  {
   "cell_type": "code",
<<<<<<< HEAD
   "execution_count": 93,
=======
   "execution_count": 46,
>>>>>>> 369317b69302874c0c0ce2b67928bb67192f2aec
   "id": "603fe958-0d06-4e30-96de-9e2768f1f22f",
   "metadata": {},
   "outputs": [],
   "source": [
    "X = np.array(mushroom.iloc[:,1:22])\n",
    "y = np.array(mushroom.iloc[:,0])"
   ]
  },
  {
   "cell_type": "code",
<<<<<<< HEAD
   "execution_count": 94,
=======
   "execution_count": 47,
>>>>>>> 369317b69302874c0c0ce2b67928bb67192f2aec
   "id": "e16e256d-3944-4d1a-a8eb-bfee6edc00f2",
   "metadata": {},
   "outputs": [],
   "source": [
    "from sklearn import preprocessing"
   ]
  },
  {
   "cell_type": "code",
<<<<<<< HEAD
   "execution_count": 95,
=======
   "execution_count": 48,
>>>>>>> 369317b69302874c0c0ce2b67928bb67192f2aec
   "id": "4024a84c-1056-43d8-9e7b-6883c80af981",
   "metadata": {},
   "outputs": [],
   "source": [
    "l = preprocessing.LabelEncoder()\n",
    "y = l.fit_transform(y)"
   ]
  },
  {
   "cell_type": "code",
<<<<<<< HEAD
   "execution_count": 96,
=======
   "execution_count": 49,
>>>>>>> 369317b69302874c0c0ce2b67928bb67192f2aec
   "id": "2a08adbd-aa60-45cc-853b-87c018c71f94",
   "metadata": {},
   "outputs": [
    {
     "data": {
      "text/plain": [
       "array([1, 0, 0, ..., 0, 1, 0])"
      ]
     },
<<<<<<< HEAD
     "execution_count": 96,
=======
     "execution_count": 49,
>>>>>>> 369317b69302874c0c0ce2b67928bb67192f2aec
     "metadata": {},
     "output_type": "execute_result"
    }
   ],
   "source": [
    "y"
   ]
  },
  {
   "cell_type": "code",
<<<<<<< HEAD
   "execution_count": 97,
=======
   "execution_count": 50,
>>>>>>> 369317b69302874c0c0ce2b67928bb67192f2aec
   "id": "1991d35b-30f9-4f4a-bab5-d37c4f055a49",
   "metadata": {},
   "outputs": [],
   "source": [
    "from sklearn.preprocessing import OneHotEncoder\n",
    "enc = OneHotEncoder(handle_unknown='ignore')"
   ]
  },
  {
   "cell_type": "code",
<<<<<<< HEAD
   "execution_count": 98,
=======
   "execution_count": 51,
>>>>>>> 369317b69302874c0c0ce2b67928bb67192f2aec
   "id": "520ac162-3c96-4916-a0cf-cc5e0cb422fc",
   "metadata": {},
   "outputs": [],
   "source": [
    "X = enc.fit_transform(X).toarray()"
   ]
  },
  {
   "cell_type": "code",
<<<<<<< HEAD
   "execution_count": 100,
=======
   "execution_count": 52,
>>>>>>> 369317b69302874c0c0ce2b67928bb67192f2aec
   "id": "84cc081c-454a-4299-b5f3-83caf258b3ec",
   "metadata": {},
   "outputs": [
    {
     "data": {
      "text/plain": [
       "array(['x0_b', 'x0_c', 'x0_f', 'x0_k', 'x0_s', 'x0_x', 'x1_f', 'x1_g',\n",
       "       'x1_s', 'x1_y', 'x2_b', 'x2_c', 'x2_e', 'x2_g', 'x2_n', 'x2_p',\n",
       "       'x2_r', 'x2_u', 'x2_w', 'x2_y', 'x3_f', 'x3_t', 'x4_a', 'x4_c',\n",
       "       'x4_f', 'x4_l', 'x4_m', 'x4_n', 'x4_p', 'x4_s', 'x4_y', 'x5_a',\n",
       "       'x5_f', 'x6_c', 'x6_w', 'x7_b', 'x7_n', 'x8_b', 'x8_e', 'x8_g',\n",
       "       'x8_h', 'x8_k', 'x8_n', 'x8_o', 'x8_p', 'x8_r', 'x8_u', 'x8_w',\n",
       "       'x8_y', 'x9_e', 'x9_t', 'x10_?', 'x10_b', 'x10_c', 'x10_e',\n",
       "       'x10_r', 'x11_f', 'x11_k', 'x11_s', 'x11_y', 'x12_f', 'x12_k',\n",
       "       'x12_s', 'x12_y', 'x13_b', 'x13_c', 'x13_e', 'x13_g', 'x13_n',\n",
       "       'x13_o', 'x13_p', 'x13_w', 'x13_y', 'x14_b', 'x14_c', 'x14_e',\n",
       "       'x14_g', 'x14_n', 'x14_o', 'x14_p', 'x14_w', 'x14_y', 'x15_p',\n",
       "       'x16_n', 'x16_o', 'x16_w', 'x16_y', 'x17_n', 'x17_o', 'x17_t',\n",
       "       'x18_e', 'x18_f', 'x18_l', 'x18_n', 'x18_p', 'x19_b', 'x19_h',\n",
       "       'x19_k', 'x19_n', 'x19_o', 'x19_r', 'x19_u', 'x19_w', 'x19_y',\n",
       "       'x20_a', 'x20_c', 'x20_n', 'x20_s', 'x20_v', 'x20_y'], dtype=object)"
      ]
     },
<<<<<<< HEAD
     "execution_count": 100,
=======
     "execution_count": 52,
>>>>>>> 369317b69302874c0c0ce2b67928bb67192f2aec
     "metadata": {},
     "output_type": "execute_result"
    }
   ],
   "source": [
    "enc.get_feature_names()"
   ]
  },
  {
   "cell_type": "code",
<<<<<<< HEAD
   "execution_count": null,
   "id": "e8526dc4-632b-4b33-a93c-f9441406654e",
   "metadata": {},
   "outputs": [],
   "source": []
  },
  {
   "cell_type": "code",
   "execution_count": 101,
=======
   "execution_count": 57,
   "id": "4932856b-8a03-407c-b9e8-34ce24967309",
   "metadata": {},
   "outputs": [],
   "source": [
    "mushroom_final = pd.DataFrame(data=X, columns=enc.get_feature_names())"
   ]
  },
  {
   "cell_type": "code",
   "execution_count": 58,
   "id": "0d0203c1-dc83-4847-98ca-13fb492e3891",
   "metadata": {},
   "outputs": [],
   "source": [
    "mushroom_final['type'] = y"
   ]
  },
  {
   "cell_type": "code",
   "execution_count": 61,
   "id": "30c86417-46a3-490a-ad5c-f0780d20c145",
   "metadata": {},
   "outputs": [],
   "source": [
    "mushroom_final.to_csv(\"mushroom_final.csv\", index=False)"
   ]
  },
  {
   "cell_type": "code",
   "execution_count": 46,
>>>>>>> 369317b69302874c0c0ce2b67928bb67192f2aec
   "id": "4404c4a1-b208-4439-b2e7-c2f0368779f7",
   "metadata": {},
   "outputs": [],
   "source": [
    "from sklearn.model_selection import train_test_split"
   ]
  },
  {
   "cell_type": "code",
   "execution_count": 102,
   "id": "d93f4d71-a684-4299-a519-97fa12f561d1",
   "metadata": {},
   "outputs": [],
   "source": [
    "X_train, X_test, y_train, y_test = train_test_split(X,y, test_size=.20, random_state=32)"
   ]
  },
  {
   "cell_type": "code",
   "execution_count": 103,
   "id": "5c393d05-4f96-4961-939a-72df06a13d10",
   "metadata": {},
   "outputs": [
    {
     "data": {
      "text/plain": [
       "array([[0., 0., 0., ..., 1., 0., 0.],\n",
       "       [0., 0., 1., ..., 0., 1., 0.],\n",
       "       [0., 0., 1., ..., 0., 0., 0.],\n",
       "       ...,\n",
       "       [0., 0., 0., ..., 0., 0., 0.],\n",
       "       [0., 0., 1., ..., 1., 0., 0.],\n",
       "       [0., 0., 0., ..., 0., 0., 1.]])"
      ]
     },
     "execution_count": 103,
     "metadata": {},
     "output_type": "execute_result"
    }
   ],
   "source": [
    "X_train"
   ]
  },
  {
   "cell_type": "code",
   "execution_count": 104,
   "id": "bd74e835-e78b-46b2-a983-10fd36cf42f3",
   "metadata": {},
   "outputs": [],
   "source": [
    "neigh = KNeighborsClassifier(n_neighbors=3)"
   ]
  },
  {
   "cell_type": "code",
   "execution_count": 105,
   "id": "cc95c7db-7e2a-4e43-af5b-6400aae2cf99",
   "metadata": {},
   "outputs": [
    {
     "data": {
      "text/plain": [
       "KNeighborsClassifier(n_neighbors=3)"
      ]
     },
     "execution_count": 105,
     "metadata": {},
     "output_type": "execute_result"
    }
   ],
   "source": [
    "neigh.fit(X_train,y_train)"
   ]
  },
  {
   "cell_type": "code",
   "execution_count": 106,
   "id": "5a64b89c-1a7f-4fb9-b6af-fd4783a3ecc5",
   "metadata": {},
   "outputs": [],
   "source": [
    "y_pred = neigh.predict(X_test)"
   ]
  },
  {
   "cell_type": "code",
   "execution_count": 107,
   "id": "9a2a608f-9b04-4f18-ae83-206eb3a5dff9",
   "metadata": {},
   "outputs": [
    {
     "data": {
      "text/plain": [
       "1.0"
      ]
     },
     "execution_count": 107,
     "metadata": {},
     "output_type": "execute_result"
    }
   ],
   "source": [
    "neigh.score(X_test,y_test)"
   ]
  },
  {
   "cell_type": "code",
   "execution_count": 108,
   "id": "85f97f54-b3ec-4f7a-bb07-5fd053d19583",
   "metadata": {},
   "outputs": [
    {
     "data": {
      "text/plain": [
       "array([[846,   0],\n",
       "       [  0, 779]], dtype=int64)"
      ]
     },
     "execution_count": 108,
     "metadata": {},
     "output_type": "execute_result"
    }
   ],
   "source": [
    "confusion_matrix(y_pred, y_test)"
   ]
  },
  {
   "cell_type": "code",
   "execution_count": 109,
   "id": "19034a64-2b4d-49c3-99bd-408b9e2cb585",
   "metadata": {},
   "outputs": [
    {
     "data": {
      "text/plain": [
       "Text(0.5, 24.0, 'Predicted Label')"
      ]
     },
     "execution_count": 109,
     "metadata": {},
     "output_type": "execute_result"
    },
    {
     "data": {
      "image/png": "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\n",
      "text/plain": [
       "<Figure size 360x360 with 2 Axes>"
      ]
     },
     "metadata": {
      "needs_background": "light"
     },
     "output_type": "display_data"
    }
   ],
   "source": [
    "cm = confusion_matrix(y_pred, y_test)\n",
    "fig = plt.figure(figsize=(5,5))\n",
    "heatmap = sns.heatmap(cm, annot=True, fmt='.2f', cmap='RdYlGn')\n",
    "plt.ylabel('True label')\n",
    "plt.xlabel('Predicted Label')"
   ]
  },
  {
   "cell_type": "code",
   "execution_count": 110,
   "id": "8425dd1b-3aef-40a2-aecd-1cad5eaec7d2",
   "metadata": {},
   "outputs": [
    {
     "name": "stdout",
     "output_type": "stream",
     "text": [
      "              precision    recall  f1-score   support\n",
      "\n",
      "           0       1.00      1.00      1.00       846\n",
      "           1       1.00      1.00      1.00       779\n",
      "\n",
      "    accuracy                           1.00      1625\n",
      "   macro avg       1.00      1.00      1.00      1625\n",
      "weighted avg       1.00      1.00      1.00      1625\n",
      "\n"
     ]
    }
   ],
   "source": [
    "print(classification_report(y_pred,y_test))"
   ]
  },
  {
   "cell_type": "code",
   "execution_count": null,
   "id": "47375711-0cdb-4d15-a264-dcb0edde88a7",
   "metadata": {},
   "outputs": [],
   "source": []
  }
 ],
 "metadata": {
  "kernelspec": {
   "display_name": "Python 3 (ipykernel)",
   "language": "python",
   "name": "python3"
  },
  "language_info": {
   "codemirror_mode": {
    "name": "ipython",
    "version": 3
   },
   "file_extension": ".py",
   "mimetype": "text/x-python",
   "name": "python",
   "nbconvert_exporter": "python",
   "pygments_lexer": "ipython3",
   "version": "3.9.7"
  }
 },
 "nbformat": 4,
 "nbformat_minor": 5
}
