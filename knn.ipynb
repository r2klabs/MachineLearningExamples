{
 "cells": [
  {
   "cell_type": "markdown",
   "id": "00c86b97-0cca-490a-86f6-5fca1a8d4db8",
   "metadata": {},
   "source": [
    "# K-Nearest Neighbor\n",
    "This algorithm looks at the data points closest to the each data point and determines if they are the same class.  Changing the distance parameter/algorithm can give different results."
   ]
  },
  {
   "cell_type": "code",
   "execution_count": 171,
   "id": "e146a30a-2f10-46d9-b71b-a27f5b59f05e",
   "metadata": {},
   "outputs": [],
   "source": [
    "import pandas as pd\n",
    "import numpy as np\n",
    "import matplotlib.pyplot as plt\n",
    "import seaborn as sns\n",
    "%matplotlib inline\n",
    "\n",
    "from sklearn.neighbors import KNeighborsClassifier"
   ]
  },
  {
   "cell_type": "markdown",
   "id": "ef05a47b-120b-4b40-938c-1113d0d93cf2",
   "metadata": {
    "tags": []
   },
   "source": [
    "## LandSat Data\n",
    "\n",
    "The database consists of the multi-spectral values of pixels in 3x3 neighbourhoods in a satellite image, and the classification associated with the central pixel in each neighbourhood. The aim is to predict this classification, given the multi-spectral values. In the sample database, the class of a pixel is coded as a number. The Landsat satellite data is one of the many sources of information available for a scene. The interpretation of a scene by integrating spatial data of diverse types and resolutions including multispectral and radar data, maps indicating topography, land use etc. is expected to assume significant importance with the onset of an era characterised by integrative approaches to remote sensing (for example, NASA's Earth Observing System commencing this decade). Existing statistical methods are ill-equipped for handling such diverse data types. Note that this is not true for Landsat MSS data considered in isolation (as in this sample database). This data satisfies the important requirements of being numerical and at a single resolution, and standard maximum-likelihood classification performs very well. Consequently, for this data, it should be interesting to compare the performance of other methods against the statistical approach. One frame of Landsat MSS imagery consists of four digital images of the same scene in different spectral bands. Two of these are in the visible region (corresponding approximately to green and red regions of the visible spectrum) and two are in the (near) infra-red. Each pixel is a 8-bit binary word, with 0 corresponding to black and 255 to white. The spatial resolution of a pixel is about 80m x 80m. Each image contains 2340 x 3380 such pixels. The database is a (tiny) sub-area of a scene, consisting of 82 x 100 pixels. Each line of data corresponds to a 3x3 square neighbourhood of pixels completely contained within the 82x100 sub-area. Each line contains the pixel values in the four spectral bands (converted to ASCII) of each of the 9 pixels in the 3x3 neighbourhood and a number indicating the classification label of the central pixel. The number is a code for the following classes: Number Class 1 red soil 2 cotton crop 3 grey soil 4 damp grey soil 5 soil with vegetation stubble 6 mixture class (all types present) 7 very damp grey soil NB. There are no examples with class 6 in this dataset. The data is given in random order and certain lines of data have been removed so you cannot reconstruct the original image from this dataset. In each line of data the four spectral values for the top-left pixel are given first followed by the four spectral values for the top-middle pixel and then those for the top-right pixel, and so on with the pixels read out in sequence left-to-right and top-to-bottom. Thus, the four spectral values for the central pixel are given by attributes 17,18,19 and 20. If you like you can use only these four attributes, while ignoring the others. This avoids the problem which arises when a 3x3 neighbourhood straddles a boundary.\n"
   ]
  },
  {
   "cell_type": "code",
   "execution_count": 511,
   "id": "3e435833-4d95-45a4-9ece-b5c65e9ea76b",
   "metadata": {},
   "outputs": [],
   "source": [
    "landsat_train = pd.read_csv(\"LandSat/sat.trn\", sep=\" \",header=None)"
   ]
  },
  {
   "cell_type": "code",
   "execution_count": 512,
   "id": "d652410e-cc5d-4cfa-8ca1-7a072e6440cd",
   "metadata": {},
   "outputs": [
    {
     "data": {
      "text/plain": [
       "Int64Index([ 0,  1,  2,  3,  4,  5,  6,  7,  8,  9, 10, 11, 12, 13, 14, 15, 16,\n",
       "            17, 18, 19, 20, 21, 22, 23, 24, 25, 26, 27, 28, 29, 30, 31, 32, 33,\n",
       "            34, 35, 36],\n",
       "           dtype='int64')"
      ]
     },
     "execution_count": 512,
     "metadata": {},
     "output_type": "execute_result"
    }
   ],
   "source": [
    "landsat_train.columns"
   ]
  },
  {
   "cell_type": "markdown",
   "id": "0d6f6b7f-8918-40ca-9a0e-da3c910e87ab",
   "metadata": {},
   "source": [
    "I can't work with these column names. Based on my reading of the dataset, it appears that that each set of four numbers represent spectral values (R,G, Infrared1 and Infrared2).  The code below will create the column names I need for this data set by creating a Cartesian product of the pixel positions and the spectral values."
   ]
  },
  {
   "cell_type": "code",
   "execution_count": 513,
   "id": "ac71c7a3-34dd-4b30-99e6-bd350dd69e46",
   "metadata": {},
   "outputs": [],
   "source": [
    "positions = ['top_left_','top_middle_','top_right_',\n",
    "           'middle_left_','central_pixel_','middle_right_',\n",
    "           'bottom_left_','bottom_middle_','bottom_right_']"
   ]
  },
  {
   "cell_type": "code",
   "execution_count": 514,
   "id": "52ddd118-3462-4baa-835c-958bad3e0912",
   "metadata": {},
   "outputs": [],
   "source": [
    "pixels = ['r','g','infra1','infra2']"
   ]
  },
  {
   "cell_type": "markdown",
   "id": "39a25133-62fe-4be2-a266-fe4a141d11c9",
   "metadata": {},
   "source": [
    "The product function gets the Cartesian product of two lists."
   ]
  },
  {
   "cell_type": "code",
   "execution_count": 515,
   "id": "e510b2ee-558a-4739-b08c-4bc001b2c8a9",
   "metadata": {},
   "outputs": [],
   "source": [
    "from itertools import product\n",
    "temp = list(product(positions, pixels))"
   ]
  },
  {
   "cell_type": "code",
   "execution_count": 516,
   "id": "a134749f-db53-4fa8-bbff-c701156ba210",
   "metadata": {},
   "outputs": [],
   "source": [
    "colnames = list()"
   ]
  },
  {
   "cell_type": "code",
   "execution_count": 517,
   "id": "7f8f98cc-daee-41e1-b753-f8fc586b43d9",
   "metadata": {},
   "outputs": [],
   "source": [
    "for name in temp:\n",
    "    colnames.append(name[0]+name[1])\n",
    "\n",
    "colnames.append('land_type')"
   ]
  },
  {
   "cell_type": "code",
   "execution_count": 518,
   "id": "fcb5443b-b545-4595-a135-b3aa9cf677ad",
   "metadata": {},
   "outputs": [
    {
     "name": "stdout",
     "output_type": "stream",
     "text": [
      "['top_left_r', 'top_left_g', 'top_left_infra1', 'top_left_infra2', 'top_middle_r', 'top_middle_g', 'top_middle_infra1', 'top_middle_infra2', 'top_right_r', 'top_right_g', 'top_right_infra1', 'top_right_infra2', 'middle_left_r', 'middle_left_g', 'middle_left_infra1', 'middle_left_infra2', 'central_pixel_r', 'central_pixel_g', 'central_pixel_infra1', 'central_pixel_infra2', 'middle_right_r', 'middle_right_g', 'middle_right_infra1', 'middle_right_infra2', 'bottom_left_r', 'bottom_left_g', 'bottom_left_infra1', 'bottom_left_infra2', 'bottom_middle_r', 'bottom_middle_g', 'bottom_middle_infra1', 'bottom_middle_infra2', 'bottom_right_r', 'bottom_right_g', 'bottom_right_infra1', 'bottom_right_infra2', 'land_type']\n"
     ]
    }
   ],
   "source": [
    "print(colnames)"
   ]
  },
  {
   "cell_type": "code",
   "execution_count": 519,
   "id": "f5bf95a3-23ca-4a8a-b768-2d1a0af56f58",
   "metadata": {},
   "outputs": [],
   "source": [
    "landsat_train.columns = colnames"
   ]
  },
  {
   "cell_type": "code",
   "execution_count": 520,
   "id": "011b3d61-a822-4205-8e1d-e9d12e770f89",
   "metadata": {},
   "outputs": [
    {
     "data": {
      "text/html": [
       "<div>\n",
       "<style scoped>\n",
       "    .dataframe tbody tr th:only-of-type {\n",
       "        vertical-align: middle;\n",
       "    }\n",
       "\n",
       "    .dataframe tbody tr th {\n",
       "        vertical-align: top;\n",
       "    }\n",
       "\n",
       "    .dataframe thead th {\n",
       "        text-align: right;\n",
       "    }\n",
       "</style>\n",
       "<table border=\"1\" class=\"dataframe\">\n",
       "  <thead>\n",
       "    <tr style=\"text-align: right;\">\n",
       "      <th></th>\n",
       "      <th>top_left_r</th>\n",
       "      <th>top_left_g</th>\n",
       "      <th>top_left_infra1</th>\n",
       "      <th>top_left_infra2</th>\n",
       "      <th>top_middle_r</th>\n",
       "      <th>top_middle_g</th>\n",
       "      <th>top_middle_infra1</th>\n",
       "      <th>top_middle_infra2</th>\n",
       "      <th>top_right_r</th>\n",
       "      <th>top_right_g</th>\n",
       "      <th>...</th>\n",
       "      <th>bottom_left_infra2</th>\n",
       "      <th>bottom_middle_r</th>\n",
       "      <th>bottom_middle_g</th>\n",
       "      <th>bottom_middle_infra1</th>\n",
       "      <th>bottom_middle_infra2</th>\n",
       "      <th>bottom_right_r</th>\n",
       "      <th>bottom_right_g</th>\n",
       "      <th>bottom_right_infra1</th>\n",
       "      <th>bottom_right_infra2</th>\n",
       "      <th>land_type</th>\n",
       "    </tr>\n",
       "  </thead>\n",
       "  <tbody>\n",
       "    <tr>\n",
       "      <th>0</th>\n",
       "      <td>92</td>\n",
       "      <td>115</td>\n",
       "      <td>120</td>\n",
       "      <td>94</td>\n",
       "      <td>84</td>\n",
       "      <td>102</td>\n",
       "      <td>106</td>\n",
       "      <td>79</td>\n",
       "      <td>84</td>\n",
       "      <td>102</td>\n",
       "      <td>...</td>\n",
       "      <td>104</td>\n",
       "      <td>88</td>\n",
       "      <td>121</td>\n",
       "      <td>128</td>\n",
       "      <td>100</td>\n",
       "      <td>84</td>\n",
       "      <td>107</td>\n",
       "      <td>113</td>\n",
       "      <td>87</td>\n",
       "      <td>3</td>\n",
       "    </tr>\n",
       "    <tr>\n",
       "      <th>1</th>\n",
       "      <td>84</td>\n",
       "      <td>102</td>\n",
       "      <td>106</td>\n",
       "      <td>79</td>\n",
       "      <td>84</td>\n",
       "      <td>102</td>\n",
       "      <td>102</td>\n",
       "      <td>83</td>\n",
       "      <td>80</td>\n",
       "      <td>102</td>\n",
       "      <td>...</td>\n",
       "      <td>100</td>\n",
       "      <td>84</td>\n",
       "      <td>107</td>\n",
       "      <td>113</td>\n",
       "      <td>87</td>\n",
       "      <td>84</td>\n",
       "      <td>99</td>\n",
       "      <td>104</td>\n",
       "      <td>79</td>\n",
       "      <td>3</td>\n",
       "    </tr>\n",
       "    <tr>\n",
       "      <th>2</th>\n",
       "      <td>84</td>\n",
       "      <td>102</td>\n",
       "      <td>102</td>\n",
       "      <td>83</td>\n",
       "      <td>80</td>\n",
       "      <td>102</td>\n",
       "      <td>102</td>\n",
       "      <td>79</td>\n",
       "      <td>84</td>\n",
       "      <td>94</td>\n",
       "      <td>...</td>\n",
       "      <td>87</td>\n",
       "      <td>84</td>\n",
       "      <td>99</td>\n",
       "      <td>104</td>\n",
       "      <td>79</td>\n",
       "      <td>84</td>\n",
       "      <td>99</td>\n",
       "      <td>104</td>\n",
       "      <td>79</td>\n",
       "      <td>3</td>\n",
       "    </tr>\n",
       "    <tr>\n",
       "      <th>3</th>\n",
       "      <td>80</td>\n",
       "      <td>102</td>\n",
       "      <td>102</td>\n",
       "      <td>79</td>\n",
       "      <td>84</td>\n",
       "      <td>94</td>\n",
       "      <td>102</td>\n",
       "      <td>79</td>\n",
       "      <td>80</td>\n",
       "      <td>94</td>\n",
       "      <td>...</td>\n",
       "      <td>79</td>\n",
       "      <td>84</td>\n",
       "      <td>99</td>\n",
       "      <td>104</td>\n",
       "      <td>79</td>\n",
       "      <td>84</td>\n",
       "      <td>103</td>\n",
       "      <td>104</td>\n",
       "      <td>79</td>\n",
       "      <td>3</td>\n",
       "    </tr>\n",
       "    <tr>\n",
       "      <th>4</th>\n",
       "      <td>84</td>\n",
       "      <td>94</td>\n",
       "      <td>102</td>\n",
       "      <td>79</td>\n",
       "      <td>80</td>\n",
       "      <td>94</td>\n",
       "      <td>98</td>\n",
       "      <td>76</td>\n",
       "      <td>80</td>\n",
       "      <td>102</td>\n",
       "      <td>...</td>\n",
       "      <td>79</td>\n",
       "      <td>84</td>\n",
       "      <td>103</td>\n",
       "      <td>104</td>\n",
       "      <td>79</td>\n",
       "      <td>79</td>\n",
       "      <td>107</td>\n",
       "      <td>109</td>\n",
       "      <td>87</td>\n",
       "      <td>3</td>\n",
       "    </tr>\n",
       "  </tbody>\n",
       "</table>\n",
       "<p>5 rows × 37 columns</p>\n",
       "</div>"
      ],
      "text/plain": [
       "   top_left_r  top_left_g  top_left_infra1  top_left_infra2  top_middle_r  \\\n",
       "0          92         115              120               94            84   \n",
       "1          84         102              106               79            84   \n",
       "2          84         102              102               83            80   \n",
       "3          80         102              102               79            84   \n",
       "4          84          94              102               79            80   \n",
       "\n",
       "   top_middle_g  top_middle_infra1  top_middle_infra2  top_right_r  \\\n",
       "0           102                106                 79           84   \n",
       "1           102                102                 83           80   \n",
       "2           102                102                 79           84   \n",
       "3            94                102                 79           80   \n",
       "4            94                 98                 76           80   \n",
       "\n",
       "   top_right_g  ...  bottom_left_infra2  bottom_middle_r  bottom_middle_g  \\\n",
       "0          102  ...                 104               88              121   \n",
       "1          102  ...                 100               84              107   \n",
       "2           94  ...                  87               84               99   \n",
       "3           94  ...                  79               84               99   \n",
       "4          102  ...                  79               84              103   \n",
       "\n",
       "   bottom_middle_infra1  bottom_middle_infra2  bottom_right_r  bottom_right_g  \\\n",
       "0                   128                   100              84             107   \n",
       "1                   113                    87              84              99   \n",
       "2                   104                    79              84              99   \n",
       "3                   104                    79              84             103   \n",
       "4                   104                    79              79             107   \n",
       "\n",
       "   bottom_right_infra1  bottom_right_infra2  land_type  \n",
       "0                  113                   87          3  \n",
       "1                  104                   79          3  \n",
       "2                  104                   79          3  \n",
       "3                  104                   79          3  \n",
       "4                  109                   87          3  \n",
       "\n",
       "[5 rows x 37 columns]"
      ]
     },
     "execution_count": 520,
     "metadata": {},
     "output_type": "execute_result"
    }
   ],
   "source": [
    "landsat_train.head()"
   ]
  },
  {
   "cell_type": "markdown",
   "id": "5302de78-fcdb-4107-b827-abbd0eff403b",
   "metadata": {},
   "source": [
    "I going to put all of previous code into a function so I can apply it to the test data set."
   ]
  },
  {
   "cell_type": "code",
   "execution_count": 521,
   "id": "001b1326-a83e-418d-8ff6-27a0a83fef19",
   "metadata": {},
   "outputs": [],
   "source": [
    "def prep_data(df):\n",
    "    positions = ['top_left_','top_middle_','top_right_',\n",
    "           'middle_left_','central_pixel_','middle_right_',\n",
    "           'bottom_left_','bottom_middle_','bottom_right_']\n",
    "    \n",
    "    pixels = ['r','g','infra1','infra2']\n",
    "    \n",
    "    temp = list(product(positions, pixels))\n",
    "    \n",
    "    colnames = list()\n",
    "    \n",
    "    for name in temp:\n",
    "        colnames.append(name[0]+name[1])\n",
    "\n",
    "    colnames.append('land_type')\n",
    "    \n",
    "    df.columns = colnames\n",
    "    \n",
    "    return df"
   ]
  },
  {
   "cell_type": "code",
   "execution_count": 522,
   "id": "66b73e5d-a56c-47c9-aeda-23d1802325aa",
   "metadata": {},
   "outputs": [],
   "source": [
    "temp = pd.read_csv(\"LandSat/sat.tst\", sep=\" \",header=None)\n",
    "landsat_test = prep_data(temp)"
   ]
  },
  {
   "cell_type": "code",
   "execution_count": 523,
   "id": "02d0e0da-2124-4ef9-ae35-4f9c93a90fb7",
   "metadata": {},
   "outputs": [
    {
     "data": {
      "text/html": [
       "<div>\n",
       "<style scoped>\n",
       "    .dataframe tbody tr th:only-of-type {\n",
       "        vertical-align: middle;\n",
       "    }\n",
       "\n",
       "    .dataframe tbody tr th {\n",
       "        vertical-align: top;\n",
       "    }\n",
       "\n",
       "    .dataframe thead th {\n",
       "        text-align: right;\n",
       "    }\n",
       "</style>\n",
       "<table border=\"1\" class=\"dataframe\">\n",
       "  <thead>\n",
       "    <tr style=\"text-align: right;\">\n",
       "      <th></th>\n",
       "      <th>top_left_r</th>\n",
       "      <th>top_left_g</th>\n",
       "      <th>top_left_infra1</th>\n",
       "      <th>top_left_infra2</th>\n",
       "      <th>top_middle_r</th>\n",
       "      <th>top_middle_g</th>\n",
       "      <th>top_middle_infra1</th>\n",
       "      <th>top_middle_infra2</th>\n",
       "      <th>top_right_r</th>\n",
       "      <th>top_right_g</th>\n",
       "      <th>...</th>\n",
       "      <th>bottom_left_infra2</th>\n",
       "      <th>bottom_middle_r</th>\n",
       "      <th>bottom_middle_g</th>\n",
       "      <th>bottom_middle_infra1</th>\n",
       "      <th>bottom_middle_infra2</th>\n",
       "      <th>bottom_right_r</th>\n",
       "      <th>bottom_right_g</th>\n",
       "      <th>bottom_right_infra1</th>\n",
       "      <th>bottom_right_infra2</th>\n",
       "      <th>land_type</th>\n",
       "    </tr>\n",
       "  </thead>\n",
       "  <tbody>\n",
       "    <tr>\n",
       "      <th>0</th>\n",
       "      <td>80</td>\n",
       "      <td>102</td>\n",
       "      <td>102</td>\n",
       "      <td>79</td>\n",
       "      <td>76</td>\n",
       "      <td>102</td>\n",
       "      <td>102</td>\n",
       "      <td>79</td>\n",
       "      <td>76</td>\n",
       "      <td>102</td>\n",
       "      <td>...</td>\n",
       "      <td>87</td>\n",
       "      <td>79</td>\n",
       "      <td>107</td>\n",
       "      <td>109</td>\n",
       "      <td>87</td>\n",
       "      <td>79</td>\n",
       "      <td>107</td>\n",
       "      <td>113</td>\n",
       "      <td>87</td>\n",
       "      <td>3</td>\n",
       "    </tr>\n",
       "    <tr>\n",
       "      <th>1</th>\n",
       "      <td>76</td>\n",
       "      <td>102</td>\n",
       "      <td>102</td>\n",
       "      <td>79</td>\n",
       "      <td>76</td>\n",
       "      <td>102</td>\n",
       "      <td>106</td>\n",
       "      <td>83</td>\n",
       "      <td>76</td>\n",
       "      <td>102</td>\n",
       "      <td>...</td>\n",
       "      <td>87</td>\n",
       "      <td>79</td>\n",
       "      <td>107</td>\n",
       "      <td>113</td>\n",
       "      <td>87</td>\n",
       "      <td>79</td>\n",
       "      <td>103</td>\n",
       "      <td>104</td>\n",
       "      <td>83</td>\n",
       "      <td>3</td>\n",
       "    </tr>\n",
       "    <tr>\n",
       "      <th>2</th>\n",
       "      <td>80</td>\n",
       "      <td>98</td>\n",
       "      <td>106</td>\n",
       "      <td>79</td>\n",
       "      <td>76</td>\n",
       "      <td>94</td>\n",
       "      <td>102</td>\n",
       "      <td>76</td>\n",
       "      <td>76</td>\n",
       "      <td>94</td>\n",
       "      <td>...</td>\n",
       "      <td>79</td>\n",
       "      <td>79</td>\n",
       "      <td>95</td>\n",
       "      <td>100</td>\n",
       "      <td>79</td>\n",
       "      <td>79</td>\n",
       "      <td>95</td>\n",
       "      <td>96</td>\n",
       "      <td>75</td>\n",
       "      <td>4</td>\n",
       "    </tr>\n",
       "    <tr>\n",
       "      <th>3</th>\n",
       "      <td>76</td>\n",
       "      <td>94</td>\n",
       "      <td>102</td>\n",
       "      <td>76</td>\n",
       "      <td>76</td>\n",
       "      <td>94</td>\n",
       "      <td>102</td>\n",
       "      <td>76</td>\n",
       "      <td>76</td>\n",
       "      <td>94</td>\n",
       "      <td>...</td>\n",
       "      <td>79</td>\n",
       "      <td>79</td>\n",
       "      <td>95</td>\n",
       "      <td>96</td>\n",
       "      <td>75</td>\n",
       "      <td>79</td>\n",
       "      <td>95</td>\n",
       "      <td>100</td>\n",
       "      <td>75</td>\n",
       "      <td>4</td>\n",
       "    </tr>\n",
       "    <tr>\n",
       "      <th>4</th>\n",
       "      <td>76</td>\n",
       "      <td>94</td>\n",
       "      <td>102</td>\n",
       "      <td>76</td>\n",
       "      <td>76</td>\n",
       "      <td>94</td>\n",
       "      <td>102</td>\n",
       "      <td>76</td>\n",
       "      <td>76</td>\n",
       "      <td>89</td>\n",
       "      <td>...</td>\n",
       "      <td>75</td>\n",
       "      <td>79</td>\n",
       "      <td>95</td>\n",
       "      <td>100</td>\n",
       "      <td>75</td>\n",
       "      <td>75</td>\n",
       "      <td>95</td>\n",
       "      <td>100</td>\n",
       "      <td>79</td>\n",
       "      <td>4</td>\n",
       "    </tr>\n",
       "  </tbody>\n",
       "</table>\n",
       "<p>5 rows × 37 columns</p>\n",
       "</div>"
      ],
      "text/plain": [
       "   top_left_r  top_left_g  top_left_infra1  top_left_infra2  top_middle_r  \\\n",
       "0          80         102              102               79            76   \n",
       "1          76         102              102               79            76   \n",
       "2          80          98              106               79            76   \n",
       "3          76          94              102               76            76   \n",
       "4          76          94              102               76            76   \n",
       "\n",
       "   top_middle_g  top_middle_infra1  top_middle_infra2  top_right_r  \\\n",
       "0           102                102                 79           76   \n",
       "1           102                106                 83           76   \n",
       "2            94                102                 76           76   \n",
       "3            94                102                 76           76   \n",
       "4            94                102                 76           76   \n",
       "\n",
       "   top_right_g  ...  bottom_left_infra2  bottom_middle_r  bottom_middle_g  \\\n",
       "0          102  ...                  87               79              107   \n",
       "1          102  ...                  87               79              107   \n",
       "2           94  ...                  79               79               95   \n",
       "3           94  ...                  79               79               95   \n",
       "4           89  ...                  75               79               95   \n",
       "\n",
       "   bottom_middle_infra1  bottom_middle_infra2  bottom_right_r  bottom_right_g  \\\n",
       "0                   109                    87              79             107   \n",
       "1                   113                    87              79             103   \n",
       "2                   100                    79              79              95   \n",
       "3                    96                    75              79              95   \n",
       "4                   100                    75              75              95   \n",
       "\n",
       "   bottom_right_infra1  bottom_right_infra2  land_type  \n",
       "0                  113                   87          3  \n",
       "1                  104                   83          3  \n",
       "2                   96                   75          4  \n",
       "3                  100                   75          4  \n",
       "4                  100                   79          4  \n",
       "\n",
       "[5 rows x 37 columns]"
      ]
     },
     "execution_count": 523,
     "metadata": {},
     "output_type": "execute_result"
    }
   ],
   "source": [
    "landsat_test.head()"
   ]
  },
  {
   "cell_type": "code",
   "execution_count": 554,
   "id": "dd8a488a-ca75-4f07-a35b-1608a995a795",
   "metadata": {},
   "outputs": [],
   "source": [
    "X_train = np.array(landsat_train.iloc[:,0:36])"
   ]
  },
  {
   "cell_type": "code",
   "execution_count": 555,
   "id": "e9d8b0d2-f1e8-450d-ba06-eee8fd2901aa",
   "metadata": {},
   "outputs": [
    {
     "data": {
      "text/plain": [
       "array([[ 92, 115, 120, ..., 107, 113,  87],\n",
       "       [ 84, 102, 106, ...,  99, 104,  79],\n",
       "       [ 84, 102, 102, ...,  99, 104,  79],\n",
       "       ...,\n",
       "       [ 68,  75, 108, ..., 100, 104,  85],\n",
       "       [ 71,  87, 108, ...,  91, 104,  85],\n",
       "       [ 71,  91, 100, ...,  91, 100,  81]], dtype=int64)"
      ]
     },
     "execution_count": 555,
     "metadata": {},
     "output_type": "execute_result"
    }
   ],
   "source": [
    "X_train "
   ]
  },
  {
   "cell_type": "code",
   "execution_count": 556,
   "id": "0c11d4bd-beaf-435b-881f-140e7e144761",
   "metadata": {},
   "outputs": [],
   "source": [
    "y_train = np.array(landsat_train.iloc[:,-1])"
   ]
  },
  {
   "cell_type": "code",
   "execution_count": 573,
   "id": "9aea5755-f9d9-43ad-ab3f-0ae32d6471c1",
   "metadata": {},
   "outputs": [],
   "source": [
    "X_test = np.array(landsat_test.iloc[:,0:36])\n",
    "y_test = np.array(landsat_test.iloc[:,-1])"
   ]
  },
  {
   "cell_type": "code",
   "execution_count": 574,
   "id": "fd6978a7-a216-4909-8a3b-eed303b2428b",
   "metadata": {},
   "outputs": [],
   "source": [
    "neigh = KNeighborsClassifier(n_neighbors=4)"
   ]
  },
  {
   "cell_type": "code",
   "execution_count": 576,
   "id": "39f13793-9bfb-4066-96ba-d91171f253b2",
   "metadata": {},
   "outputs": [
    {
     "data": {
      "text/plain": [
       "KNeighborsClassifier(n_neighbors=4)"
      ]
     },
     "execution_count": 576,
     "metadata": {},
     "output_type": "execute_result"
    }
   ],
   "source": [
    "neigh.fit(X_test, y_test)"
   ]
  },
  {
   "cell_type": "code",
   "execution_count": 579,
   "id": "1c880e2d-7a4a-4745-b724-910163b2d829",
   "metadata": {},
   "outputs": [],
   "source": [
    "y_pred= neigh.predict(X_test)"
   ]
  },
  {
   "cell_type": "code",
   "execution_count": 578,
   "id": "7ea13b50-64b0-4470-9d8a-8cbbfc0c93e6",
   "metadata": {},
   "outputs": [
    {
     "data": {
      "text/plain": [
       "0.9305"
      ]
     },
     "execution_count": 578,
     "metadata": {},
     "output_type": "execute_result"
    }
   ],
   "source": [
    "neigh.score(X_test,y_test)"
   ]
  },
  {
   "cell_type": "code",
   "execution_count": 580,
   "id": "959d5655-abc8-4993-b899-668d3370e34f",
   "metadata": {},
   "outputs": [],
   "source": [
    "from sklearn.metrics import accuracy_score, confusion_matrix, classification_report"
   ]
  },
  {
   "cell_type": "code",
   "execution_count": 581,
   "id": "1f4deb09-9e74-46ad-98db-f3b8a0ff1921",
   "metadata": {},
   "outputs": [
    {
     "data": {
      "text/plain": [
       "93.05"
      ]
     },
     "execution_count": 581,
     "metadata": {},
     "output_type": "execute_result"
    }
   ],
   "source": [
    "accuracy_score(y_pred, y_test)*100"
   ]
  },
  {
   "cell_type": "code",
   "execution_count": 584,
   "id": "081e29e5-1b32-4ab6-9514-c80e90d7aee1",
   "metadata": {},
   "outputs": [
    {
     "data": {
      "text/plain": [
       "array([[461,   0,   2,   1,  13,   1],\n",
       "       [  0, 221,   1,   0,   1,   0],\n",
       "       [  0,   0, 380,  23,   1,  10],\n",
       "       [  0,   0,   8, 173,   0,  40],\n",
       "       [  0,   1,   1,   3, 217,  10],\n",
       "       [  0,   2,   5,  11,   5, 409]], dtype=int64)"
      ]
     },
     "execution_count": 584,
     "metadata": {},
     "output_type": "execute_result"
    }
   ],
   "source": [
    "confusion_matrix(y_pred, y_test)"
   ]
  },
  {
   "cell_type": "markdown",
   "id": "e33bc298-f247-49d0-8ed9-0e641df86844",
   "metadata": {},
   "source": [
    "## Mushroom Data"
   ]
  },
  {
   "cell_type": "code",
   "execution_count": 585,
   "id": "5d37db11-5670-4399-8267-9bb68274b0cd",
   "metadata": {},
   "outputs": [],
   "source": [
    "mushroom = pd.read_csv(\"Mushroom/agaricus-lepiota.data\", header=None)"
   ]
  },
  {
   "cell_type": "code",
   "execution_count": 586,
   "id": "bffee2ca-c75a-43a5-b70e-8b8d85ce05d9",
   "metadata": {},
   "outputs": [
    {
     "data": {
      "text/html": [
       "<div>\n",
       "<style scoped>\n",
       "    .dataframe tbody tr th:only-of-type {\n",
       "        vertical-align: middle;\n",
       "    }\n",
       "\n",
       "    .dataframe tbody tr th {\n",
       "        vertical-align: top;\n",
       "    }\n",
       "\n",
       "    .dataframe thead th {\n",
       "        text-align: right;\n",
       "    }\n",
       "</style>\n",
       "<table border=\"1\" class=\"dataframe\">\n",
       "  <thead>\n",
       "    <tr style=\"text-align: right;\">\n",
       "      <th></th>\n",
       "      <th>0</th>\n",
       "      <th>1</th>\n",
       "      <th>2</th>\n",
       "      <th>3</th>\n",
       "      <th>4</th>\n",
       "      <th>5</th>\n",
       "      <th>6</th>\n",
       "      <th>7</th>\n",
       "      <th>8</th>\n",
       "      <th>9</th>\n",
       "      <th>...</th>\n",
       "      <th>13</th>\n",
       "      <th>14</th>\n",
       "      <th>15</th>\n",
       "      <th>16</th>\n",
       "      <th>17</th>\n",
       "      <th>18</th>\n",
       "      <th>19</th>\n",
       "      <th>20</th>\n",
       "      <th>21</th>\n",
       "      <th>22</th>\n",
       "    </tr>\n",
       "  </thead>\n",
       "  <tbody>\n",
       "    <tr>\n",
       "      <th>0</th>\n",
       "      <td>p</td>\n",
       "      <td>x</td>\n",
       "      <td>s</td>\n",
       "      <td>n</td>\n",
       "      <td>t</td>\n",
       "      <td>p</td>\n",
       "      <td>f</td>\n",
       "      <td>c</td>\n",
       "      <td>n</td>\n",
       "      <td>k</td>\n",
       "      <td>...</td>\n",
       "      <td>s</td>\n",
       "      <td>w</td>\n",
       "      <td>w</td>\n",
       "      <td>p</td>\n",
       "      <td>w</td>\n",
       "      <td>o</td>\n",
       "      <td>p</td>\n",
       "      <td>k</td>\n",
       "      <td>s</td>\n",
       "      <td>u</td>\n",
       "    </tr>\n",
       "    <tr>\n",
       "      <th>1</th>\n",
       "      <td>e</td>\n",
       "      <td>x</td>\n",
       "      <td>s</td>\n",
       "      <td>y</td>\n",
       "      <td>t</td>\n",
       "      <td>a</td>\n",
       "      <td>f</td>\n",
       "      <td>c</td>\n",
       "      <td>b</td>\n",
       "      <td>k</td>\n",
       "      <td>...</td>\n",
       "      <td>s</td>\n",
       "      <td>w</td>\n",
       "      <td>w</td>\n",
       "      <td>p</td>\n",
       "      <td>w</td>\n",
       "      <td>o</td>\n",
       "      <td>p</td>\n",
       "      <td>n</td>\n",
       "      <td>n</td>\n",
       "      <td>g</td>\n",
       "    </tr>\n",
       "    <tr>\n",
       "      <th>2</th>\n",
       "      <td>e</td>\n",
       "      <td>b</td>\n",
       "      <td>s</td>\n",
       "      <td>w</td>\n",
       "      <td>t</td>\n",
       "      <td>l</td>\n",
       "      <td>f</td>\n",
       "      <td>c</td>\n",
       "      <td>b</td>\n",
       "      <td>n</td>\n",
       "      <td>...</td>\n",
       "      <td>s</td>\n",
       "      <td>w</td>\n",
       "      <td>w</td>\n",
       "      <td>p</td>\n",
       "      <td>w</td>\n",
       "      <td>o</td>\n",
       "      <td>p</td>\n",
       "      <td>n</td>\n",
       "      <td>n</td>\n",
       "      <td>m</td>\n",
       "    </tr>\n",
       "    <tr>\n",
       "      <th>3</th>\n",
       "      <td>p</td>\n",
       "      <td>x</td>\n",
       "      <td>y</td>\n",
       "      <td>w</td>\n",
       "      <td>t</td>\n",
       "      <td>p</td>\n",
       "      <td>f</td>\n",
       "      <td>c</td>\n",
       "      <td>n</td>\n",
       "      <td>n</td>\n",
       "      <td>...</td>\n",
       "      <td>s</td>\n",
       "      <td>w</td>\n",
       "      <td>w</td>\n",
       "      <td>p</td>\n",
       "      <td>w</td>\n",
       "      <td>o</td>\n",
       "      <td>p</td>\n",
       "      <td>k</td>\n",
       "      <td>s</td>\n",
       "      <td>u</td>\n",
       "    </tr>\n",
       "    <tr>\n",
       "      <th>4</th>\n",
       "      <td>e</td>\n",
       "      <td>x</td>\n",
       "      <td>s</td>\n",
       "      <td>g</td>\n",
       "      <td>f</td>\n",
       "      <td>n</td>\n",
       "      <td>f</td>\n",
       "      <td>w</td>\n",
       "      <td>b</td>\n",
       "      <td>k</td>\n",
       "      <td>...</td>\n",
       "      <td>s</td>\n",
       "      <td>w</td>\n",
       "      <td>w</td>\n",
       "      <td>p</td>\n",
       "      <td>w</td>\n",
       "      <td>o</td>\n",
       "      <td>e</td>\n",
       "      <td>n</td>\n",
       "      <td>a</td>\n",
       "      <td>g</td>\n",
       "    </tr>\n",
       "  </tbody>\n",
       "</table>\n",
       "<p>5 rows × 23 columns</p>\n",
       "</div>"
      ],
      "text/plain": [
       "  0  1  2  3  4  5  6  7  8  9   ... 13 14 15 16 17 18 19 20 21 22\n",
       "0  p  x  s  n  t  p  f  c  n  k  ...  s  w  w  p  w  o  p  k  s  u\n",
       "1  e  x  s  y  t  a  f  c  b  k  ...  s  w  w  p  w  o  p  n  n  g\n",
       "2  e  b  s  w  t  l  f  c  b  n  ...  s  w  w  p  w  o  p  n  n  m\n",
       "3  p  x  y  w  t  p  f  c  n  n  ...  s  w  w  p  w  o  p  k  s  u\n",
       "4  e  x  s  g  f  n  f  w  b  k  ...  s  w  w  p  w  o  e  n  a  g\n",
       "\n",
       "[5 rows x 23 columns]"
      ]
     },
     "execution_count": 586,
     "metadata": {},
     "output_type": "execute_result"
    }
   ],
   "source": [
    "mushroom.head()"
   ]
  },
  {
   "cell_type": "markdown",
   "id": "9abc1a91-116d-4a32-a2a3-214462691bf1",
   "metadata": {},
   "source": [
    "The column names are not in the dataset. I need to get the column names so I can use them. I'm going to use Regular Expression to do this."
   ]
  },
  {
   "cell_type": "code",
   "execution_count": 587,
   "id": "f056bb8f-d977-4603-b8d0-9de8ac85e6ec",
   "metadata": {},
   "outputs": [],
   "source": [
    "import re"
   ]
  },
  {
   "cell_type": "markdown",
   "id": "22be6a6a-5020-44ca-a2a9-051e6c0309a1",
   "metadata": {},
   "source": [
    "This is the pattern to search for."
   ]
  },
  {
   "cell_type": "code",
   "execution_count": 588,
   "id": "d1c76371-a3a1-4f09-886c-6ed1da4a2704",
   "metadata": {},
   "outputs": [],
   "source": [
    "pattern=\"\\d+.\\s[a-z]+-?[a-z]+\""
   ]
  },
  {
   "cell_type": "markdown",
   "id": "105fcf16-7d88-4f16-a0c0-b5529d0f671d",
   "metadata": {},
   "source": [
    "Read the file that contains the column names."
   ]
  },
  {
   "cell_type": "code",
   "execution_count": 589,
   "id": "ea3fb77e-ad1d-4015-aef8-f353c4633356",
   "metadata": {},
   "outputs": [],
   "source": [
    "file = open('Mushroom/columns.txt', mode='r')\n",
    "data = file.read()\n",
    "file.close()"
   ]
  },
  {
   "cell_type": "markdown",
   "id": "416b1273-d2ac-410c-821a-187e516a36f3",
   "metadata": {},
   "source": [
    "Search the text and place the matched data into a list."
   ]
  },
  {
   "cell_type": "code",
   "execution_count": 590,
   "id": "28c9bc01-fec3-47a0-b5a2-a248ce5ac6fb",
   "metadata": {},
   "outputs": [],
   "source": [
    "x = re.findall(pattern, data)"
   ]
  },
  {
   "cell_type": "code",
   "execution_count": 591,
   "id": "4be473bc-0c22-4069-881b-fcb4b0b445c6",
   "metadata": {},
   "outputs": [],
   "source": [
    "colnames = list()"
   ]
  },
  {
   "cell_type": "code",
   "execution_count": 592,
   "id": "6c144622-2c9a-4e73-9441-33d7b72eac97",
   "metadata": {},
   "outputs": [],
   "source": [
    "colnames.append('mushroom_type')\n",
    "for name in x:\n",
    "    colnames.append(re.sub(\"^\\d+.\\s\", \"\", name))"
   ]
  },
  {
   "cell_type": "code",
   "execution_count": 593,
   "id": "93a4beea-2018-4fda-b50a-7890a500398c",
   "metadata": {},
   "outputs": [
    {
     "data": {
      "text/plain": [
       "['mushroom_type',\n",
       " 'cap-shape',\n",
       " 'cap-surface',\n",
       " 'cap-color',\n",
       " 'bruises',\n",
       " 'odor',\n",
       " 'gill-attachment',\n",
       " 'gill-spacing',\n",
       " 'gill-size',\n",
       " 'gill-color',\n",
       " 'stalk-shape',\n",
       " 'stalk-root',\n",
       " 'stalk-surface',\n",
       " 'stalk-surface',\n",
       " 'stalk-color',\n",
       " 'stalk-color',\n",
       " 'veil-type',\n",
       " 'veil-color',\n",
       " 'ring-number',\n",
       " 'ring-type',\n",
       " 'spore-print',\n",
       " 'population',\n",
       " 'habitat']"
      ]
     },
     "execution_count": 593,
     "metadata": {},
     "output_type": "execute_result"
    }
   ],
   "source": [
    "colnames"
   ]
  },
  {
   "cell_type": "code",
   "execution_count": 594,
   "id": "6c86d0fb-42c0-4885-942e-a16340ed207b",
   "metadata": {},
   "outputs": [],
   "source": [
    "mushroom.columns = colnames"
   ]
  },
  {
   "cell_type": "code",
   "execution_count": 595,
   "id": "f868923f-d76a-4b28-91c0-034d257a8126",
   "metadata": {},
   "outputs": [
    {
     "data": {
      "text/html": [
       "<div>\n",
       "<style scoped>\n",
       "    .dataframe tbody tr th:only-of-type {\n",
       "        vertical-align: middle;\n",
       "    }\n",
       "\n",
       "    .dataframe tbody tr th {\n",
       "        vertical-align: top;\n",
       "    }\n",
       "\n",
       "    .dataframe thead th {\n",
       "        text-align: right;\n",
       "    }\n",
       "</style>\n",
       "<table border=\"1\" class=\"dataframe\">\n",
       "  <thead>\n",
       "    <tr style=\"text-align: right;\">\n",
       "      <th></th>\n",
       "      <th>mushroom_type</th>\n",
       "      <th>cap-shape</th>\n",
       "      <th>cap-surface</th>\n",
       "      <th>cap-color</th>\n",
       "      <th>bruises</th>\n",
       "      <th>odor</th>\n",
       "      <th>gill-attachment</th>\n",
       "      <th>gill-spacing</th>\n",
       "      <th>gill-size</th>\n",
       "      <th>gill-color</th>\n",
       "      <th>...</th>\n",
       "      <th>stalk-surface</th>\n",
       "      <th>stalk-color</th>\n",
       "      <th>stalk-color</th>\n",
       "      <th>veil-type</th>\n",
       "      <th>veil-color</th>\n",
       "      <th>ring-number</th>\n",
       "      <th>ring-type</th>\n",
       "      <th>spore-print</th>\n",
       "      <th>population</th>\n",
       "      <th>habitat</th>\n",
       "    </tr>\n",
       "  </thead>\n",
       "  <tbody>\n",
       "    <tr>\n",
       "      <th>0</th>\n",
       "      <td>p</td>\n",
       "      <td>x</td>\n",
       "      <td>s</td>\n",
       "      <td>n</td>\n",
       "      <td>t</td>\n",
       "      <td>p</td>\n",
       "      <td>f</td>\n",
       "      <td>c</td>\n",
       "      <td>n</td>\n",
       "      <td>k</td>\n",
       "      <td>...</td>\n",
       "      <td>s</td>\n",
       "      <td>w</td>\n",
       "      <td>w</td>\n",
       "      <td>p</td>\n",
       "      <td>w</td>\n",
       "      <td>o</td>\n",
       "      <td>p</td>\n",
       "      <td>k</td>\n",
       "      <td>s</td>\n",
       "      <td>u</td>\n",
       "    </tr>\n",
       "    <tr>\n",
       "      <th>1</th>\n",
       "      <td>e</td>\n",
       "      <td>x</td>\n",
       "      <td>s</td>\n",
       "      <td>y</td>\n",
       "      <td>t</td>\n",
       "      <td>a</td>\n",
       "      <td>f</td>\n",
       "      <td>c</td>\n",
       "      <td>b</td>\n",
       "      <td>k</td>\n",
       "      <td>...</td>\n",
       "      <td>s</td>\n",
       "      <td>w</td>\n",
       "      <td>w</td>\n",
       "      <td>p</td>\n",
       "      <td>w</td>\n",
       "      <td>o</td>\n",
       "      <td>p</td>\n",
       "      <td>n</td>\n",
       "      <td>n</td>\n",
       "      <td>g</td>\n",
       "    </tr>\n",
       "    <tr>\n",
       "      <th>2</th>\n",
       "      <td>e</td>\n",
       "      <td>b</td>\n",
       "      <td>s</td>\n",
       "      <td>w</td>\n",
       "      <td>t</td>\n",
       "      <td>l</td>\n",
       "      <td>f</td>\n",
       "      <td>c</td>\n",
       "      <td>b</td>\n",
       "      <td>n</td>\n",
       "      <td>...</td>\n",
       "      <td>s</td>\n",
       "      <td>w</td>\n",
       "      <td>w</td>\n",
       "      <td>p</td>\n",
       "      <td>w</td>\n",
       "      <td>o</td>\n",
       "      <td>p</td>\n",
       "      <td>n</td>\n",
       "      <td>n</td>\n",
       "      <td>m</td>\n",
       "    </tr>\n",
       "    <tr>\n",
       "      <th>3</th>\n",
       "      <td>p</td>\n",
       "      <td>x</td>\n",
       "      <td>y</td>\n",
       "      <td>w</td>\n",
       "      <td>t</td>\n",
       "      <td>p</td>\n",
       "      <td>f</td>\n",
       "      <td>c</td>\n",
       "      <td>n</td>\n",
       "      <td>n</td>\n",
       "      <td>...</td>\n",
       "      <td>s</td>\n",
       "      <td>w</td>\n",
       "      <td>w</td>\n",
       "      <td>p</td>\n",
       "      <td>w</td>\n",
       "      <td>o</td>\n",
       "      <td>p</td>\n",
       "      <td>k</td>\n",
       "      <td>s</td>\n",
       "      <td>u</td>\n",
       "    </tr>\n",
       "    <tr>\n",
       "      <th>4</th>\n",
       "      <td>e</td>\n",
       "      <td>x</td>\n",
       "      <td>s</td>\n",
       "      <td>g</td>\n",
       "      <td>f</td>\n",
       "      <td>n</td>\n",
       "      <td>f</td>\n",
       "      <td>w</td>\n",
       "      <td>b</td>\n",
       "      <td>k</td>\n",
       "      <td>...</td>\n",
       "      <td>s</td>\n",
       "      <td>w</td>\n",
       "      <td>w</td>\n",
       "      <td>p</td>\n",
       "      <td>w</td>\n",
       "      <td>o</td>\n",
       "      <td>e</td>\n",
       "      <td>n</td>\n",
       "      <td>a</td>\n",
       "      <td>g</td>\n",
       "    </tr>\n",
       "  </tbody>\n",
       "</table>\n",
       "<p>5 rows × 23 columns</p>\n",
       "</div>"
      ],
      "text/plain": [
       "  mushroom_type cap-shape cap-surface cap-color bruises odor gill-attachment  \\\n",
       "0             p         x           s         n       t    p               f   \n",
       "1             e         x           s         y       t    a               f   \n",
       "2             e         b           s         w       t    l               f   \n",
       "3             p         x           y         w       t    p               f   \n",
       "4             e         x           s         g       f    n               f   \n",
       "\n",
       "  gill-spacing gill-size gill-color  ... stalk-surface stalk-color  \\\n",
       "0            c         n          k  ...             s           w   \n",
       "1            c         b          k  ...             s           w   \n",
       "2            c         b          n  ...             s           w   \n",
       "3            c         n          n  ...             s           w   \n",
       "4            w         b          k  ...             s           w   \n",
       "\n",
       "  stalk-color veil-type veil-color ring-number ring-type spore-print  \\\n",
       "0           w         p          w           o         p           k   \n",
       "1           w         p          w           o         p           n   \n",
       "2           w         p          w           o         p           n   \n",
       "3           w         p          w           o         p           k   \n",
       "4           w         p          w           o         e           n   \n",
       "\n",
       "  population habitat  \n",
       "0          s       u  \n",
       "1          n       g  \n",
       "2          n       m  \n",
       "3          s       u  \n",
       "4          a       g  \n",
       "\n",
       "[5 rows x 23 columns]"
      ]
     },
     "execution_count": 595,
     "metadata": {},
     "output_type": "execute_result"
    }
   ],
   "source": [
    "mushroom.head()"
   ]
  },
  {
   "cell_type": "code",
   "execution_count": 596,
   "id": "22de5b3d-fd65-4747-97fc-fa36d7a931b1",
   "metadata": {},
   "outputs": [
    {
     "data": {
      "text/plain": [
       "23"
      ]
     },
     "execution_count": 596,
     "metadata": {},
     "output_type": "execute_result"
    }
   ],
   "source": [
    "len(mushroom.columns)"
   ]
  },
  {
   "cell_type": "code",
   "execution_count": 597,
   "id": "c0a838db-3f50-4903-9dcf-47b78af7006e",
   "metadata": {},
   "outputs": [
    {
     "data": {
      "text/plain": [
       "8124"
      ]
     },
     "execution_count": 597,
     "metadata": {},
     "output_type": "execute_result"
    }
   ],
   "source": [
    "len(mushroom)"
   ]
  },
  {
   "cell_type": "code",
   "execution_count": 598,
   "id": "603fe958-0d06-4e30-96de-9e2768f1f22f",
   "metadata": {},
   "outputs": [],
   "source": [
    "X = np.array(mushroom.iloc[:,1:22])\n",
    "y = np.array(mushroom.iloc[:,0])"
   ]
  },
  {
   "cell_type": "code",
   "execution_count": 599,
   "id": "e16e256d-3944-4d1a-a8eb-bfee6edc00f2",
   "metadata": {},
   "outputs": [],
   "source": [
    "from sklearn import preprocessing"
   ]
  },
  {
   "cell_type": "code",
   "execution_count": 600,
   "id": "4024a84c-1056-43d8-9e7b-6883c80af981",
   "metadata": {},
   "outputs": [],
   "source": [
    "l = preprocessing.LabelEncoder()\n",
    "y = l.fit_transform(y)"
   ]
  },
  {
   "cell_type": "code",
   "execution_count": 601,
   "id": "2a08adbd-aa60-45cc-853b-87c018c71f94",
   "metadata": {},
   "outputs": [
    {
     "data": {
      "text/plain": [
       "array([1, 0, 0, ..., 0, 1, 0])"
      ]
     },
     "execution_count": 601,
     "metadata": {},
     "output_type": "execute_result"
    }
   ],
   "source": [
    "y"
   ]
  },
  {
   "cell_type": "code",
   "execution_count": 602,
   "id": "1991d35b-30f9-4f4a-bab5-d37c4f055a49",
   "metadata": {},
   "outputs": [],
   "source": [
    "from sklearn.preprocessing import OneHotEncoder\n",
    "enc = OneHotEncoder(handle_unknown='ignore')"
   ]
  },
  {
   "cell_type": "code",
   "execution_count": 603,
   "id": "520ac162-3c96-4916-a0cf-cc5e0cb422fc",
   "metadata": {},
   "outputs": [],
   "source": [
    "X = enc.fit_transform(X).toarray()"
   ]
  },
  {
   "cell_type": "code",
   "execution_count": 604,
   "id": "84cc081c-454a-4299-b5f3-83caf258b3ec",
   "metadata": {},
   "outputs": [
    {
     "data": {
      "text/plain": [
       "array(['x0_b', 'x0_c', 'x0_f', 'x0_k', 'x0_s', 'x0_x', 'x1_f', 'x1_g',\n",
       "       'x1_s', 'x1_y', 'x2_b', 'x2_c', 'x2_e', 'x2_g', 'x2_n', 'x2_p',\n",
       "       'x2_r', 'x2_u', 'x2_w', 'x2_y', 'x3_f', 'x3_t', 'x4_a', 'x4_c',\n",
       "       'x4_f', 'x4_l', 'x4_m', 'x4_n', 'x4_p', 'x4_s', 'x4_y', 'x5_a',\n",
       "       'x5_f', 'x6_c', 'x6_w', 'x7_b', 'x7_n', 'x8_b', 'x8_e', 'x8_g',\n",
       "       'x8_h', 'x8_k', 'x8_n', 'x8_o', 'x8_p', 'x8_r', 'x8_u', 'x8_w',\n",
       "       'x8_y', 'x9_e', 'x9_t', 'x10_?', 'x10_b', 'x10_c', 'x10_e',\n",
       "       'x10_r', 'x11_f', 'x11_k', 'x11_s', 'x11_y', 'x12_f', 'x12_k',\n",
       "       'x12_s', 'x12_y', 'x13_b', 'x13_c', 'x13_e', 'x13_g', 'x13_n',\n",
       "       'x13_o', 'x13_p', 'x13_w', 'x13_y', 'x14_b', 'x14_c', 'x14_e',\n",
       "       'x14_g', 'x14_n', 'x14_o', 'x14_p', 'x14_w', 'x14_y', 'x15_p',\n",
       "       'x16_n', 'x16_o', 'x16_w', 'x16_y', 'x17_n', 'x17_o', 'x17_t',\n",
       "       'x18_e', 'x18_f', 'x18_l', 'x18_n', 'x18_p', 'x19_b', 'x19_h',\n",
       "       'x19_k', 'x19_n', 'x19_o', 'x19_r', 'x19_u', 'x19_w', 'x19_y',\n",
       "       'x20_a', 'x20_c', 'x20_n', 'x20_s', 'x20_v', 'x20_y'], dtype=object)"
      ]
     },
     "execution_count": 604,
     "metadata": {},
     "output_type": "execute_result"
    }
   ],
   "source": [
    "enc.get_feature_names()"
   ]
  },
  {
   "cell_type": "code",
   "execution_count": 605,
   "id": "4404c4a1-b208-4439-b2e7-c2f0368779f7",
   "metadata": {},
   "outputs": [],
   "source": [
    "from sklearn.model_selection import train_test_split"
   ]
  },
  {
   "cell_type": "code",
   "execution_count": 606,
   "id": "d93f4d71-a684-4299-a519-97fa12f561d1",
   "metadata": {},
   "outputs": [],
   "source": [
    "X_train, X_test, y_train, y_test = train_test_split(X,y, test_size=.20, random_state=32)"
   ]
  },
  {
   "cell_type": "code",
   "execution_count": 607,
   "id": "5c393d05-4f96-4961-939a-72df06a13d10",
   "metadata": {},
   "outputs": [
    {
     "data": {
      "text/plain": [
       "array([[0., 0., 0., ..., 1., 0., 0.],\n",
       "       [0., 0., 1., ..., 0., 1., 0.],\n",
       "       [0., 0., 1., ..., 0., 0., 0.],\n",
       "       ...,\n",
       "       [0., 0., 0., ..., 0., 0., 0.],\n",
       "       [0., 0., 1., ..., 1., 0., 0.],\n",
       "       [0., 0., 0., ..., 0., 0., 1.]])"
      ]
     },
     "execution_count": 607,
     "metadata": {},
     "output_type": "execute_result"
    }
   ],
   "source": [
    "X_train"
   ]
  },
  {
   "cell_type": "code",
   "execution_count": 608,
   "id": "bd74e835-e78b-46b2-a983-10fd36cf42f3",
   "metadata": {},
   "outputs": [],
   "source": [
    "neigh = KNeighborsClassifier(n_neighbors=5)"
   ]
  },
  {
   "cell_type": "code",
   "execution_count": 609,
   "id": "cc95c7db-7e2a-4e43-af5b-6400aae2cf99",
   "metadata": {},
   "outputs": [
    {
     "data": {
      "text/plain": [
       "KNeighborsClassifier()"
      ]
     },
     "execution_count": 609,
     "metadata": {},
     "output_type": "execute_result"
    }
   ],
   "source": [
    "neigh.fit(X_train,y_train)"
   ]
  },
  {
   "cell_type": "code",
   "execution_count": 610,
   "id": "5a64b89c-1a7f-4fb9-b6af-fd4783a3ecc5",
   "metadata": {},
   "outputs": [],
   "source": [
    "y_pred = neigh.predict(X_test)"
   ]
  },
  {
   "cell_type": "code",
   "execution_count": 611,
   "id": "9a2a608f-9b04-4f18-ae83-206eb3a5dff9",
   "metadata": {},
   "outputs": [
    {
     "data": {
      "text/plain": [
       "1.0"
      ]
     },
     "execution_count": 611,
     "metadata": {},
     "output_type": "execute_result"
    }
   ],
   "source": [
    "neigh.score(X_test,y_test)"
   ]
  },
  {
   "cell_type": "code",
   "execution_count": 612,
   "id": "85f97f54-b3ec-4f7a-bb07-5fd053d19583",
   "metadata": {},
   "outputs": [
    {
     "data": {
      "text/plain": [
       "array([[846,   0],\n",
       "       [  0, 779]], dtype=int64)"
      ]
     },
     "execution_count": 612,
     "metadata": {},
     "output_type": "execute_result"
    }
   ],
   "source": [
    "confusion_matrix(y_pred, y_test)"
   ]
  },
  {
   "cell_type": "code",
   "execution_count": null,
   "id": "19034a64-2b4d-49c3-99bd-408b9e2cb585",
   "metadata": {},
   "outputs": [],
   "source": []
  }
 ],
 "metadata": {
  "kernelspec": {
   "display_name": "Python 3 (ipykernel)",
   "language": "python",
   "name": "python3"
  },
  "language_info": {
   "codemirror_mode": {
    "name": "ipython",
    "version": 3
   },
   "file_extension": ".py",
   "mimetype": "text/x-python",
   "name": "python",
   "nbconvert_exporter": "python",
   "pygments_lexer": "ipython3",
   "version": "3.9.7"
  }
 },
 "nbformat": 4,
 "nbformat_minor": 5
}
