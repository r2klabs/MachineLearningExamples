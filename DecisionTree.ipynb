{
 "cells": [
  {
   "cell_type": "markdown",
   "id": "fe410f82-8e34-4992-80fe-c63f36ad731f",
   "metadata": {},
   "source": [
    "# Decision Tree Classifier\n",
    "\n",
    "### Information Entropy\n",
    "$$ H(X) = -\\sum_{i=1}^{k}p(x_i)log_{b}p(x_i)$$\n",
    "\n",
    "* where k is the number of classes\n",
    "* $p(x_i)$ is the probability of class i\n",
    "* b is the base (usually base 2)\n",
    "\n",
    "### Information Gain\n"
   ]
  },
  {
   "cell_type": "markdown",
   "id": "748407f5-719f-4bd1-85f8-46dc265c354f",
   "metadata": {},
   "source": [
    "A = [X X X Y Y Y] "
   ]
  },
  {
   "cell_type": "code",
   "execution_count": null,
   "id": "ba7f9569-5bf8-4f48-bfb0-e1388aeb1b04",
   "metadata": {},
   "outputs": [],
   "source": [
    "import math\n",
    "EA = -1*((0.5*math.log2(0.5))+(0.5*math.log2(0.5)))"
   ]
  },
  {
   "cell_type": "code",
   "execution_count": null,
   "id": "549ba7fc-322e-4a40-81c8-b397ae695a26",
   "metadata": {},
   "outputs": [],
   "source": [
    "EA"
   ]
  },
  {
   "cell_type": "markdown",
   "id": "568dc3dd-62cb-4897-bf2a-14a7a972c28a",
   "metadata": {},
   "source": [
    "A = [X X X Y Y Y]   \n",
    "LEFT = [X X X Y]   \n",
    "RIGHT = [Y Y]   "
   ]
  },
  {
   "cell_type": "code",
   "execution_count": null,
   "id": "c97264c5-f286-4a3b-8fd0-ed1a0f29a1e1",
   "metadata": {},
   "outputs": [],
   "source": [
    "LEFT = -1*((.75*math.log2(.75))+(.25*math.log2(.25)))\n",
    "RIGHT = -1*((0.5*math.log2(0.5))+(0.5*math.log2(0.5)))"
   ]
  },
  {
   "cell_type": "code",
   "execution_count": null,
   "id": "58ea301f-7831-4e08-ac21-0bc4dc9046a6",
   "metadata": {},
   "outputs": [],
   "source": [
    "print(LEFT)\n",
    "print(RIGHT)"
   ]
  },
  {
   "cell_type": "code",
   "execution_count": null,
   "id": "791d5d0f-05fc-4d54-9986-9faabc3aebe9",
   "metadata": {},
   "outputs": [],
   "source": [
    "1-(.66*LEFT + .33*RIGHT)"
   ]
  },
  {
   "cell_type": "markdown",
   "id": "c8d1f5ee-7552-4625-a8f1-d5d86bc4eb28",
   "metadata": {},
   "source": [
    "This is how much information we gained by the split."
   ]
  },
  {
   "cell_type": "markdown",
   "id": "940221ec-3282-46b3-a3a7-faa841c57d0e",
   "metadata": {},
   "source": [
    "LEFT = [Y]   \n",
    "RIGHT = [Y]   "
   ]
  },
  {
   "cell_type": "code",
   "execution_count": null,
   "id": "9ccd241d-87a7-4c01-a54e-91bc772f72d6",
   "metadata": {},
   "outputs": [],
   "source": [
    "1 - (1*math.log2(1))"
   ]
  },
  {
   "cell_type": "code",
   "execution_count": 1,
   "id": "a5178994-66fd-4c6e-96c8-d9a553e8f4f9",
   "metadata": {},
   "outputs": [],
   "source": [
    "import pandas as pd\n",
    "import numpy as np\n",
    "import matplotlib.pyplot as plt\n",
    "import seaborn as sns\n",
    "%matplotlib inline\n",
    "\n",
    "# Decision Tree model from SKLearn\n",
    "from sklearn import tree\n",
    "from sklearn.tree import export_text\n",
    "import graphviz\n",
    "\n",
    "#Provides a way to split the data into train and test data sets.\n",
    "from sklearn.model_selection import train_test_split \n",
    "\n",
    "#Provides a way to calculate metrics on the model\n",
    "from sklearn.metrics import accuracy_score, confusion_matrix, classification_report\n",
    "#from sklearn.metrics import roc_curve,  roc_auc_score\n",
    "\n"
   ]
  },
  {
   "cell_type": "code",
   "execution_count": 2,
   "id": "7df2effe-e94e-4d5f-b725-887e20d74381",
   "metadata": {},
   "outputs": [],
   "source": [
    "def plot_cm(y_pred, y_test):\n",
    "    cm = confusion_matrix(y_pred, y_test)\n",
    "    fig = plt.figure(figsize=(5,5))\n",
    "    heatmap = sns.heatmap(cm, annot=True, fmt='.2f', cmap='RdYlGn')\n",
    "    plt.ylabel('True label')\n",
    "    plt.xlabel('Predicted Label')"
   ]
  },
  {
   "cell_type": "markdown",
   "id": "5f0070c6-2f25-4fae-a477-101c17e7c616",
   "metadata": {},
   "source": [
    "## Classification Measures\n",
    "\n",
    "Precision\n",
    "$$ p=\\frac{tp}{tp+fp} $$\n",
    "\n",
    "Recall\n",
    "$$ r=\\frac{tp}{tp+fn} $$\n",
    "\n",
    "$$ F_{1} Score = 2 \\times \\frac{p \\times r}{p + r} $$"
   ]
  },
  {
   "cell_type": "markdown",
   "id": "85ee04c5-cd64-44cd-9550-fa74fdc5f750",
   "metadata": {},
   "source": [
    "Load the long and short census data sets. We'll work with the long_census set first."
   ]
  },
  {
   "cell_type": "code",
   "execution_count": 3,
   "id": "58279773-8d65-4567-a3f0-161eb649f107",
   "metadata": {},
   "outputs": [],
   "source": [
    "#long_census = pd.read_csv('adult_census/final_data_set.csv')\n",
    "long_census = pd.read_csv('adult_census/balanced.csv')\n",
    "#short_census = pd.read_csv('adult_census/short_census.csv')"
   ]
  },
  {
   "cell_type": "code",
   "execution_count": 4,
   "id": "9d22b319-151e-4ea0-b2fd-09037038e51c",
   "metadata": {},
   "outputs": [],
   "source": [
    "long_census['salary'].replace(0,\"<=50K\", inplace=True)\n",
    "long_census['salary'].replace(1,\">50K\", inplace=True)"
   ]
  },
  {
   "cell_type": "code",
   "execution_count": 5,
   "id": "838d1643-6b87-4558-844a-f1f3494eb6e2",
   "metadata": {},
   "outputs": [],
   "source": [
    "X = long_census.iloc[:,5:107]\n",
    "y = long_census['salary']"
   ]
  },
  {
   "cell_type": "code",
   "execution_count": 6,
   "id": "27906d7e-fbe5-4340-bb7c-c7debad895b5",
   "metadata": {},
   "outputs": [
    {
     "data": {
      "text/plain": [
       "14000"
      ]
     },
     "execution_count": 6,
     "metadata": {},
     "output_type": "execute_result"
    }
   ],
   "source": [
    "len(long_census)"
   ]
  },
  {
   "cell_type": "code",
   "execution_count": 7,
   "id": "159872d5-9de9-40f5-a697-bb6f0a7eb665",
   "metadata": {},
   "outputs": [],
   "source": [
    "X_train, X_test, y_train, y_test = train_test_split(X,y, \n",
    "                                                    test_size=.20, \n",
    "                                                    random_state=32)"
   ]
  },
  {
   "cell_type": "markdown",
   "id": "b9494c7b-969c-4cb2-b50d-90effb490fb8",
   "metadata": {},
   "source": [
    "Create and fit the model"
   ]
  },
  {
   "cell_type": "code",
   "execution_count": 8,
   "id": "d95da8ab-b86e-44ad-88c4-661bc2d5d055",
   "metadata": {},
   "outputs": [],
   "source": [
    "#clf = tree.DecisionTreeClassifier()\n",
    "clf = tree.DecisionTreeClassifier(criterion=\"entropy\",\n",
    "                                 max_depth=5)\n",
    "clf = clf.fit(X_train, y_train)"
   ]
  },
  {
   "cell_type": "markdown",
   "id": "6abcd83c-e264-4587-9d40-1f4b503039e0",
   "metadata": {},
   "source": [
    "Make the predictions."
   ]
  },
  {
   "cell_type": "code",
   "execution_count": 9,
   "id": "ce98a2e2-f632-4e37-8917-c4b206e6e82c",
   "metadata": {},
   "outputs": [],
   "source": [
    "y_pred = clf.predict(X_test)"
   ]
  },
  {
   "cell_type": "code",
   "execution_count": 10,
   "id": "a8c9650d-4b65-45b9-8a4a-44aab9c636ba",
   "metadata": {},
   "outputs": [
    {
     "data": {
      "image/png": "[encoded data removed]",
      "text/plain": [
       "<Figure size 360x360 with 2 Axes>"
      ]
     },
     "metadata": {
      "needs_background": "light"
     },
     "output_type": "display_data"
    }
   ],
   "source": [
    "plot_cm(y_pred, y_test)"
   ]
  },
  {
   "cell_type": "code",
   "execution_count": 11,
   "id": "f4a3e4b9-b310-4249-920c-a23df724e7af",
   "metadata": {},
   "outputs": [
    {
     "name": "stdout",
     "output_type": "stream",
     "text": [
      "              precision    recall  f1-score   support\n",
      "\n",
      "       <=50K       0.65      0.82      0.72      1092\n",
      "        >50K       0.86      0.71      0.78      1708\n",
      "\n",
      "    accuracy                           0.76      2800\n",
      "   macro avg       0.76      0.77      0.75      2800\n",
      "weighted avg       0.78      0.76      0.76      2800\n",
      "\n"
     ]
    }
   ],
   "source": [
    "print(classification_report(y_pred,y_test))"
   ]
  },
  {
   "cell_type": "code",
   "execution_count": 12,
   "id": "43f11eec-39b5-43eb-8025-d1d629f89506",
   "metadata": {},
   "outputs": [],
   "source": [
    "class_names = ('Low Salary','High Salary')"
   ]
  },
  {
   "cell_type": "code",
   "execution_count": 13,
   "id": "14dc9bdb-3450-46c5-8b32-55d803824d77",
   "metadata": {},
   "outputs": [
    {
     "data": {
      "text/plain": [
       "Index(['federal_gov', 'local_gov', 'never_worked', 'private', 'self_emp_inc',\n",
       "       'self_emp_not_inc', 'state_gov', 'unknown', 'without_pay', '10th',\n",
       "       ...\n",
       "       'puerto_rico', 'scotland', 'south', 'taiwan', 'thailand',\n",
       "       'trinadad&tobago', 'united_states', 'unknown.2', 'vietnam',\n",
       "       'yugoslavia'],\n",
       "      dtype='object', length=102)"
      ]
     },
     "execution_count": 13,
     "metadata": {},
     "output_type": "execute_result"
    }
   ],
   "source": [
    "X.columns"
   ]
  },
  {
   "cell_type": "code",
   "execution_count": 14,
   "id": "2a0edcb9-f026-453d-a89a-e0eb4ea9520b",
   "metadata": {},
   "outputs": [],
   "source": [
    "#r = export_text(clf)"
   ]
  },
  {
   "cell_type": "code",
   "execution_count": 15,
   "id": "5a30a6d8-09ba-437f-94db-526941fa0aab",
   "metadata": {},
   "outputs": [],
   "source": [
    "#print(r)"
   ]
  },
  {
   "cell_type": "code",
   "execution_count": 16,
   "id": "8714d0ae-fdb6-4c7a-b179-ba64fe90644f",
   "metadata": {},
   "outputs": [],
   "source": [
    "#tree.plot_tree(clf)"
   ]
  },
  {
   "cell_type": "code",
   "execution_count": 17,
   "id": "08ccba01-d85b-4e65-a797-ba62e7ac5dd1",
   "metadata": {},
   "outputs": [
    {
     "data": {
      "text/plain": [
       "'census.pdf'"
      ]
     },
     "execution_count": 17,
     "metadata": {},
     "output_type": "execute_result"
    }
   ],
   "source": [
    "dot_data = tree.export_graphviz(clf, out_file=None, \n",
    "                                feature_names=X.columns,\n",
    "                                class_names=class_names,\n",
    "                                filled=True, \n",
    "                                rounded=True,\n",
    "                                label='all',\n",
    "                                special_characters=True,\n",
    "                                proportion=False,\n",
    "                                rotate=True)\n",
    "graph = graphviz.Source(dot_data)\n",
    "graph.render(\"census\")"
   ]
  },
  {
   "cell_type": "markdown",
   "id": "01e3faca-34bc-4518-9683-0d0bd8f45e5c",
   "metadata": {},
   "source": [
    "## LandSat Data"
   ]
  },
  {
   "cell_type": "code",
   "execution_count": 18,
   "id": "a3bdc68d-109c-4924-8c98-0e8373cb3f71",
   "metadata": {},
   "outputs": [],
   "source": [
    "land_train = pd.read_csv('landsat_train.csv')\n",
    "land_test = pd.read_csv('landsat_test.csv')"
   ]
  },
  {
   "cell_type": "code",
   "execution_count": 19,
   "id": "6c87e331-73e2-46be-909d-86b48023a29d",
   "metadata": {},
   "outputs": [],
   "source": [
    "land_train.land_type.replace(1,'red soil', inplace=True)\n",
    "land_train.land_type.replace(2, 'cotton crop', inplace=True) \n",
    "land_train.land_type.replace(3, 'grey soil', inplace=True)\n",
    "land_train.land_type.replace(4, 'damp grey soil', inplace=True)\n",
    "land_train.land_type.replace(5, 'soil with vegetation stubble', inplace=True) \n",
    "land_train.land_type.replace(6, 'mixture class (all types present)', inplace=True)\n",
    "land_train.land_type.replace(7, 'very damp grey soil NB', inplace=True)"
   ]
  },
  {
   "cell_type": "code",
   "execution_count": 20,
   "id": "6ece67df-290a-4aeb-adbf-b6d2cbd16cc2",
   "metadata": {},
   "outputs": [],
   "source": [
    "land_test.land_type.replace(1,'red soil', inplace=True)\n",
    "land_test.land_type.replace(2, 'cotton crop', inplace=True) \n",
    "land_test.land_type.replace(3, 'grey soil', inplace=True)\n",
    "land_test.land_type.replace(4, 'damp grey soil', inplace=True)\n",
    "land_test.land_type.replace(5, 'soil with vegetation stubble', inplace=True) \n",
    "land_test.land_type.replace(6, 'mixture class (all types present)', inplace=True)\n",
    "land_test.land_type.replace(7, 'very damp grey soil NB', inplace=True)"
   ]
  },
  {
   "cell_type": "code",
   "execution_count": 21,
   "id": "f07ba8fd-b388-45fa-9e4b-9c8f1c6450cf",
   "metadata": {},
   "outputs": [],
   "source": [
    "class_names = ['red soil', 'cotton_crop', 'grey soil','damp grey soil',\n",
    "               'soil with veg stubble','very damp grey soil']"
   ]
  },
  {
   "cell_type": "code",
   "execution_count": 22,
   "id": "00bc7631-3b31-4945-bae7-019beb1fbfbd",
   "metadata": {},
   "outputs": [
    {
     "data": {
      "text/html": [
       "<div>\n",
       "<style scoped>\n",
       "    .dataframe tbody tr th:only-of-type {\n",
       "        vertical-align: middle;\n",
       "    }\n",
       "\n",
       "    .dataframe tbody tr th {\n",
       "        vertical-align: top;\n",
       "    }\n",
       "\n",
       "    .dataframe thead th {\n",
       "        text-align: right;\n",
       "    }\n",
       "</style>\n",
       "<table border=\"1\" class=\"dataframe\">\n",
       "  <thead>\n",
       "    <tr style=\"text-align: right;\">\n",
       "      <th></th>\n",
       "      <th>top_left_r</th>\n",
       "      <th>top_left_g</th>\n",
       "      <th>top_left_infra1</th>\n",
       "      <th>top_left_infra2</th>\n",
       "      <th>top_middle_r</th>\n",
       "      <th>top_middle_g</th>\n",
       "      <th>top_middle_infra1</th>\n",
       "      <th>top_middle_infra2</th>\n",
       "      <th>top_right_r</th>\n",
       "      <th>top_right_g</th>\n",
       "      <th>...</th>\n",
       "      <th>bottom_left_infra2</th>\n",
       "      <th>bottom_middle_r</th>\n",
       "      <th>bottom_middle_g</th>\n",
       "      <th>bottom_middle_infra1</th>\n",
       "      <th>bottom_middle_infra2</th>\n",
       "      <th>bottom_right_r</th>\n",
       "      <th>bottom_right_g</th>\n",
       "      <th>bottom_right_infra1</th>\n",
       "      <th>bottom_right_infra2</th>\n",
       "      <th>land_type</th>\n",
       "    </tr>\n",
       "  </thead>\n",
       "  <tbody>\n",
       "    <tr>\n",
       "      <th>0</th>\n",
       "      <td>92</td>\n",
       "      <td>115</td>\n",
       "      <td>120</td>\n",
       "      <td>94</td>\n",
       "      <td>84</td>\n",
       "      <td>102</td>\n",
       "      <td>106</td>\n",
       "      <td>79</td>\n",
       "      <td>84</td>\n",
       "      <td>102</td>\n",
       "      <td>...</td>\n",
       "      <td>104</td>\n",
       "      <td>88</td>\n",
       "      <td>121</td>\n",
       "      <td>128</td>\n",
       "      <td>100</td>\n",
       "      <td>84</td>\n",
       "      <td>107</td>\n",
       "      <td>113</td>\n",
       "      <td>87</td>\n",
       "      <td>grey soil</td>\n",
       "    </tr>\n",
       "    <tr>\n",
       "      <th>1</th>\n",
       "      <td>84</td>\n",
       "      <td>102</td>\n",
       "      <td>106</td>\n",
       "      <td>79</td>\n",
       "      <td>84</td>\n",
       "      <td>102</td>\n",
       "      <td>102</td>\n",
       "      <td>83</td>\n",
       "      <td>80</td>\n",
       "      <td>102</td>\n",
       "      <td>...</td>\n",
       "      <td>100</td>\n",
       "      <td>84</td>\n",
       "      <td>107</td>\n",
       "      <td>113</td>\n",
       "      <td>87</td>\n",
       "      <td>84</td>\n",
       "      <td>99</td>\n",
       "      <td>104</td>\n",
       "      <td>79</td>\n",
       "      <td>grey soil</td>\n",
       "    </tr>\n",
       "    <tr>\n",
       "      <th>2</th>\n",
       "      <td>84</td>\n",
       "      <td>102</td>\n",
       "      <td>102</td>\n",
       "      <td>83</td>\n",
       "      <td>80</td>\n",
       "      <td>102</td>\n",
       "      <td>102</td>\n",
       "      <td>79</td>\n",
       "      <td>84</td>\n",
       "      <td>94</td>\n",
       "      <td>...</td>\n",
       "      <td>87</td>\n",
       "      <td>84</td>\n",
       "      <td>99</td>\n",
       "      <td>104</td>\n",
       "      <td>79</td>\n",
       "      <td>84</td>\n",
       "      <td>99</td>\n",
       "      <td>104</td>\n",
       "      <td>79</td>\n",
       "      <td>grey soil</td>\n",
       "    </tr>\n",
       "    <tr>\n",
       "      <th>3</th>\n",
       "      <td>80</td>\n",
       "      <td>102</td>\n",
       "      <td>102</td>\n",
       "      <td>79</td>\n",
       "      <td>84</td>\n",
       "      <td>94</td>\n",
       "      <td>102</td>\n",
       "      <td>79</td>\n",
       "      <td>80</td>\n",
       "      <td>94</td>\n",
       "      <td>...</td>\n",
       "      <td>79</td>\n",
       "      <td>84</td>\n",
       "      <td>99</td>\n",
       "      <td>104</td>\n",
       "      <td>79</td>\n",
       "      <td>84</td>\n",
       "      <td>103</td>\n",
       "      <td>104</td>\n",
       "      <td>79</td>\n",
       "      <td>grey soil</td>\n",
       "    </tr>\n",
       "    <tr>\n",
       "      <th>4</th>\n",
       "      <td>84</td>\n",
       "      <td>94</td>\n",
       "      <td>102</td>\n",
       "      <td>79</td>\n",
       "      <td>80</td>\n",
       "      <td>94</td>\n",
       "      <td>98</td>\n",
       "      <td>76</td>\n",
       "      <td>80</td>\n",
       "      <td>102</td>\n",
       "      <td>...</td>\n",
       "      <td>79</td>\n",
       "      <td>84</td>\n",
       "      <td>103</td>\n",
       "      <td>104</td>\n",
       "      <td>79</td>\n",
       "      <td>79</td>\n",
       "      <td>107</td>\n",
       "      <td>109</td>\n",
       "      <td>87</td>\n",
       "      <td>grey soil</td>\n",
       "    </tr>\n",
       "  </tbody>\n",
       "</table>\n",
       "<p>5 rows × 37 columns</p>\n",
       "</div>"
      ],
      "text/plain": [
       "   top_left_r  top_left_g  top_left_infra1  top_left_infra2  top_middle_r  \\\n",
       "0          92         115              120               94            84   \n",
       "1          84         102              106               79            84   \n",
       "2          84         102              102               83            80   \n",
       "3          80         102              102               79            84   \n",
       "4          84          94              102               79            80   \n",
       "\n",
       "   top_middle_g  top_middle_infra1  top_middle_infra2  top_right_r  \\\n",
       "0           102                106                 79           84   \n",
       "1           102                102                 83           80   \n",
       "2           102                102                 79           84   \n",
       "3            94                102                 79           80   \n",
       "4            94                 98                 76           80   \n",
       "\n",
       "   top_right_g  ...  bottom_left_infra2  bottom_middle_r  bottom_middle_g  \\\n",
       "0          102  ...                 104               88              121   \n",
       "1          102  ...                 100               84              107   \n",
       "2           94  ...                  87               84               99   \n",
       "3           94  ...                  79               84               99   \n",
       "4          102  ...                  79               84              103   \n",
       "\n",
       "   bottom_middle_infra1  bottom_middle_infra2  bottom_right_r  bottom_right_g  \\\n",
       "0                   128                   100              84             107   \n",
       "1                   113                    87              84              99   \n",
       "2                   104                    79              84              99   \n",
       "3                   104                    79              84             103   \n",
       "4                   104                    79              79             107   \n",
       "\n",
       "   bottom_right_infra1  bottom_right_infra2  land_type  \n",
       "0                  113                   87  grey soil  \n",
       "1                  104                   79  grey soil  \n",
       "2                  104                   79  grey soil  \n",
       "3                  104                   79  grey soil  \n",
       "4                  109                   87  grey soil  \n",
       "\n",
       "[5 rows x 37 columns]"
      ]
     },
     "execution_count": 22,
     "metadata": {},
     "output_type": "execute_result"
    }
   ],
   "source": [
    "land_train.head()"
   ]
  },
  {
   "cell_type": "code",
   "execution_count": 23,
   "id": "43d8e89f-4e4e-4f02-a253-46f283ad28cc",
   "metadata": {},
   "outputs": [],
   "source": [
    "X_train = land_train.iloc[:,0:36]\n",
    "y_train = land_train.iloc[:,36:37]\n",
    "\n",
    "X_test = land_test.iloc[:,0:36]\n",
    "y_test = land_test.iloc[:,36:37]"
   ]
  },
  {
   "cell_type": "code",
   "execution_count": 24,
   "id": "486d5e33-e0f4-4caa-8ca2-a3d3d14c397c",
   "metadata": {},
   "outputs": [],
   "source": [
    "clf = tree.DecisionTreeClassifier(min_samples_leaf=20)\n",
    "clf = clf.fit(X_train, y_train)"
   ]
  },
  {
   "cell_type": "code",
   "execution_count": 25,
   "id": "f7ecc746-8e10-46f0-9278-cd91a556fb44",
   "metadata": {},
   "outputs": [],
   "source": [
    "y_pred = clf.predict(X_test)"
   ]
  },
  {
   "cell_type": "code",
   "execution_count": 26,
   "id": "ef1f1abd-0516-49ca-a817-22ccd1b3f557",
   "metadata": {},
   "outputs": [
    {
     "name": "stdout",
     "output_type": "stream",
     "text": [
      "                              precision    recall  f1-score   support\n",
      "\n",
      "                 cotton crop       0.96      0.90      0.92       239\n",
      "              damp grey soil       0.55      0.59      0.57       194\n",
      "                   grey soil       0.91      0.86      0.88       419\n",
      "                    red soil       0.95      0.93      0.94       473\n",
      "soil with vegetation stubble       0.72      0.76      0.74       224\n",
      "      very damp grey soil NB       0.80      0.83      0.81       451\n",
      "\n",
      "                    accuracy                           0.84      2000\n",
      "                   macro avg       0.81      0.81      0.81      2000\n",
      "                weighted avg       0.84      0.84      0.84      2000\n",
      "\n"
     ]
    }
   ],
   "source": [
    "print(classification_report(y_pred,y_test))"
   ]
  },
  {
   "cell_type": "code",
   "execution_count": 27,
   "id": "b54612df-b2ba-4ea0-8528-979e5f11737f",
   "metadata": {},
   "outputs": [
    {
     "data": {
      "text/plain": [
       "'landsat_all_pixels.pdf'"
      ]
     },
     "execution_count": 27,
     "metadata": {},
     "output_type": "execute_result"
    }
   ],
   "source": [
    "#tree.plot_tree(clf)\n",
    "dot_data = tree.export_graphviz(clf, out_file=None, \n",
    "                                feature_names=X_train.columns,\n",
    "                                class_names=class_names,\n",
    "                                filled=True, \n",
    "                                rounded=True,\n",
    "                                label='none',\n",
    "                                special_characters=True,\n",
    "                                proportion=True,\n",
    "                                rotate=True)\n",
    "graph = graphviz.Source(dot_data)\n",
    "graph.render(\"landsat_all_pixels\")"
   ]
  },
  {
   "cell_type": "code",
   "execution_count": 28,
   "id": "78a6cd41-2d9b-4a61-9582-3813dbe02216",
   "metadata": {},
   "outputs": [],
   "source": [
    "land_train = land_train[['central_pixel_r',\n",
    "       'central_pixel_g', 'central_pixel_infra1', 'central_pixel_infra2','land_type']]\n",
    "land_test = land_test[['central_pixel_r',\n",
    "       'central_pixel_g', 'central_pixel_infra1', 'central_pixel_infra2','land_type']]"
   ]
  },
  {
   "cell_type": "code",
   "execution_count": 29,
   "id": "f6423492-75b9-4856-87f0-c5b93aad6e09",
   "metadata": {},
   "outputs": [],
   "source": [
    "X_train = land_train.iloc[:,0:4]\n",
    "y_train = land_train.iloc[:,4:5]\n",
    "\n",
    "X_test = land_test.iloc[:,0:4]\n",
    "y_test = land_test.iloc[:,4:5]"
   ]
  },
  {
   "cell_type": "code",
   "execution_count": 30,
   "id": "854c6467-aa70-41e8-a3c1-52dd3d2c1571",
   "metadata": {},
   "outputs": [],
   "source": [
    "clf = tree.DecisionTreeClassifier(min_samples_leaf=20, max_depth=4)\n",
    "clf = clf.fit(X_train, y_train)\n",
    "y_pred = clf.predict(X_test)"
   ]
  },
  {
   "cell_type": "code",
   "execution_count": 31,
   "id": "e2ba8b38-6700-4a56-a64f-af39725af9c5",
   "metadata": {},
   "outputs": [
    {
     "name": "stdout",
     "output_type": "stream",
     "text": [
      "                              precision    recall  f1-score   support\n",
      "\n",
      "                 cotton crop       0.91      0.96      0.93       212\n",
      "              damp grey soil       0.36      0.37      0.36       208\n",
      "                   grey soil       0.91      0.86      0.88       424\n",
      "                    red soil       0.88      0.85      0.87       476\n",
      "soil with vegetation stubble       0.57      0.96      0.71       141\n",
      "      very damp grey soil NB       0.82      0.72      0.77       539\n",
      "\n",
      "                    accuracy                           0.79      2000\n",
      "                   macro avg       0.74      0.78      0.75      2000\n",
      "                weighted avg       0.80      0.79      0.79      2000\n",
      "\n"
     ]
    }
   ],
   "source": [
    "print(classification_report(y_pred,y_test))"
   ]
  },
  {
   "cell_type": "code",
   "execution_count": 32,
   "id": "c017ed75-d536-477a-91a3-47d374c019ec",
   "metadata": {},
   "outputs": [
    {
     "data": {
      "text/plain": [
       "'landsat_central_pixel.pdf'"
      ]
     },
     "execution_count": 32,
     "metadata": {},
     "output_type": "execute_result"
    }
   ],
   "source": [
    "dot_data = tree.export_graphviz(clf, out_file=None, \n",
    "                                feature_names=X_train.columns,\n",
    "                                class_names=class_names,\n",
    "                                filled=True, \n",
    "                                rounded=True,\n",
    "                                label='all',\n",
    "                                special_characters=True,\n",
    "                                proportion=True,\n",
    "                                rotate=True)\n",
    "graph = graphviz.Source(dot_data)\n",
    "graph.render(\"landsat_central_pixel\")"
   ]
  },
  {
   "cell_type": "code",
   "execution_count": null,
   "id": "bc2c9284-a1c4-438b-a26a-9ceebe0da864",
   "metadata": {},
   "outputs": [],
   "source": []
  }
 ],
 "metadata": {
  "kernelspec": {
   "display_name": "Python 3 (ipykernel)",
   "language": "python",
   "name": "python3"
  },
  "language_info": {
   "codemirror_mode": {
    "name": "ipython",
    "version": 3
   },
   "file_extension": ".py",
   "mimetype": "text/x-python",
   "name": "python",
   "nbconvert_exporter": "python",
   "pygments_lexer": "ipython3",
   "version": "3.9.7"
  }
 },
 "nbformat": 4,
 "nbformat_minor": 5
}
