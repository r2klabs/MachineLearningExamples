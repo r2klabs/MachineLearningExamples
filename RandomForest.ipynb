{
 "cells": [
  {
   "cell_type": "markdown",
   "id": "4248891f-bf81-484c-a7ee-e4cfc818f828",
   "metadata": {},
   "source": [
    "## Random Forests"
   ]
  },
  {
   "cell_type": "code",
   "execution_count": 128,
   "id": "a9582cd4-ebf1-44d5-a312-05086d9a3b1a",
   "metadata": {},
   "outputs": [],
   "source": [
    "import pandas as pd\n",
    "import numpy as np\n",
    "import matplotlib.pyplot as plt\n",
    "import seaborn as sns\n",
    "%matplotlib inline\n",
    "\n",
    "# Decision Tree model from SKLearn\n",
    "from sklearn.ensemble import RandomForestClassifier\n",
    "\n",
    "#Provides a way to split the data into train and test data sets.\n",
    "from sklearn.model_selection import train_test_split \n",
    "\n",
    "#Provides a way to calculate metrics on the model\n",
    "from sklearn.metrics import accuracy_score, confusion_matrix, classification_report\n",
    "from sklearn.metrics import roc_curve,  roc_auc_score"
   ]
  },
  {
   "cell_type": "code",
   "execution_count": 129,
   "id": "70eac64a-d025-45bf-9683-7ca6a17870e2",
   "metadata": {},
   "outputs": [],
   "source": [
    "def plot_cm(y_pred, y_test):\n",
    "    cm = confusion_matrix(y_pred, y_test)\n",
    "    fig = plt.figure(figsize=(5,5))\n",
    "    heatmap = sns.heatmap(cm, annot=True, fmt='.2f', cmap='RdYlGn')\n",
    "    plt.ylabel('True label')\n",
    "    plt.xlabel('Predicted Label')"
   ]
  },
  {
   "cell_type": "markdown",
   "id": "149d9346-14ed-48e1-b2ea-c7f939b56c68",
   "metadata": {},
   "source": [
    "## Classification Measures\n",
    "\n",
    "Precision\n",
    "$$ p=\\frac{tp}{tp+fp} $$\n",
    "\n",
    "Recall\n",
    "$$ r=\\frac{tp}{tp+fn} $$\n",
    "\n",
    "$$ F_{1} Score = 2 \\times \\frac{p \\times r}{p + r} $$"
   ]
  },
  {
   "cell_type": "code",
   "execution_count": 158,
   "id": "24fe89d2-30d0-4870-845b-4df70a129a9b",
   "metadata": {},
   "outputs": [],
   "source": [
    "long_census = pd.read_csv('adult_census/final_data_set.csv')\n",
    "#long_census = pd.read_csv('adult_census/balanced.csv')"
   ]
  },
  {
   "cell_type": "code",
   "execution_count": 159,
   "id": "67987abd-a74b-4f9f-91d3-881d299c0884",
   "metadata": {},
   "outputs": [
    {
     "data": {
      "text/plain": [
       "32561"
      ]
     },
     "execution_count": 159,
     "metadata": {},
     "output_type": "execute_result"
    }
   ],
   "source": [
    "len(long_census)"
   ]
  },
  {
   "cell_type": "code",
   "execution_count": 160,
   "id": "862d64a5-e2cd-4dd8-a861-3cddfb2336a2",
   "metadata": {},
   "outputs": [],
   "source": [
    "X = long_census.iloc[:,5:107]\n",
    "y = long_census['salary']"
   ]
  },
  {
   "cell_type": "code",
   "execution_count": 161,
   "id": "8f6b5e34-6009-4f05-b2c0-34b470d85d60",
   "metadata": {},
   "outputs": [],
   "source": [
    "X_train, X_test, y_train, y_test = train_test_split(X,y, test_size=.20, random_state=32)"
   ]
  },
  {
   "cell_type": "code",
   "execution_count": 162,
   "id": "f1b8495e-dd02-46b2-996d-f6db3271aba9",
   "metadata": {},
   "outputs": [
    {
     "data": {
      "text/plain": [
       "(26048,)"
      ]
     },
     "execution_count": 162,
     "metadata": {},
     "output_type": "execute_result"
    }
   ],
   "source": [
    "y_train.shape"
   ]
  },
  {
   "cell_type": "code",
   "execution_count": 171,
   "id": "721a8828-0e04-4249-971a-7d08b104fc3e",
   "metadata": {},
   "outputs": [
    {
     "data": {
      "text/plain": [
       "RandomForestClassifier(criterion='entropy', n_estimators=250)"
      ]
     },
     "execution_count": 171,
     "metadata": {},
     "output_type": "execute_result"
    }
   ],
   "source": [
    "clf = RandomForestClassifier(n_estimators=250,\n",
    "                            criterion='entropy')\n",
    "clf.fit(X_train,np.ravel(y_train))"
   ]
  },
  {
   "cell_type": "code",
   "execution_count": 172,
   "id": "2a3dac32-5c81-4981-a53e-e9912aa85755",
   "metadata": {},
   "outputs": [],
   "source": [
    "y_pred = clf.predict(X_test)"
   ]
  },
  {
   "cell_type": "code",
   "execution_count": 173,
   "id": "c8596fae-3069-4145-8b97-30c1444bbd76",
   "metadata": {},
   "outputs": [
    {
     "data": {
      "image/png": "[encoded data removed]",
      "text/plain": [
       "<Figure size 360x360 with 2 Axes>"
      ]
     },
     "metadata": {
      "needs_background": "light"
     },
     "output_type": "display_data"
    }
   ],
   "source": [
    "plot_cm(y_pred, y_test)"
   ]
  },
  {
   "cell_type": "code",
   "execution_count": 174,
   "id": "ed434529-6538-4e3b-9bb7-2fb178ab8296",
   "metadata": {},
   "outputs": [
    {
     "name": "stdout",
     "output_type": "stream",
     "text": [
      "              precision    recall  f1-score   support\n",
      "\n",
      "           0       0.91      0.87      0.89      5218\n",
      "           1       0.56      0.66      0.61      1295\n",
      "\n",
      "    accuracy                           0.83      6513\n",
      "   macro avg       0.74      0.77      0.75      6513\n",
      "weighted avg       0.84      0.83      0.83      6513\n",
      "\n"
     ]
    }
   ],
   "source": [
    "print(classification_report(y_pred,y_test))"
   ]
  },
  {
   "cell_type": "markdown",
   "id": "6bfa89a7-4f12-43b5-9a4a-def676742649",
   "metadata": {},
   "source": [
    "## LandSat Data"
   ]
  },
  {
   "cell_type": "code",
   "execution_count": 52,
   "id": "5cc4a204-f6da-4205-a449-a26ca383aed4",
   "metadata": {},
   "outputs": [],
   "source": [
    "land_train = pd.read_csv('landsat_train.csv')\n",
    "land_test = pd.read_csv('landsat_test.csv')"
   ]
  },
  {
   "cell_type": "code",
   "execution_count": 53,
   "id": "ae41c476-dcbd-42a3-9b05-042020457ce5",
   "metadata": {},
   "outputs": [],
   "source": [
    "X_train = land_train.iloc[:,0:36]\n",
    "y_train = land_train.iloc[:,36:37]\n",
    "\n",
    "X_test = land_test.iloc[:,0:36]\n",
    "y_test = land_test.iloc[:,36:37]"
   ]
  },
  {
   "cell_type": "code",
   "execution_count": 62,
   "id": "caad69c6-7a43-46ac-88a0-a61d8f28f4ac",
   "metadata": {},
   "outputs": [
    {
     "data": {
      "text/plain": [
       "(4435,)"
      ]
     },
     "execution_count": 62,
     "metadata": {},
     "output_type": "execute_result"
    }
   ],
   "source": [
    "np.ravel(y_train).shape"
   ]
  },
  {
   "cell_type": "code",
   "execution_count": 63,
   "id": "925cc5e2-1f3c-4d8b-beff-5e56091fda4c",
   "metadata": {},
   "outputs": [
    {
     "data": {
      "text/plain": [
       "RandomForestClassifier(criterion='entropy', max_features=3)"
      ]
     },
     "execution_count": 63,
     "metadata": {},
     "output_type": "execute_result"
    }
   ],
   "source": [
    "clf = RandomForestClassifier(criterion='entropy',\n",
    "                            max_features=3)\n",
    "clf.fit(X_train,np.ravel(y_train))"
   ]
  },
  {
   "cell_type": "code",
   "execution_count": 64,
   "id": "fbd153e1-16bc-4abd-a18e-a4eca733adeb",
   "metadata": {},
   "outputs": [],
   "source": [
    "y_pred = clf.predict(X_test)"
   ]
  },
  {
   "cell_type": "code",
   "execution_count": 65,
   "id": "75588634-b40e-4121-9c36-3a322a5f0df0",
   "metadata": {},
   "outputs": [
    {
     "data": {
      "image/png": "[encoded data removed]",
      "text/plain": [
       "<Figure size 360x360 with 2 Axes>"
      ]
     },
     "metadata": {
      "needs_background": "light"
     },
     "output_type": "display_data"
    }
   ],
   "source": [
    "plot_cm(y_pred, y_test)"
   ]
  },
  {
   "cell_type": "code",
   "execution_count": 66,
   "id": "12299e1c-811f-4c06-95af-c9d0de4923b8",
   "metadata": {},
   "outputs": [
    {
     "name": "stdout",
     "output_type": "stream",
     "text": [
      "              precision    recall  f1-score   support\n",
      "\n",
      "           1       1.00      0.98      0.99       470\n",
      "           2       0.98      0.96      0.97       227\n",
      "           3       0.95      0.89      0.92       428\n",
      "           4       0.61      0.78      0.69       165\n",
      "           5       0.88      0.94      0.91       222\n",
      "           7       0.90      0.86      0.88       488\n",
      "\n",
      "    accuracy                           0.91      2000\n",
      "   macro avg       0.89      0.90      0.89      2000\n",
      "weighted avg       0.92      0.91      0.91      2000\n",
      "\n"
     ]
    }
   ],
   "source": [
    "print(classification_report(y_pred,y_test))"
   ]
  },
  {
   "cell_type": "code",
   "execution_count": null,
   "id": "3ce96d0d-4c1c-4067-bd74-05f6ba574789",
   "metadata": {},
   "outputs": [],
   "source": []
  }
 ],
 "metadata": {
  "kernelspec": {
   "display_name": "Python 3 (ipykernel)",
   "language": "python",
   "name": "python3"
  },
  "language_info": {
   "codemirror_mode": {
    "name": "ipython",
    "version": 3
   },
   "file_extension": ".py",
   "mimetype": "text/x-python",
   "name": "python",
   "nbconvert_exporter": "python",
   "pygments_lexer": "ipython3",
   "version": "3.9.7"
  }
 },
 "nbformat": 4,
 "nbformat_minor": 5
}
