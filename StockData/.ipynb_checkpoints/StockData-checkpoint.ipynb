{
 "cells": [
  {
   "cell_type": "code",
   "execution_count": null,
   "id": "a0bdbcb7-51eb-4143-a545-fb24db27f5f3",
   "metadata": {},
   "outputs": [],
   "source": [
    "import urllib.request\n",
    "import urllib.parse\n",
    "import json\n",
    "import pandas as pd"
   ]
  },
  {
   "cell_type": "code",
   "execution_count": null,
   "id": "e66c9cf0-0bb1-4019-991c-d1ac02a5c11f",
   "metadata": {},
   "outputs": [],
   "source": [
    "url = \"https://api.polygon.io/v2/aggs/ticker/MSFT/range/1/day/2021-07-22/2021-07-22?adjusted=true&sort=asc&limit=120&apiKey=\""
   ]
  },
  {
   "cell_type": "code",
   "execution_count": null,
   "id": "e929a0f3-2660-4e31-9ca0-4fd4783a1b7d",
   "metadata": {},
   "outputs": [],
   "source": [
    "stockData = urllib.request.urlopen(url)"
   ]
  },
  {
   "cell_type": "code",
   "execution_count": null,
   "id": "28e3379e-d493-42c0-bd9c-49e5e252c71c",
   "metadata": {},
   "outputs": [],
   "source": [
    "my_json = stockData.read()"
   ]
  },
  {
   "cell_type": "code",
   "execution_count": null,
   "id": "a04ca564-d9a8-4a01-9ade-9cfccd5e3a2e",
   "metadata": {},
   "outputs": [],
   "source": [
    "my_json"
   ]
  },
  {
   "cell_type": "code",
   "execution_count": null,
   "id": "fa342f88-6c55-4925-aa4c-00bc5411c747",
   "metadata": {},
   "outputs": [],
   "source": [
    "parsed = json.loads(my_json)"
   ]
  },
  {
   "cell_type": "code",
   "execution_count": null,
   "id": "3c0b2d9b-83aa-45e6-a202-c174a3c4d951",
   "metadata": {},
   "outputs": [],
   "source": [
    "parsed"
   ]
  },
  {
   "cell_type": "code",
   "execution_count": null,
   "id": "2c462d98-e0a6-408d-a151-7b2c1903f122",
   "metadata": {},
   "outputs": [],
   "source": [
    "df = pd.json_normalize(parsed)"
   ]
  },
  {
   "cell_type": "code",
   "execution_count": null,
   "id": "e0f007fd-f3f9-4385-8250-eba549f924ad",
   "metadata": {},
   "outputs": [],
   "source": [
    "df"
   ]
  },
  {
   "cell_type": "code",
   "execution_count": null,
   "id": "0daca9c5-88bc-4c76-81ee-be1d7f89027a",
   "metadata": {},
   "outputs": [],
   "source": [
    "#price_data = pd.json_normalize(data=parsed, record_path='results', \n",
    "#                            meta=['v','vw', 'o','c', 'h','l','t','n'])"
   ]
  },
  {
   "cell_type": "code",
   "execution_count": null,
   "id": "ae4c8a5f-50e4-4a7d-857b-641c57bf0866",
   "metadata": {},
   "outputs": [],
   "source": [
    "price_data = pd.json_normalize(data=parsed, record_path='results')"
   ]
  },
  {
   "cell_type": "code",
   "execution_count": null,
   "id": "c1113bbf-55fe-4c49-9686-5245a7fb38ad",
   "metadata": {},
   "outputs": [],
   "source": [
    "price_data"
   ]
  },
  {
   "cell_type": "code",
   "execution_count": null,
   "id": "bd3e9a62-e2d8-4ccc-b33b-87ff0ffeec4d",
   "metadata": {},
   "outputs": [],
   "source": []
  }
 ],
 "metadata": {
  "kernelspec": {
   "display_name": "Python 3 (ipykernel)",
   "language": "python",
   "name": "python3"
  },
  "language_info": {
   "codemirror_mode": {
    "name": "ipython",
    "version": 3
   },
   "file_extension": ".py",
   "mimetype": "text/x-python",
   "name": "python",
   "nbconvert_exporter": "python",
   "pygments_lexer": "ipython3",
   "version": "3.9.7"
  }
 },
 "nbformat": 4,
 "nbformat_minor": 5
}
