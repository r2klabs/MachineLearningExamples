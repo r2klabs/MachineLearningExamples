{
 "cells": [
  {
   "cell_type": "code",
   "execution_count": 38,
   "id": "a0bdbcb7-51eb-4143-a545-fb24db27f5f3",
   "metadata": {},
   "outputs": [],
   "source": [
    "import urllib.request\n",
    "import urllib.parse\n",
    "import json\n",
    "import pandas as pd"
   ]
  },
  {
   "cell_type": "code",
   "execution_count": 39,
   "id": "e66c9cf0-0bb1-4019-991c-d1ac02a5c11f",
   "metadata": {},
   "outputs": [],
   "source": [
    "url = \"https://api.polygon.io/v2/aggs/ticker/MSFT/range/1/day/2021-07-22/2021-07-22?adjusted=true&sort=asc&limit=120&apiKey=46ipIrH5BrzkTqZj7OUvik7XAFOpu8GJ\""
   ]
  },
  {
   "cell_type": "code",
   "execution_count": 40,
   "id": "e929a0f3-2660-4e31-9ca0-4fd4783a1b7d",
   "metadata": {},
   "outputs": [],
   "source": [
    "stockData = urllib.request.urlopen(url)"
   ]
  },
  {
   "cell_type": "code",
   "execution_count": 41,
   "id": "28e3379e-d493-42c0-bd9c-49e5e252c71c",
   "metadata": {},
   "outputs": [],
   "source": [
    "my_json = stockData.read()"
   ]
  },
  {
   "cell_type": "code",
   "execution_count": 42,
   "id": "a04ca564-d9a8-4a01-9ade-9cfccd5e3a2e",
   "metadata": {},
   "outputs": [
    {
     "data": {
      "text/plain": [
       "b'{\"ticker\":\"MSFT\",\"queryCount\":1,\"resultsCount\":1,\"adjusted\":true,\"results\":[{\"v\":2.3384059e+07,\"vw\":285.5054,\"o\":283.84,\"c\":286.14,\"h\":286.42,\"l\":283.42,\"t\":1626926400000,\"n\":257353}],\"status\":\"OK\",\"request_id\":\"6bb4a46fd2247b17d7677771cb7ef255\",\"count\":1}'"
      ]
     },
     "execution_count": 42,
     "metadata": {},
     "output_type": "execute_result"
    }
   ],
   "source": [
    "my_json"
   ]
  },
  {
   "cell_type": "code",
   "execution_count": 43,
   "id": "fa342f88-6c55-4925-aa4c-00bc5411c747",
   "metadata": {},
   "outputs": [],
   "source": [
    "parsed = json.loads(my_json)"
   ]
  },
  {
   "cell_type": "code",
   "execution_count": 44,
   "id": "3c0b2d9b-83aa-45e6-a202-c174a3c4d951",
   "metadata": {},
   "outputs": [
    {
     "data": {
      "text/plain": [
       "{'ticker': 'MSFT',\n",
       " 'queryCount': 1,\n",
       " 'resultsCount': 1,\n",
       " 'adjusted': True,\n",
       " 'results': [{'v': 23384059.0,\n",
       "   'vw': 285.5054,\n",
       "   'o': 283.84,\n",
       "   'c': 286.14,\n",
       "   'h': 286.42,\n",
       "   'l': 283.42,\n",
       "   't': 1626926400000,\n",
       "   'n': 257353}],\n",
       " 'status': 'OK',\n",
       " 'request_id': '6bb4a46fd2247b17d7677771cb7ef255',\n",
       " 'count': 1}"
      ]
     },
     "execution_count": 44,
     "metadata": {},
     "output_type": "execute_result"
    }
   ],
   "source": [
    "parsed"
   ]
  },
  {
   "cell_type": "code",
   "execution_count": 45,
   "id": "2c462d98-e0a6-408d-a151-7b2c1903f122",
   "metadata": {},
   "outputs": [],
   "source": [
    "df = pd.json_normalize(parsed)"
   ]
  },
  {
   "cell_type": "code",
   "execution_count": 49,
   "id": "e0f007fd-f3f9-4385-8250-eba549f924ad",
   "metadata": {},
   "outputs": [
    {
     "data": {
      "text/html": [
       "<div>\n",
       "<style scoped>\n",
       "    .dataframe tbody tr th:only-of-type {\n",
       "        vertical-align: middle;\n",
       "    }\n",
       "\n",
       "    .dataframe tbody tr th {\n",
       "        vertical-align: top;\n",
       "    }\n",
       "\n",
       "    .dataframe thead th {\n",
       "        text-align: right;\n",
       "    }\n",
       "</style>\n",
       "<table border=\"1\" class=\"dataframe\">\n",
       "  <thead>\n",
       "    <tr style=\"text-align: right;\">\n",
       "      <th></th>\n",
       "      <th>ticker</th>\n",
       "      <th>queryCount</th>\n",
       "      <th>resultsCount</th>\n",
       "      <th>adjusted</th>\n",
       "      <th>results</th>\n",
       "      <th>status</th>\n",
       "      <th>request_id</th>\n",
       "      <th>count</th>\n",
       "    </tr>\n",
       "  </thead>\n",
       "  <tbody>\n",
       "    <tr>\n",
       "      <th>0</th>\n",
       "      <td>MSFT</td>\n",
       "      <td>1</td>\n",
       "      <td>1</td>\n",
       "      <td>True</td>\n",
       "      <td>[{'v': 23384059.0, 'vw': 285.5054, 'o': 283.84...</td>\n",
       "      <td>OK</td>\n",
       "      <td>6bb4a46fd2247b17d7677771cb7ef255</td>\n",
       "      <td>1</td>\n",
       "    </tr>\n",
       "  </tbody>\n",
       "</table>\n",
       "</div>"
      ],
      "text/plain": [
       "  ticker  queryCount  resultsCount  adjusted  \\\n",
       "0   MSFT           1             1      True   \n",
       "\n",
       "                                             results status  \\\n",
       "0  [{'v': 23384059.0, 'vw': 285.5054, 'o': 283.84...     OK   \n",
       "\n",
       "                         request_id  count  \n",
       "0  6bb4a46fd2247b17d7677771cb7ef255      1  "
      ]
     },
     "execution_count": 49,
     "metadata": {},
     "output_type": "execute_result"
    }
   ],
   "source": [
    "df"
   ]
  },
  {
   "cell_type": "code",
   "execution_count": 46,
   "id": "0daca9c5-88bc-4c76-81ee-be1d7f89027a",
   "metadata": {},
   "outputs": [],
   "source": [
    "#price_data = pd.json_normalize(data=parsed, record_path='results', \n",
    "#                            meta=['v','vw', 'o','c', 'h','l','t','n'])"
   ]
  },
  {
   "cell_type": "code",
   "execution_count": 50,
   "id": "ae4c8a5f-50e4-4a7d-857b-641c57bf0866",
   "metadata": {},
   "outputs": [],
   "source": [
    "price_data = pd.json_normalize(data=parsed, record_path='results')"
   ]
  },
  {
   "cell_type": "code",
   "execution_count": 51,
   "id": "c1113bbf-55fe-4c49-9686-5245a7fb38ad",
   "metadata": {},
   "outputs": [
    {
     "data": {
      "text/html": [
       "<div>\n",
       "<style scoped>\n",
       "    .dataframe tbody tr th:only-of-type {\n",
       "        vertical-align: middle;\n",
       "    }\n",
       "\n",
       "    .dataframe tbody tr th {\n",
       "        vertical-align: top;\n",
       "    }\n",
       "\n",
       "    .dataframe thead th {\n",
       "        text-align: right;\n",
       "    }\n",
       "</style>\n",
       "<table border=\"1\" class=\"dataframe\">\n",
       "  <thead>\n",
       "    <tr style=\"text-align: right;\">\n",
       "      <th></th>\n",
       "      <th>v</th>\n",
       "      <th>vw</th>\n",
       "      <th>o</th>\n",
       "      <th>c</th>\n",
       "      <th>h</th>\n",
       "      <th>l</th>\n",
       "      <th>t</th>\n",
       "      <th>n</th>\n",
       "    </tr>\n",
       "  </thead>\n",
       "  <tbody>\n",
       "    <tr>\n",
       "      <th>0</th>\n",
       "      <td>23384059.0</td>\n",
       "      <td>285.5054</td>\n",
       "      <td>283.84</td>\n",
       "      <td>286.14</td>\n",
       "      <td>286.42</td>\n",
       "      <td>283.42</td>\n",
       "      <td>1626926400000</td>\n",
       "      <td>257353</td>\n",
       "    </tr>\n",
       "  </tbody>\n",
       "</table>\n",
       "</div>"
      ],
      "text/plain": [
       "            v        vw       o       c       h       l              t       n\n",
       "0  23384059.0  285.5054  283.84  286.14  286.42  283.42  1626926400000  257353"
      ]
     },
     "execution_count": 51,
     "metadata": {},
     "output_type": "execute_result"
    }
   ],
   "source": [
    "price_data"
   ]
  },
  {
   "cell_type": "code",
   "execution_count": null,
   "id": "bd3e9a62-e2d8-4ccc-b33b-87ff0ffeec4d",
   "metadata": {},
   "outputs": [],
   "source": []
  }
 ],
 "metadata": {
  "kernelspec": {
   "display_name": "Python 3 (ipykernel)",
   "language": "python",
   "name": "python3"
  },
  "language_info": {
   "codemirror_mode": {
    "name": "ipython",
    "version": 3
   },
   "file_extension": ".py",
   "mimetype": "text/x-python",
   "name": "python",
   "nbconvert_exporter": "python",
   "pygments_lexer": "ipython3",
   "version": "3.9.7"
  }
 },
 "nbformat": 4,
 "nbformat_minor": 5
}
