{
 "cells": [
  {
   "cell_type": "markdown",
   "id": "91f3e308-3814-4371-b3b9-f88e45278983",
   "metadata": {},
   "source": [
    "# Naive Bayes Classifier"
   ]
  },
  {
   "cell_type": "code",
   "execution_count": 2,
   "id": "8398434b-db5f-41d2-bf57-6afa2eb093a3",
   "metadata": {},
   "outputs": [],
   "source": [
    "import pandas as pd\n",
    "import numpy as np\n",
    "import matplotlib.pyplot as plt\n",
    "import seaborn as sns\n",
    "%matplotlib inline\n",
    "\n",
    "#Naive Bayes Classifier\n",
    "from sklearn.naive_bayes import GaussianNB, MultinomialNB, ComplementNB, BernoulliNB\n",
    "\n",
    "#Provides a way to split the data into train and test data sets.\n",
    "from sklearn.model_selection import train_test_split \n",
    "\n",
    "#Provides a way to calculate metrics on the model\n",
    "from sklearn.metrics import accuracy_score, confusion_matrix, classification_report\n",
    "#from sklearn.metrics import roc_curve,  roc_auc_score"
   ]
  },
  {
   "cell_type": "markdown",
   "id": "afd74095-f0fd-4897-a041-88a463a2ee5b",
   "metadata": {},
   "source": [
    "### Bayes' Theorem\n",
    "\n",
    "$$ P(A|B) = \\frac{P(B|A)P(A)}{P(B)}$$"
   ]
  },
  {
   "cell_type": "code",
   "execution_count": 3,
   "id": "f0f389b6-9b5a-44e0-9208-5f8a21cfd4e1",
   "metadata": {},
   "outputs": [],
   "source": [
    "def plot_cm(y_pred, y_test):\n",
    "    cm = confusion_matrix(y_pred, y_test)\n",
    "    fig = plt.figure(figsize=(5,5))\n",
    "    heatmap = sns.heatmap(cm, annot=True, fmt='.2f', cmap='RdYlGn')\n",
    "    plt.ylabel('True label')\n",
    "    plt.xlabel('Predicted Label')"
   ]
  },
  {
   "cell_type": "code",
   "execution_count": 4,
   "id": "23ddee0a-26de-4f51-9499-757f331a1f83",
   "metadata": {},
   "outputs": [],
   "source": [
    "long_census = pd.read_csv('adult_census/final_data_set.csv')\n",
    "X = long_census.iloc[:,5:107]\n",
    "y = long_census['salary']\n",
    "X_train, X_test, y_train, y_test = train_test_split(X,y, test_size=.20, random_state=32)"
   ]
  },
  {
   "cell_type": "code",
   "execution_count": 5,
   "id": "e7e2076d-22fa-47d0-8dee-eec4433684d1",
   "metadata": {},
   "outputs": [],
   "source": [
    "clf = MultinomialNB()\n",
    "clf.fit(X_train, y_train)\n",
    "y_pred = clf.predict(X_test)"
   ]
  },
  {
   "cell_type": "code",
   "execution_count": 6,
   "id": "d44897d0-0fb6-4ad9-870c-2a0774defd62",
   "metadata": {},
   "outputs": [
    {
     "data": {
      "image/png": "[encoded data removed]",
      "text/plain": [
       "<Figure size 360x360 with 2 Axes>"
      ]
     },
     "metadata": {
      "needs_background": "light"
     },
     "output_type": "display_data"
    }
   ],
   "source": [
    "plot_cm(y_pred, y_test)"
   ]
  },
  {
   "cell_type": "code",
   "execution_count": 7,
   "id": "1f49dcd8-525b-4980-b666-c209f4158952",
   "metadata": {},
   "outputs": [
    {
     "name": "stdout",
     "output_type": "stream",
     "text": [
      "              precision    recall  f1-score   support\n",
      "\n",
      "           0       0.81      0.91      0.86      4445\n",
      "           1       0.74      0.55      0.63      2068\n",
      "\n",
      "    accuracy                           0.80      6513\n",
      "   macro avg       0.78      0.73      0.74      6513\n",
      "weighted avg       0.79      0.80      0.79      6513\n",
      "\n"
     ]
    }
   ],
   "source": [
    "print(classification_report(y_pred,y_test))"
   ]
  },
  {
   "cell_type": "code",
   "execution_count": null,
   "id": "ea1cf27e-8a36-426f-b0cc-9fcda4ff3b4d",
   "metadata": {},
   "outputs": [],
   "source": []
  },
  {
   "cell_type": "code",
   "execution_count": 8,
   "id": "143b69eb-41a6-497a-b580-eee8a5bd215b",
   "metadata": {},
   "outputs": [],
   "source": [
    "land_train = pd.read_csv('landsat_train.csv')\n",
    "land_test = pd.read_csv('landsat_test.csv')\n",
    "\n",
    "X_train = land_train.iloc[:,0:36]\n",
    "y_train = land_train.iloc[:,36:37]\n",
    "\n",
    "X_test = land_test.iloc[:,0:36]\n",
    "y_test = land_test.iloc[:,36:37]"
   ]
  },
  {
   "cell_type": "code",
   "execution_count": 9,
   "id": "84d63815-d2ed-429d-a94d-00e2237b0b95",
   "metadata": {},
   "outputs": [],
   "source": [
    "clf =GaussianNB()\n",
    "clf.fit(X_train, np.ravel(y_train))\n",
    "y_pred = clf.predict(X_test)"
   ]
  },
  {
   "cell_type": "code",
   "execution_count": 10,
   "id": "200a2141-8121-46d9-9aee-085102fae0bc",
   "metadata": {},
   "outputs": [
    {
     "name": "stdout",
     "output_type": "stream",
     "text": [
      "              precision    recall  f1-score   support\n",
      "\n",
      "           1       0.84      0.89      0.86       432\n",
      "           2       0.89      0.98      0.93       204\n",
      "           3       0.88      0.91      0.89       384\n",
      "           4       0.67      0.49      0.57       286\n",
      "           5       0.70      0.61      0.65       275\n",
      "           7       0.75      0.84      0.79       419\n",
      "\n",
      "    accuracy                           0.80      2000\n",
      "   macro avg       0.79      0.79      0.78      2000\n",
      "weighted avg       0.79      0.80      0.79      2000\n",
      "\n"
     ]
    }
   ],
   "source": [
    "print(classification_report(y_pred,y_test))"
   ]
  },
  {
   "cell_type": "code",
   "execution_count": 11,
   "id": "3d043240-0a6a-481f-867a-c97b4967ce2d",
   "metadata": {},
   "outputs": [],
   "source": [
    "golf = pd.read_csv('golf.csv')"
   ]
  },
  {
   "cell_type": "code",
   "execution_count": 25,
   "id": "61491620-99dc-4bdc-9d15-842abe82ab5c",
   "metadata": {},
   "outputs": [],
   "source": [
    "from sklearn.preprocessing import OneHotEncoder"
   ]
  },
  {
   "cell_type": "code",
   "execution_count": 30,
   "id": "a4cadd52-3dcf-4bfc-8bc1-a42c8a1ecf7b",
   "metadata": {},
   "outputs": [],
   "source": [
    "X = golf.iloc[:,0:4]\n",
    "y = golf['PlayGolf']\n",
    "\n",
    "transformer = OneHotEncoder().fit(X)\n",
    "X = transformer.transform(X).toarray()"
   ]
  },
  {
   "cell_type": "code",
   "execution_count": 37,
   "id": "0199d7a9-303f-4803-bbed-383910eeadda",
   "metadata": {},
   "outputs": [],
   "source": [
    "X_train, X_test, y_train, y_test = train_test_split(X,y, test_size=.20, random_state=32)"
   ]
  },
  {
   "cell_type": "code",
   "execution_count": 45,
   "id": "e7b70f7d-af02-426f-8c50-4e627f630c82",
   "metadata": {},
   "outputs": [],
   "source": [
    "clf =GaussianNB()\n",
    "clf.fit(X_train, y_train)\n",
    "y_pred = clf.predict(X_test)"
   ]
  },
  {
   "cell_type": "code",
   "execution_count": 46,
   "id": "a8583a23-0c18-4a61-a7e0-a8feb5dffc06",
   "metadata": {},
   "outputs": [
    {
     "name": "stdout",
     "output_type": "stream",
     "text": [
      "              precision    recall  f1-score   support\n",
      "\n",
      "          No       1.00      1.00      1.00         2\n",
      "         Yes       1.00      1.00      1.00         1\n",
      "\n",
      "    accuracy                           1.00         3\n",
      "   macro avg       1.00      1.00      1.00         3\n",
      "weighted avg       1.00      1.00      1.00         3\n",
      "\n"
     ]
    }
   ],
   "source": [
    "print(classification_report(y_pred,y_test))"
   ]
  },
  {
   "cell_type": "code",
   "execution_count": null,
   "id": "9833c9ac-08ea-4bf3-9b31-739f7a38e660",
   "metadata": {},
   "outputs": [],
   "source": []
  }
 ],
 "metadata": {
  "kernelspec": {
   "display_name": "Python 3 (ipykernel)",
   "language": "python",
   "name": "python3"
  },
  "language_info": {
   "codemirror_mode": {
    "name": "ipython",
    "version": 3
   },
   "file_extension": ".py",
   "mimetype": "text/x-python",
   "name": "python",
   "nbconvert_exporter": "python",
   "pygments_lexer": "ipython3",
   "version": "3.9.7"
  }
 },
 "nbformat": 4,
 "nbformat_minor": 5
}
