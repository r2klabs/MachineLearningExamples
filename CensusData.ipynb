{
 "cells": [
  {
   "cell_type": "code",
   "execution_count": 1,
   "id": "3c44be4a-5f7a-46f1-8515-1f2fac16b7a9",
   "metadata": {},
   "outputs": [],
   "source": [
    "import pandas as pd\n",
    "import numpy as np\n",
    "import matplotlib.pyplot as plt\n",
    "import seaborn as sns\n",
    "%matplotlib inline\n",
    "\n",
    "#Provides a way to split the data into train and test data sets.\n",
    "from sklearn.model_selection import train_test_split \n",
    "\n",
    "#Implements the KNN algorithm\n",
    "from sklearn.neighbors import KNeighborsClassifier\n",
    "\n",
    "#Provides a way to calculate metrics on the model\n",
    "from sklearn.metrics import accuracy_score, confusion_matrix, classification_report\n",
    "\n",
    "#Used to manipulate column names\n",
    "import re"
   ]
  },
  {
   "cell_type": "code",
   "execution_count": 2,
   "id": "a9fbff0d-1853-46e5-b95f-175962da1a4e",
   "metadata": {},
   "outputs": [],
   "source": [
    "df = pd.read_csv('adult_census/adult.data', header=None)"
   ]
  },
  {
   "cell_type": "code",
   "execution_count": 3,
   "id": "3e060afc-b80d-42be-89df-43acf7f85d76",
   "metadata": {},
   "outputs": [
    {
     "data": {
      "text/plain": [
       "32561"
      ]
     },
     "execution_count": 3,
     "metadata": {},
     "output_type": "execute_result"
    }
   ],
   "source": [
    "len(df)"
   ]
  },
  {
   "cell_type": "code",
   "execution_count": 4,
   "id": "21d42f81-c153-4f86-abdc-b46fc6de09c3",
   "metadata": {},
   "outputs": [],
   "source": [
    "pattern=\"[a-z_]+:\"\n",
    "file = open('adult_census/adult.names', mode='r')\n",
    "data = file.read()\n",
    "file.close()\n",
    "matches = re.findall(pattern, data)"
   ]
  },
  {
   "cell_type": "code",
   "execution_count": 5,
   "id": "d36a3a54-f582-4b36-b779-172b3c9590f1",
   "metadata": {},
   "outputs": [
    {
     "data": {
      "text/plain": [
       "['age:',\n",
       " 'workclass:',\n",
       " 'fnlwgt:',\n",
       " 'education:',\n",
       " 'education_num:',\n",
       " 'marital_status:',\n",
       " 'occupation:',\n",
       " 'relationship:',\n",
       " 'race:',\n",
       " 'sex:',\n",
       " 'capital_gain:',\n",
       " 'capital_loss:',\n",
       " 'hours_per_week:',\n",
       " 'native_country:']"
      ]
     },
     "execution_count": 5,
     "metadata": {},
     "output_type": "execute_result"
    }
   ],
   "source": [
    "matches[9:23]"
   ]
  },
  {
   "cell_type": "code",
   "execution_count": 6,
   "id": "40410a81-53f4-4c91-bc92-24cb1be4cc47",
   "metadata": {},
   "outputs": [],
   "source": [
    "colnames = list()"
   ]
  },
  {
   "cell_type": "code",
   "execution_count": 7,
   "id": "55ed9544-aac2-4d45-a1f2-36cbaff5804d",
   "metadata": {},
   "outputs": [],
   "source": [
    "for match in matches[9:23]:\n",
    "    colnames.append(match[:-1])"
   ]
  },
  {
   "cell_type": "code",
   "execution_count": 8,
   "id": "274ffd65-f955-41a2-a8f1-83286a1b966e",
   "metadata": {},
   "outputs": [],
   "source": [
    "colnames.append('salary')"
   ]
  },
  {
   "cell_type": "code",
   "execution_count": 9,
   "id": "8fac34e4-ca59-487c-84c2-1ac092ccc9fe",
   "metadata": {},
   "outputs": [
    {
     "data": {
      "text/plain": [
       "['age',\n",
       " 'workclass',\n",
       " 'fnlwgt',\n",
       " 'education',\n",
       " 'education_num',\n",
       " 'marital_status',\n",
       " 'occupation',\n",
       " 'relationship',\n",
       " 'race',\n",
       " 'sex',\n",
       " 'capital_gain',\n",
       " 'capital_loss',\n",
       " 'hours_per_week',\n",
       " 'native_country',\n",
       " 'salary']"
      ]
     },
     "execution_count": 9,
     "metadata": {},
     "output_type": "execute_result"
    }
   ],
   "source": [
    "colnames"
   ]
  },
  {
   "cell_type": "code",
   "execution_count": 10,
   "id": "550e48f8-9922-47cc-b6ba-b7cac33e2757",
   "metadata": {},
   "outputs": [],
   "source": [
    "df.columns = colnames"
   ]
  },
  {
   "cell_type": "code",
   "execution_count": 11,
   "id": "24aee9c5-4f05-4cec-acfb-a32c07835ffd",
   "metadata": {},
   "outputs": [
    {
     "data": {
      "text/html": [
       "<div>\n",
       "<style scoped>\n",
       "    .dataframe tbody tr th:only-of-type {\n",
       "        vertical-align: middle;\n",
       "    }\n",
       "\n",
       "    .dataframe tbody tr th {\n",
       "        vertical-align: top;\n",
       "    }\n",
       "\n",
       "    .dataframe thead th {\n",
       "        text-align: right;\n",
       "    }\n",
       "</style>\n",
       "<table border=\"1\" class=\"dataframe\">\n",
       "  <thead>\n",
       "    <tr style=\"text-align: right;\">\n",
       "      <th></th>\n",
       "      <th>age</th>\n",
       "      <th>workclass</th>\n",
       "      <th>fnlwgt</th>\n",
       "      <th>education</th>\n",
       "      <th>education_num</th>\n",
       "      <th>marital_status</th>\n",
       "      <th>occupation</th>\n",
       "      <th>relationship</th>\n",
       "      <th>race</th>\n",
       "      <th>sex</th>\n",
       "      <th>capital_gain</th>\n",
       "      <th>capital_loss</th>\n",
       "      <th>hours_per_week</th>\n",
       "      <th>native_country</th>\n",
       "      <th>salary</th>\n",
       "    </tr>\n",
       "  </thead>\n",
       "  <tbody>\n",
       "    <tr>\n",
       "      <th>0</th>\n",
       "      <td>39</td>\n",
       "      <td>State-gov</td>\n",
       "      <td>77516</td>\n",
       "      <td>Bachelors</td>\n",
       "      <td>13</td>\n",
       "      <td>Never-married</td>\n",
       "      <td>Adm-clerical</td>\n",
       "      <td>Not-in-family</td>\n",
       "      <td>White</td>\n",
       "      <td>Male</td>\n",
       "      <td>2174</td>\n",
       "      <td>0</td>\n",
       "      <td>40</td>\n",
       "      <td>United-States</td>\n",
       "      <td>&lt;=50K</td>\n",
       "    </tr>\n",
       "    <tr>\n",
       "      <th>1</th>\n",
       "      <td>50</td>\n",
       "      <td>Self-emp-not-inc</td>\n",
       "      <td>83311</td>\n",
       "      <td>Bachelors</td>\n",
       "      <td>13</td>\n",
       "      <td>Married-civ-spouse</td>\n",
       "      <td>Exec-managerial</td>\n",
       "      <td>Husband</td>\n",
       "      <td>White</td>\n",
       "      <td>Male</td>\n",
       "      <td>0</td>\n",
       "      <td>0</td>\n",
       "      <td>13</td>\n",
       "      <td>United-States</td>\n",
       "      <td>&lt;=50K</td>\n",
       "    </tr>\n",
       "    <tr>\n",
       "      <th>2</th>\n",
       "      <td>38</td>\n",
       "      <td>Private</td>\n",
       "      <td>215646</td>\n",
       "      <td>HS-grad</td>\n",
       "      <td>9</td>\n",
       "      <td>Divorced</td>\n",
       "      <td>Handlers-cleaners</td>\n",
       "      <td>Not-in-family</td>\n",
       "      <td>White</td>\n",
       "      <td>Male</td>\n",
       "      <td>0</td>\n",
       "      <td>0</td>\n",
       "      <td>40</td>\n",
       "      <td>United-States</td>\n",
       "      <td>&lt;=50K</td>\n",
       "    </tr>\n",
       "    <tr>\n",
       "      <th>3</th>\n",
       "      <td>53</td>\n",
       "      <td>Private</td>\n",
       "      <td>234721</td>\n",
       "      <td>11th</td>\n",
       "      <td>7</td>\n",
       "      <td>Married-civ-spouse</td>\n",
       "      <td>Handlers-cleaners</td>\n",
       "      <td>Husband</td>\n",
       "      <td>Black</td>\n",
       "      <td>Male</td>\n",
       "      <td>0</td>\n",
       "      <td>0</td>\n",
       "      <td>40</td>\n",
       "      <td>United-States</td>\n",
       "      <td>&lt;=50K</td>\n",
       "    </tr>\n",
       "    <tr>\n",
       "      <th>4</th>\n",
       "      <td>28</td>\n",
       "      <td>Private</td>\n",
       "      <td>338409</td>\n",
       "      <td>Bachelors</td>\n",
       "      <td>13</td>\n",
       "      <td>Married-civ-spouse</td>\n",
       "      <td>Prof-specialty</td>\n",
       "      <td>Wife</td>\n",
       "      <td>Black</td>\n",
       "      <td>Female</td>\n",
       "      <td>0</td>\n",
       "      <td>0</td>\n",
       "      <td>40</td>\n",
       "      <td>Cuba</td>\n",
       "      <td>&lt;=50K</td>\n",
       "    </tr>\n",
       "  </tbody>\n",
       "</table>\n",
       "</div>"
      ],
      "text/plain": [
       "   age          workclass  fnlwgt   education  education_num  \\\n",
       "0   39          State-gov   77516   Bachelors             13   \n",
       "1   50   Self-emp-not-inc   83311   Bachelors             13   \n",
       "2   38            Private  215646     HS-grad              9   \n",
       "3   53            Private  234721        11th              7   \n",
       "4   28            Private  338409   Bachelors             13   \n",
       "\n",
       "        marital_status          occupation    relationship    race      sex  \\\n",
       "0        Never-married        Adm-clerical   Not-in-family   White     Male   \n",
       "1   Married-civ-spouse     Exec-managerial         Husband   White     Male   \n",
       "2             Divorced   Handlers-cleaners   Not-in-family   White     Male   \n",
       "3   Married-civ-spouse   Handlers-cleaners         Husband   Black     Male   \n",
       "4   Married-civ-spouse      Prof-specialty            Wife   Black   Female   \n",
       "\n",
       "   capital_gain  capital_loss  hours_per_week  native_country  salary  \n",
       "0          2174             0              40   United-States   <=50K  \n",
       "1             0             0              13   United-States   <=50K  \n",
       "2             0             0              40   United-States   <=50K  \n",
       "3             0             0              40   United-States   <=50K  \n",
       "4             0             0              40            Cuba   <=50K  "
      ]
     },
     "execution_count": 11,
     "metadata": {},
     "output_type": "execute_result"
    }
   ],
   "source": [
    "df.head()"
   ]
  },
  {
   "cell_type": "markdown",
   "id": "e4d43479-7998-4c37-a84a-ccb84efd97bc",
   "metadata": {},
   "source": [
    "Recode salary value"
   ]
  },
  {
   "cell_type": "code",
   "execution_count": 12,
   "id": "e2cb74e3-d20f-419f-8df3-d12cc0ba72b6",
   "metadata": {},
   "outputs": [
    {
     "data": {
      "text/plain": [
       "salary\n",
       " <=50K    24720\n",
       " >50K      7841\n",
       "Name: salary, dtype: int64"
      ]
     },
     "execution_count": 12,
     "metadata": {},
     "output_type": "execute_result"
    }
   ],
   "source": [
    "df.salary.groupby(df.salary).count()"
   ]
  },
  {
   "cell_type": "markdown",
   "id": "14b1976a-dec7-4f84-b325-a73f3c97d2bc",
   "metadata": {},
   "source": [
    "There are leading spaces in the data, let's remove them."
   ]
  },
  {
   "cell_type": "code",
   "execution_count": 13,
   "id": "25e4cdbd-770d-43e6-93e3-256a6bbce20b",
   "metadata": {},
   "outputs": [],
   "source": [
    "df.salary = df.salary.str.strip()"
   ]
  },
  {
   "cell_type": "code",
   "execution_count": 14,
   "id": "1502fc02-6df6-4ff2-a7ad-41dcaafd9c78",
   "metadata": {},
   "outputs": [],
   "source": [
    "df['salary'].replace(\"<=50K\", 0, inplace=True)\n",
    "df['salary'].replace(\">50K\", 1, inplace=True)"
   ]
  },
  {
   "cell_type": "code",
   "execution_count": 15,
   "id": "1fc7a905-1955-4d6d-b683-a222ccfdb54a",
   "metadata": {},
   "outputs": [
    {
     "data": {
      "text/html": [
       "<div>\n",
       "<style scoped>\n",
       "    .dataframe tbody tr th:only-of-type {\n",
       "        vertical-align: middle;\n",
       "    }\n",
       "\n",
       "    .dataframe tbody tr th {\n",
       "        vertical-align: top;\n",
       "    }\n",
       "\n",
       "    .dataframe thead th {\n",
       "        text-align: right;\n",
       "    }\n",
       "</style>\n",
       "<table border=\"1\" class=\"dataframe\">\n",
       "  <thead>\n",
       "    <tr style=\"text-align: right;\">\n",
       "      <th></th>\n",
       "      <th>age</th>\n",
       "      <th>workclass</th>\n",
       "      <th>fnlwgt</th>\n",
       "      <th>education</th>\n",
       "      <th>education_num</th>\n",
       "      <th>marital_status</th>\n",
       "      <th>occupation</th>\n",
       "      <th>relationship</th>\n",
       "      <th>race</th>\n",
       "      <th>sex</th>\n",
       "      <th>capital_gain</th>\n",
       "      <th>capital_loss</th>\n",
       "      <th>hours_per_week</th>\n",
       "      <th>native_country</th>\n",
       "      <th>salary</th>\n",
       "    </tr>\n",
       "  </thead>\n",
       "  <tbody>\n",
       "    <tr>\n",
       "      <th>0</th>\n",
       "      <td>39</td>\n",
       "      <td>State-gov</td>\n",
       "      <td>77516</td>\n",
       "      <td>Bachelors</td>\n",
       "      <td>13</td>\n",
       "      <td>Never-married</td>\n",
       "      <td>Adm-clerical</td>\n",
       "      <td>Not-in-family</td>\n",
       "      <td>White</td>\n",
       "      <td>Male</td>\n",
       "      <td>2174</td>\n",
       "      <td>0</td>\n",
       "      <td>40</td>\n",
       "      <td>United-States</td>\n",
       "      <td>0</td>\n",
       "    </tr>\n",
       "    <tr>\n",
       "      <th>1</th>\n",
       "      <td>50</td>\n",
       "      <td>Self-emp-not-inc</td>\n",
       "      <td>83311</td>\n",
       "      <td>Bachelors</td>\n",
       "      <td>13</td>\n",
       "      <td>Married-civ-spouse</td>\n",
       "      <td>Exec-managerial</td>\n",
       "      <td>Husband</td>\n",
       "      <td>White</td>\n",
       "      <td>Male</td>\n",
       "      <td>0</td>\n",
       "      <td>0</td>\n",
       "      <td>13</td>\n",
       "      <td>United-States</td>\n",
       "      <td>0</td>\n",
       "    </tr>\n",
       "    <tr>\n",
       "      <th>2</th>\n",
       "      <td>38</td>\n",
       "      <td>Private</td>\n",
       "      <td>215646</td>\n",
       "      <td>HS-grad</td>\n",
       "      <td>9</td>\n",
       "      <td>Divorced</td>\n",
       "      <td>Handlers-cleaners</td>\n",
       "      <td>Not-in-family</td>\n",
       "      <td>White</td>\n",
       "      <td>Male</td>\n",
       "      <td>0</td>\n",
       "      <td>0</td>\n",
       "      <td>40</td>\n",
       "      <td>United-States</td>\n",
       "      <td>0</td>\n",
       "    </tr>\n",
       "    <tr>\n",
       "      <th>3</th>\n",
       "      <td>53</td>\n",
       "      <td>Private</td>\n",
       "      <td>234721</td>\n",
       "      <td>11th</td>\n",
       "      <td>7</td>\n",
       "      <td>Married-civ-spouse</td>\n",
       "      <td>Handlers-cleaners</td>\n",
       "      <td>Husband</td>\n",
       "      <td>Black</td>\n",
       "      <td>Male</td>\n",
       "      <td>0</td>\n",
       "      <td>0</td>\n",
       "      <td>40</td>\n",
       "      <td>United-States</td>\n",
       "      <td>0</td>\n",
       "    </tr>\n",
       "    <tr>\n",
       "      <th>4</th>\n",
       "      <td>28</td>\n",
       "      <td>Private</td>\n",
       "      <td>338409</td>\n",
       "      <td>Bachelors</td>\n",
       "      <td>13</td>\n",
       "      <td>Married-civ-spouse</td>\n",
       "      <td>Prof-specialty</td>\n",
       "      <td>Wife</td>\n",
       "      <td>Black</td>\n",
       "      <td>Female</td>\n",
       "      <td>0</td>\n",
       "      <td>0</td>\n",
       "      <td>40</td>\n",
       "      <td>Cuba</td>\n",
       "      <td>0</td>\n",
       "    </tr>\n",
       "  </tbody>\n",
       "</table>\n",
       "</div>"
      ],
      "text/plain": [
       "   age          workclass  fnlwgt   education  education_num  \\\n",
       "0   39          State-gov   77516   Bachelors             13   \n",
       "1   50   Self-emp-not-inc   83311   Bachelors             13   \n",
       "2   38            Private  215646     HS-grad              9   \n",
       "3   53            Private  234721        11th              7   \n",
       "4   28            Private  338409   Bachelors             13   \n",
       "\n",
       "        marital_status          occupation    relationship    race      sex  \\\n",
       "0        Never-married        Adm-clerical   Not-in-family   White     Male   \n",
       "1   Married-civ-spouse     Exec-managerial         Husband   White     Male   \n",
       "2             Divorced   Handlers-cleaners   Not-in-family   White     Male   \n",
       "3   Married-civ-spouse   Handlers-cleaners         Husband   Black     Male   \n",
       "4   Married-civ-spouse      Prof-specialty            Wife   Black   Female   \n",
       "\n",
       "   capital_gain  capital_loss  hours_per_week  native_country  salary  \n",
       "0          2174             0              40   United-States       0  \n",
       "1             0             0              13   United-States       0  \n",
       "2             0             0              40   United-States       0  \n",
       "3             0             0              40   United-States       0  \n",
       "4             0             0              40            Cuba       0  "
      ]
     },
     "execution_count": 15,
     "metadata": {},
     "output_type": "execute_result"
    }
   ],
   "source": [
    "df.head()"
   ]
  },
  {
   "cell_type": "markdown",
   "id": "9e077418-2ca0-47b2-8d1d-ae7e559ef0f9",
   "metadata": {},
   "source": [
    "Process workclass variable - I used this to figure what I needed to do for columns to be standardized."
   ]
  },
  {
   "cell_type": "code",
   "execution_count": 16,
   "id": "f3aed75d-3008-4cec-b243-8b9b9049ba91",
   "metadata": {},
   "outputs": [],
   "source": [
    "df.workclass = df.workclass.str.strip()\n",
    "df.workclass = df.workclass.str.replace(\"-\", \"_\")\n",
    "df.workclass = df.workclass.str.lower()\n",
    "df.workclass.replace(\"?\", \"unknown\", inplace=True)"
   ]
  },
  {
   "cell_type": "code",
   "execution_count": 17,
   "id": "4aba99ea-c6c8-483f-9049-be2116c0d2ac",
   "metadata": {},
   "outputs": [
    {
     "data": {
      "text/plain": [
       "workclass\n",
       "federal_gov           960\n",
       "local_gov            2093\n",
       "never_worked            7\n",
       "private             22696\n",
       "self_emp_inc         1116\n",
       "self_emp_not_inc     2541\n",
       "state_gov            1298\n",
       "unknown              1836\n",
       "without_pay            14\n",
       "Name: workclass, dtype: int64"
      ]
     },
     "execution_count": 17,
     "metadata": {},
     "output_type": "execute_result"
    }
   ],
   "source": [
    "df.workclass.groupby(df.workclass).count()"
   ]
  },
  {
   "cell_type": "markdown",
   "id": "5ee3602a-5a8e-485e-b5d4-c7bfaef16613",
   "metadata": {},
   "source": [
    "Function to prepare columns with string-based categorical data."
   ]
  },
  {
   "cell_type": "code",
   "execution_count": 18,
   "id": "de8b4489-14cb-408a-adc2-c5250333a5cb",
   "metadata": {},
   "outputs": [],
   "source": [
    "def prep_column(col):\n",
    "    col = col.str.strip()\n",
    "    col = col.str.replace(\"-\", \"_\")\n",
    "    col = col.str.lower()\n",
    "    col.replace(\"?\", \"unknown\", inplace=True)\n",
    "    return col"
   ]
  },
  {
   "cell_type": "code",
   "execution_count": 19,
   "id": "b6b9f7e0-68c6-4b68-88ce-bedaf1dcb29f",
   "metadata": {},
   "outputs": [
    {
     "data": {
      "text/plain": [
       "Index(['age', 'workclass', 'fnlwgt', 'education', 'education_num',\n",
       "       'marital_status', 'occupation', 'relationship', 'race', 'sex',\n",
       "       'capital_gain', 'capital_loss', 'hours_per_week', 'native_country',\n",
       "       'salary'],\n",
       "      dtype='object')"
      ]
     },
     "execution_count": 19,
     "metadata": {},
     "output_type": "execute_result"
    }
   ],
   "source": [
    "df.columns"
   ]
  },
  {
   "cell_type": "markdown",
   "id": "52dc1652-f29d-48f7-80c1-8507e16ac178",
   "metadata": {},
   "source": [
    "Prep each relevant column"
   ]
  },
  {
   "cell_type": "code",
   "execution_count": 20,
   "id": "bfc068f0-de51-4cad-8cd5-72940f8cf534",
   "metadata": {},
   "outputs": [],
   "source": [
    "df.education = prep_column(df.education)\n",
    "df.marital_status = prep_column(df.marital_status)\n",
    "df.occupation = prep_column(df.occupation)\n",
    "df.relationship = prep_column(df.relationship)\n",
    "df.race = prep_column(df.race)\n",
    "df.sex = prep_column(df.sex)\n",
    "df.native_country = prep_column(df.native_country)"
   ]
  },
  {
   "cell_type": "code",
   "execution_count": 21,
   "id": "ce1a7811-7b4c-41ed-a527-3aee6364be67",
   "metadata": {},
   "outputs": [
    {
     "data": {
      "text/plain": [
       "Index(['age', 'workclass', 'fnlwgt', 'education', 'education_num',\n",
       "       'marital_status', 'occupation', 'relationship', 'race', 'sex',\n",
       "       'capital_gain', 'capital_loss', 'hours_per_week', 'native_country',\n",
       "       'salary'],\n",
       "      dtype='object')"
      ]
     },
     "execution_count": 21,
     "metadata": {},
     "output_type": "execute_result"
    }
   ],
   "source": [
    "df.columns"
   ]
  },
  {
   "cell_type": "markdown",
   "id": "bfe3a581-2e93-446e-b0a3-21b11a0f6835",
   "metadata": {},
   "source": [
    "The **education_num** shows the same data as education. I am going to drop and one-hot encode education."
   ]
  },
  {
   "cell_type": "code",
   "execution_count": 22,
   "id": "c1ac6459-d3bd-44db-b808-07d133df126a",
   "metadata": {},
   "outputs": [],
   "source": [
    "df.drop('education_num', axis=1, inplace=True)"
   ]
  },
  {
   "cell_type": "code",
   "execution_count": 23,
   "id": "d4b90b59-49d3-4ac8-9e68-e3473b5cb384",
   "metadata": {},
   "outputs": [
    {
     "data": {
      "text/html": [
       "<div>\n",
       "<style scoped>\n",
       "    .dataframe tbody tr th:only-of-type {\n",
       "        vertical-align: middle;\n",
       "    }\n",
       "\n",
       "    .dataframe tbody tr th {\n",
       "        vertical-align: top;\n",
       "    }\n",
       "\n",
       "    .dataframe thead th {\n",
       "        text-align: right;\n",
       "    }\n",
       "</style>\n",
       "<table border=\"1\" class=\"dataframe\">\n",
       "  <thead>\n",
       "    <tr style=\"text-align: right;\">\n",
       "      <th></th>\n",
       "      <th>age</th>\n",
       "      <th>workclass</th>\n",
       "      <th>fnlwgt</th>\n",
       "      <th>education</th>\n",
       "      <th>marital_status</th>\n",
       "      <th>occupation</th>\n",
       "      <th>relationship</th>\n",
       "      <th>race</th>\n",
       "      <th>sex</th>\n",
       "      <th>capital_gain</th>\n",
       "      <th>capital_loss</th>\n",
       "      <th>hours_per_week</th>\n",
       "      <th>native_country</th>\n",
       "      <th>salary</th>\n",
       "    </tr>\n",
       "  </thead>\n",
       "  <tbody>\n",
       "    <tr>\n",
       "      <th>0</th>\n",
       "      <td>39</td>\n",
       "      <td>state_gov</td>\n",
       "      <td>77516</td>\n",
       "      <td>bachelors</td>\n",
       "      <td>never_married</td>\n",
       "      <td>adm_clerical</td>\n",
       "      <td>not_in_family</td>\n",
       "      <td>white</td>\n",
       "      <td>male</td>\n",
       "      <td>2174</td>\n",
       "      <td>0</td>\n",
       "      <td>40</td>\n",
       "      <td>united_states</td>\n",
       "      <td>0</td>\n",
       "    </tr>\n",
       "    <tr>\n",
       "      <th>1</th>\n",
       "      <td>50</td>\n",
       "      <td>self_emp_not_inc</td>\n",
       "      <td>83311</td>\n",
       "      <td>bachelors</td>\n",
       "      <td>married_civ_spouse</td>\n",
       "      <td>exec_managerial</td>\n",
       "      <td>husband</td>\n",
       "      <td>white</td>\n",
       "      <td>male</td>\n",
       "      <td>0</td>\n",
       "      <td>0</td>\n",
       "      <td>13</td>\n",
       "      <td>united_states</td>\n",
       "      <td>0</td>\n",
       "    </tr>\n",
       "    <tr>\n",
       "      <th>2</th>\n",
       "      <td>38</td>\n",
       "      <td>private</td>\n",
       "      <td>215646</td>\n",
       "      <td>hs_grad</td>\n",
       "      <td>divorced</td>\n",
       "      <td>handlers_cleaners</td>\n",
       "      <td>not_in_family</td>\n",
       "      <td>white</td>\n",
       "      <td>male</td>\n",
       "      <td>0</td>\n",
       "      <td>0</td>\n",
       "      <td>40</td>\n",
       "      <td>united_states</td>\n",
       "      <td>0</td>\n",
       "    </tr>\n",
       "    <tr>\n",
       "      <th>3</th>\n",
       "      <td>53</td>\n",
       "      <td>private</td>\n",
       "      <td>234721</td>\n",
       "      <td>11th</td>\n",
       "      <td>married_civ_spouse</td>\n",
       "      <td>handlers_cleaners</td>\n",
       "      <td>husband</td>\n",
       "      <td>black</td>\n",
       "      <td>male</td>\n",
       "      <td>0</td>\n",
       "      <td>0</td>\n",
       "      <td>40</td>\n",
       "      <td>united_states</td>\n",
       "      <td>0</td>\n",
       "    </tr>\n",
       "    <tr>\n",
       "      <th>4</th>\n",
       "      <td>28</td>\n",
       "      <td>private</td>\n",
       "      <td>338409</td>\n",
       "      <td>bachelors</td>\n",
       "      <td>married_civ_spouse</td>\n",
       "      <td>prof_specialty</td>\n",
       "      <td>wife</td>\n",
       "      <td>black</td>\n",
       "      <td>female</td>\n",
       "      <td>0</td>\n",
       "      <td>0</td>\n",
       "      <td>40</td>\n",
       "      <td>cuba</td>\n",
       "      <td>0</td>\n",
       "    </tr>\n",
       "  </tbody>\n",
       "</table>\n",
       "</div>"
      ],
      "text/plain": [
       "   age         workclass  fnlwgt  education      marital_status  \\\n",
       "0   39         state_gov   77516  bachelors       never_married   \n",
       "1   50  self_emp_not_inc   83311  bachelors  married_civ_spouse   \n",
       "2   38           private  215646    hs_grad            divorced   \n",
       "3   53           private  234721       11th  married_civ_spouse   \n",
       "4   28           private  338409  bachelors  married_civ_spouse   \n",
       "\n",
       "          occupation   relationship   race     sex  capital_gain  \\\n",
       "0       adm_clerical  not_in_family  white    male          2174   \n",
       "1    exec_managerial        husband  white    male             0   \n",
       "2  handlers_cleaners  not_in_family  white    male             0   \n",
       "3  handlers_cleaners        husband  black    male             0   \n",
       "4     prof_specialty           wife  black  female             0   \n",
       "\n",
       "   capital_loss  hours_per_week native_country  salary  \n",
       "0             0              40  united_states       0  \n",
       "1             0              13  united_states       0  \n",
       "2             0              40  united_states       0  \n",
       "3             0              40  united_states       0  \n",
       "4             0              40           cuba       0  "
      ]
     },
     "execution_count": 23,
     "metadata": {},
     "output_type": "execute_result"
    }
   ],
   "source": [
    "df.head()"
   ]
  },
  {
   "cell_type": "code",
   "execution_count": 24,
   "id": "95fcab90-fa1d-44aa-afbd-ee7cb2a04703",
   "metadata": {},
   "outputs": [],
   "source": [
    "from sklearn.preprocessing import OneHotEncoder\n",
    "enc = OneHotEncoder(handle_unknown='ignore')"
   ]
  },
  {
   "cell_type": "markdown",
   "id": "ba51e16d-fa8f-49e7-b4c5-8e00fd1c2795",
   "metadata": {},
   "source": [
    "Function to apply to each column that has categorical data so they can be one-hot encoded."
   ]
  },
  {
   "cell_type": "code",
   "execution_count": 25,
   "id": "9d1e7b4f-2e6a-4b5a-8b3b-6123e179013a",
   "metadata": {},
   "outputs": [],
   "source": [
    "def one_hot_encode(col):\n",
    "    col_array = np.array(col)\n",
    "    col_array = col_array.reshape(-1,1)\n",
    "    col_array = enc.fit_transform(col_array).toarray()\n",
    "    new_df = pd.DataFrame(col_array, columns=list(enc.categories_))\n",
    "    new_df.columns = new_df.columns.get_level_values(0)\n",
    "    return new_df\n",
    "    "
   ]
  },
  {
   "cell_type": "markdown",
   "id": "d7e7bdca-7c4b-40a8-b8a3-697ace8e2367",
   "metadata": {},
   "source": [
    "### Columns to encode"
   ]
  },
  {
   "cell_type": "code",
   "execution_count": 26,
   "id": "e861348f-7433-4f79-80fd-69f6d882b369",
   "metadata": {},
   "outputs": [],
   "source": [
    "df_workclass = one_hot_encode(df.workclass)\n",
    "df_education = one_hot_encode(df.education)\n",
    "df_marital_status = one_hot_encode(df.marital_status)\n",
    "df_occupation = one_hot_encode(df.occupation)\n",
    "df_relationship = one_hot_encode(df.relationship)\n",
    "df_race = one_hot_encode(df.race)\n",
    "df_sex = one_hot_encode(df.sex)\n",
    "df_native_country = one_hot_encode(df.native_country)"
   ]
  },
  {
   "cell_type": "markdown",
   "id": "5ece1964-ca74-4f0b-a673-a4ff2a26cdb8",
   "metadata": {},
   "source": [
    "Drop the original columns from the data set, we'll add them back as one-hot encoded."
   ]
  },
  {
   "cell_type": "code",
   "execution_count": 27,
   "id": "ded7e3ed-401c-4c94-9c3c-13ac6b73c4c6",
   "metadata": {},
   "outputs": [],
   "source": [
    "df.drop(['workclass', 'education', 'marital_status', \n",
    "          'occupation', 'relationship', 'race', 'sex',\n",
    "          'native_country'], axis=1, inplace=True)"
   ]
  },
  {
   "cell_type": "markdown",
   "id": "ef46a4a4-1d5f-43d2-9091-7a79378c1e2d",
   "metadata": {},
   "source": [
    "Save non-categorical columns to a file. Might do an analysis on this."
   ]
  },
  {
   "cell_type": "code",
   "execution_count": 28,
   "id": "47e78d24-41a4-4583-b7df-0c91030f5702",
   "metadata": {},
   "outputs": [],
   "source": [
    "df.to_csv('adult_census/short_census.csv', index=False)"
   ]
  },
  {
   "cell_type": "markdown",
   "id": "f56a3da3-3292-4498-8127-90641a7aaee5",
   "metadata": {},
   "source": [
    "Put salary into outcome array"
   ]
  },
  {
   "cell_type": "code",
   "execution_count": 29,
   "id": "f65d065c-d344-4022-ae18-9588e1246b5c",
   "metadata": {},
   "outputs": [],
   "source": [
    "y = df['salary']"
   ]
  },
  {
   "cell_type": "code",
   "execution_count": 30,
   "id": "df3ebac8-9785-4c71-a270-ede7f7f5b6bf",
   "metadata": {},
   "outputs": [],
   "source": [
    "df.drop(['salary'], axis=1, inplace=True)"
   ]
  },
  {
   "cell_type": "code",
   "execution_count": 31,
   "id": "a75e5921-e84d-4135-ba01-01d9e9f4b57c",
   "metadata": {},
   "outputs": [],
   "source": [
    "X = pd.concat([df, df_workclass, df_education, df_marital_status,\n",
    "                      df_occupation, df_relationship, df_race,\n",
    "                      df_sex, df_native_country], axis=1)"
   ]
  },
  {
   "cell_type": "code",
   "execution_count": null,
   "id": "421a1da1-0af4-43e7-a52a-5ce9a268d22d",
   "metadata": {},
   "outputs": [],
   "source": [
    "pd.set_option('display.max_columns', None)"
   ]
  },
  {
   "cell_type": "markdown",
   "id": "5899a1d7-452d-487f-b8c9-beee14e75d99",
   "metadata": {},
   "source": [
    "Set up training/testing sets."
   ]
  },
  {
   "cell_type": "code",
   "execution_count": 32,
   "id": "3c3457fc-3dbd-4d71-b9f2-dcc4e9a881aa",
   "metadata": {},
   "outputs": [],
   "source": [
    "X_train, X_test, y_train, y_test = train_test_split(X,y, test_size=.20, random_state=32)"
   ]
  },
  {
   "cell_type": "markdown",
   "id": "80ceb99e-8bd1-4578-bff9-205b59a099c9",
   "metadata": {},
   "source": [
    "Fit the model"
   ]
  },
  {
   "cell_type": "code",
   "execution_count": 35,
   "id": "1b9a9402-b2ec-4282-bd7e-10672376c439",
   "metadata": {},
   "outputs": [
    {
     "data": {
      "text/plain": [
       "0.7916474742822048"
      ]
     },
     "execution_count": 35,
     "metadata": {},
     "output_type": "execute_result"
    }
   ],
   "source": [
    "neigh = KNeighborsClassifier(n_neighbors=2)\n",
    "neigh.fit(X_train,y_train)\n",
    "y_pred = neigh.predict(X_test)\n",
    "neigh.score(X_test,y_test)"
   ]
  },
  {
   "cell_type": "code",
   "execution_count": null,
   "id": "718b819a-a86b-4f5e-a81c-74eb11446613",
   "metadata": {},
   "outputs": [],
   "source": []
  }
 ],
 "metadata": {
  "kernelspec": {
   "display_name": "Python 3 (ipykernel)",
   "language": "python",
   "name": "python3"
  },
  "language_info": {
   "codemirror_mode": {
    "name": "ipython",
    "version": 3
   },
   "file_extension": ".py",
   "mimetype": "text/x-python",
   "name": "python",
   "nbconvert_exporter": "python",
   "pygments_lexer": "ipython3",
   "version": "3.9.7"
  }
 },
 "nbformat": 4,
 "nbformat_minor": 5
}
