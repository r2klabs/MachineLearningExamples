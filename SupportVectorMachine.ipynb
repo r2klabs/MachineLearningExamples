{
 "cells": [
  {
   "cell_type": "markdown",
   "id": "8fbbf004-759e-42cb-9364-c88a399102fe",
   "metadata": {},
   "source": [
    "#  Support Vector Machine"
   ]
  },
  {
   "cell_type": "code",
   "execution_count": 1,
   "id": "776bedb8-27f0-445a-836e-9da0127021a3",
   "metadata": {},
   "outputs": [],
   "source": [
    "import pandas as pd\n",
    "import numpy as np\n",
    "import matplotlib.pyplot as plt\n",
    "import seaborn as sns\n",
    "%matplotlib inline\n",
    "\n",
    "#Linear Regression (for comparison)\n",
    "from sklearn.linear_model import LinearRegression\n",
    "\n",
    "#Support Vector Machine\n",
    "from sklearn import svm\n",
    "\n",
    "#Provides a way to split the data into train and test data sets.\n",
    "from sklearn.model_selection import train_test_split \n",
    "\n",
    "#Provides a way to calculate metrics on the model\n",
    "from sklearn.metrics import accuracy_score, confusion_matrix, classification_report\n",
    "#from sklearn.metrics import roc_curve,  roc_auc_score"
   ]
  },
  {
   "cell_type": "markdown",
   "id": "e28552b0-dc89-40be-96d2-65eacde152ad",
   "metadata": {},
   "source": [
    "The math is complicated. The thing to remember is that SVM transforms the data so that a classification can be made where the original data using what it is called the \"kernel trick\"."
   ]
  },
  {
   "cell_type": "code",
   "execution_count": 2,
   "id": "30eccf57-1381-45f9-a11a-facc5134b0ef",
   "metadata": {},
   "outputs": [],
   "source": [
    "df = pd.read_csv('regression.csv')"
   ]
  },
  {
   "cell_type": "code",
   "execution_count": 3,
   "id": "e6cdb4df-69c3-4476-9a20-171ae3f1c018",
   "metadata": {},
   "outputs": [
    {
     "data": {
      "text/plain": [
       "<matplotlib.collections.PathCollection at 0x7f59cd6c27c0>"
      ]
     },
     "execution_count": 3,
     "metadata": {},
     "output_type": "execute_result"
    },
    {
     "data": {
      "image/png": "[encoded data removed]",
      "text/plain": [
       "<Figure size 432x288 with 1 Axes>"
      ]
     },
     "metadata": {
      "needs_background": "light"
     },
     "output_type": "display_data"
    }
   ],
   "source": [
    "plt.scatter(df.x,df.y)"
   ]
  },
  {
   "cell_type": "code",
   "execution_count": 4,
   "id": "e4d22230-2447-4540-b8df-eb3aeae8aa4f",
   "metadata": {},
   "outputs": [],
   "source": [
    "X = np.array(df.x).reshape(-1,1)\n",
    "y = np.array(df.y).reshape(-1,1)"
   ]
  },
  {
   "cell_type": "code",
   "execution_count": 5,
   "id": "ee6ca33c-20a7-4cf2-8210-553e6729c1dd",
   "metadata": {},
   "outputs": [
    {
     "data": {
      "text/plain": [
       "LinearRegression()"
      ]
     },
     "execution_count": 5,
     "metadata": {},
     "output_type": "execute_result"
    }
   ],
   "source": [
    "model1 = LinearRegression()\n",
    "model1.fit(X, y)"
   ]
  },
  {
   "cell_type": "code",
   "execution_count": 6,
   "id": "55c49314-a9cc-41c0-96b6-5c734a01b5c2",
   "metadata": {},
   "outputs": [],
   "source": [
    "y_pred_linear = model1.predict(X)"
   ]
  },
  {
   "cell_type": "code",
   "execution_count": 7,
   "id": "1581888a-c28e-41dc-b751-09cbd69fabf2",
   "metadata": {},
   "outputs": [
    {
     "data": {
      "text/plain": [
       "[<matplotlib.lines.Line2D at 0x7f59cd57b250>]"
      ]
     },
     "execution_count": 7,
     "metadata": {},
     "output_type": "execute_result"
    },
    {
     "data": {
      "image/png": "[encoded data removed]",
      "text/plain": [
       "<Figure size 432x288 with 1 Axes>"
      ]
     },
     "metadata": {
      "needs_background": "light"
     },
     "output_type": "display_data"
    }
   ],
   "source": [
    "plt.scatter(df.x,df.y)\n",
    "plt.plot(X,y_pred_linear, color='red')"
   ]
  },
  {
   "cell_type": "code",
   "execution_count": 8,
   "id": "094edb8e-b29c-4628-aa59-12e5c254e7d0",
   "metadata": {},
   "outputs": [
    {
     "data": {
      "text/plain": [
       "0.9417543949390978"
      ]
     },
     "execution_count": 8,
     "metadata": {},
     "output_type": "execute_result"
    }
   ],
   "source": [
    "model1.score(X, y)"
   ]
  },
  {
   "cell_type": "code",
   "execution_count": 20,
   "id": "563d3a26-419b-4326-a24b-56d1e35e7988",
   "metadata": {},
   "outputs": [
    {
     "data": {
      "text/plain": [
       "SVR(coef0=5)"
      ]
     },
     "execution_count": 20,
     "metadata": {},
     "output_type": "execute_result"
    }
   ],
   "source": [
    "clf = svm.SVR(kernel='rbf', coef0=5)\n",
    "clf.fit(X,np.ravel(y))"
   ]
  },
  {
   "cell_type": "code",
   "execution_count": 21,
   "id": "e11f6774-3586-421d-9b42-f8cc1a438a1e",
   "metadata": {},
   "outputs": [],
   "source": [
    "y_pred_svm = clf.predict(X)"
   ]
  },
  {
   "cell_type": "code",
   "execution_count": 22,
   "id": "f7e2e891-c7cf-4754-976e-d02745bfc805",
   "metadata": {},
   "outputs": [
    {
     "data": {
      "text/plain": [
       "[<matplotlib.lines.Line2D at 0x7f59cd3d1fd0>]"
      ]
     },
     "execution_count": 22,
     "metadata": {},
     "output_type": "execute_result"
    },
    {
     "data": {
      "image/png": "[encoded data removed]",
      "text/plain": [
       "<Figure size 432x288 with 1 Axes>"
      ]
     },
     "metadata": {
      "needs_background": "light"
     },
     "output_type": "display_data"
    }
   ],
   "source": [
    "plt.scatter(X,y)\n",
    "plt.plot(X,y_pred_svm, color='red')"
   ]
  },
  {
   "cell_type": "code",
   "execution_count": 19,
   "id": "401e9614-db81-4055-8069-ca1fc45afca9",
   "metadata": {},
   "outputs": [
    {
     "data": {
      "text/plain": [
       "0.9732797879194465"
      ]
     },
     "execution_count": 19,
     "metadata": {},
     "output_type": "execute_result"
    }
   ],
   "source": [
    "clf.score(X,y)"
   ]
  },
  {
   "cell_type": "code",
   "execution_count": null,
   "id": "76d6cc45-3f6e-405b-94b9-bef72773ce1f",
   "metadata": {},
   "outputs": [],
   "source": []
  }
 ],
 "metadata": {
  "kernelspec": {
   "display_name": "Python 3 (ipykernel)",
   "language": "python",
   "name": "python3"
  },
  "language_info": {
   "codemirror_mode": {
    "name": "ipython",
    "version": 3
   },
   "file_extension": ".py",
   "mimetype": "text/x-python",
   "name": "python",
   "nbconvert_exporter": "python",
   "pygments_lexer": "ipython3",
   "version": "3.9.7"
  }
 },
 "nbformat": 4,
 "nbformat_minor": 5
}
